{
 "cells": [
  {
   "cell_type": "markdown",
   "id": "a567e30b",
   "metadata": {},
   "source": [
    "# Serine codon landscape\n",
    "\n",
    "Serine is the only aminoacid that is encoded by two sets of mutationally disconnected codons under the standard genetic code.\n",
    "\n",
    "- AGY: {AGU,AGC}\n",
    "- UCN: {UCA,UCC,UCG,UCU}\n",
    "\n",
    "This leads to a landscape with two isolated fitness peaks that we can easily visualize\n",
    "\n",
    "## 1. Defining the discrete space\n",
    "\n",
    "The first thing we need to do is to define the discrete space for the evolutionary random walk. While we provide a generic class DiscreteSpace to define an arbitrary discrete space based on the adjacency matrix and nodes properties on which the transition between states may depend, we are going to use the class SequenceSpace that has specific built-in properties and methods specifically for sequence space."
   ]
  },
  {
   "cell_type": "code",
   "execution_count": 1,
   "id": "11574b74",
   "metadata": {},
   "outputs": [],
   "source": [
    "# Import required libraries\n",
    "import pandas as pd\n",
    "from gpmap.src.space import SequenceSpace"
   ]
  },
  {
   "cell_type": "markdown",
   "id": "2ea705dd",
   "metadata": {},
   "source": [
    "After importing the required libraries, we can read the fitness values that we have previously generated. In this artificial example, we assigned fitnesses in the following way:\n",
    "\n",
    "- w=2 to codons encoding Serine\n",
    "- w=1 to codons encoding other aminoacides\n",
    "- w=0 to stop codons\n",
    "\n",
    "We also added some small perturbation to the fitnesses of the individual codons that could account for codon usage biases, but also allow better separation of the genotypes in the low dimensional representation. We provide different ways to generate this particular landscape\n",
    "\n",
    "### Directly from function data\n"
   ]
  },
  {
   "cell_type": "code",
   "execution_count": 3,
   "id": "81778ec8",
   "metadata": {},
   "outputs": [
    {
     "data": {
      "text/html": [
       "<div>\n",
       "<style scoped>\n",
       "    .dataframe tbody tr th:only-of-type {\n",
       "        vertical-align: middle;\n",
       "    }\n",
       "\n",
       "    .dataframe tbody tr th {\n",
       "        vertical-align: top;\n",
       "    }\n",
       "\n",
       "    .dataframe thead th {\n",
       "        text-align: right;\n",
       "    }\n",
       "</style>\n",
       "<table border=\"1\" class=\"dataframe\">\n",
       "  <thead>\n",
       "    <tr style=\"text-align: right;\">\n",
       "      <th></th>\n",
       "      <th>function</th>\n",
       "    </tr>\n",
       "  </thead>\n",
       "  <tbody>\n",
       "    <tr>\n",
       "      <th>AAA</th>\n",
       "      <td>1.176405</td>\n",
       "    </tr>\n",
       "    <tr>\n",
       "      <th>AAC</th>\n",
       "      <td>1.040016</td>\n",
       "    </tr>\n",
       "    <tr>\n",
       "      <th>AAG</th>\n",
       "      <td>1.097874</td>\n",
       "    </tr>\n",
       "    <tr>\n",
       "      <th>AAU</th>\n",
       "      <td>1.224089</td>\n",
       "    </tr>\n",
       "    <tr>\n",
       "      <th>ACA</th>\n",
       "      <td>1.186756</td>\n",
       "    </tr>\n",
       "  </tbody>\n",
       "</table>\n",
       "</div>"
      ],
      "text/plain": [
       "     function\n",
       "AAA  1.176405\n",
       "AAC  1.040016\n",
       "AAG  1.097874\n",
       "AAU  1.224089\n",
       "ACA  1.186756"
      ]
     },
     "execution_count": 3,
     "metadata": {},
     "output_type": "execute_result"
    }
   ],
   "source": [
    "fpath = '../gpmap/test/data/serine.csv'\n",
    "data = pd.read_csv(fpath, index_col=0)\n",
    "data.head()"
   ]
  },
  {
   "cell_type": "markdown",
   "id": "885e81e8",
   "metadata": {},
   "source": [
    "We can see the simple table that just stores the function value for each sequence, that we will use to create a SequenceSpace object, that has a number of attributes such as number of states, allelese or the alphabet_type, in this case 'rna'"
   ]
  },
  {
   "cell_type": "code",
   "execution_count": 26,
   "id": "012e5a44",
   "metadata": {},
   "outputs": [
    {
     "data": {
      "text/plain": [
       "(64, [4, 4, 4], 'rna')"
      ]
     },
     "execution_count": 26,
     "metadata": {},
     "output_type": "execute_result"
    }
   ],
   "source": [
    "space = SequenceSpace(seq_length=3, alphabet_type='rna', function=data['function'])\n",
    "space.n_states, space.n_alleles, space.alphabet_type"
   ]
  },
  {
   "cell_type": "markdown",
   "id": "73ef298b",
   "metadata": {},
   "source": [
    "### Using codon model\n",
    "\n",
    "Sometimes we may not be able to differentiate between the function or fitnesses of different codons encoding the same aminoacid, but still want to take into account the connectivity at the nucleotide level for visualizing the landscape as in a codon model of evolution.\n",
    "\n",
    "The following table contains the fitnesses associated to each of the 20 aminoacids"
   ]
  },
  {
   "cell_type": "code",
   "execution_count": 27,
   "id": "251dcb04",
   "metadata": {},
   "outputs": [
    {
     "data": {
      "text/html": [
       "<div>\n",
       "<style scoped>\n",
       "    .dataframe tbody tr th:only-of-type {\n",
       "        vertical-align: middle;\n",
       "    }\n",
       "\n",
       "    .dataframe tbody tr th {\n",
       "        vertical-align: top;\n",
       "    }\n",
       "\n",
       "    .dataframe thead th {\n",
       "        text-align: right;\n",
       "    }\n",
       "</style>\n",
       "<table border=\"1\" class=\"dataframe\">\n",
       "  <thead>\n",
       "    <tr style=\"text-align: right;\">\n",
       "      <th></th>\n",
       "      <th>function</th>\n",
       "    </tr>\n",
       "    <tr>\n",
       "      <th>protein</th>\n",
       "      <th></th>\n",
       "    </tr>\n",
       "  </thead>\n",
       "  <tbody>\n",
       "    <tr>\n",
       "      <th>A</th>\n",
       "      <td>1</td>\n",
       "    </tr>\n",
       "    <tr>\n",
       "      <th>C</th>\n",
       "      <td>1</td>\n",
       "    </tr>\n",
       "    <tr>\n",
       "      <th>D</th>\n",
       "      <td>1</td>\n",
       "    </tr>\n",
       "    <tr>\n",
       "      <th>E</th>\n",
       "      <td>1</td>\n",
       "    </tr>\n",
       "    <tr>\n",
       "      <th>F</th>\n",
       "      <td>1</td>\n",
       "    </tr>\n",
       "    <tr>\n",
       "      <th>G</th>\n",
       "      <td>1</td>\n",
       "    </tr>\n",
       "    <tr>\n",
       "      <th>H</th>\n",
       "      <td>1</td>\n",
       "    </tr>\n",
       "    <tr>\n",
       "      <th>I</th>\n",
       "      <td>1</td>\n",
       "    </tr>\n",
       "    <tr>\n",
       "      <th>K</th>\n",
       "      <td>1</td>\n",
       "    </tr>\n",
       "    <tr>\n",
       "      <th>L</th>\n",
       "      <td>1</td>\n",
       "    </tr>\n",
       "    <tr>\n",
       "      <th>M</th>\n",
       "      <td>1</td>\n",
       "    </tr>\n",
       "    <tr>\n",
       "      <th>N</th>\n",
       "      <td>1</td>\n",
       "    </tr>\n",
       "    <tr>\n",
       "      <th>P</th>\n",
       "      <td>1</td>\n",
       "    </tr>\n",
       "    <tr>\n",
       "      <th>Q</th>\n",
       "      <td>1</td>\n",
       "    </tr>\n",
       "    <tr>\n",
       "      <th>R</th>\n",
       "      <td>1</td>\n",
       "    </tr>\n",
       "    <tr>\n",
       "      <th>S</th>\n",
       "      <td>2</td>\n",
       "    </tr>\n",
       "    <tr>\n",
       "      <th>T</th>\n",
       "      <td>1</td>\n",
       "    </tr>\n",
       "    <tr>\n",
       "      <th>V</th>\n",
       "      <td>1</td>\n",
       "    </tr>\n",
       "    <tr>\n",
       "      <th>W</th>\n",
       "      <td>1</td>\n",
       "    </tr>\n",
       "    <tr>\n",
       "      <th>Y</th>\n",
       "      <td>1</td>\n",
       "    </tr>\n",
       "  </tbody>\n",
       "</table>\n",
       "</div>"
      ],
      "text/plain": [
       "         function\n",
       "protein          \n",
       "A               1\n",
       "C               1\n",
       "D               1\n",
       "E               1\n",
       "F               1\n",
       "G               1\n",
       "H               1\n",
       "I               1\n",
       "K               1\n",
       "L               1\n",
       "M               1\n",
       "N               1\n",
       "P               1\n",
       "Q               1\n",
       "R               1\n",
       "S               2\n",
       "T               1\n",
       "V               1\n",
       "W               1\n",
       "Y               1"
      ]
     },
     "execution_count": 27,
     "metadata": {},
     "output_type": "execute_result"
    }
   ],
   "source": [
    "protein_data = pd.read_csv('../gpmap/test/data/serine.protein.csv', index_col=0)\n",
    "protein_data"
   ]
  },
  {
   "cell_type": "code",
   "execution_count": 28,
   "id": "a5874a8c",
   "metadata": {},
   "outputs": [
    {
     "data": {
      "text/plain": [
       "(64, [4, 4, 4], 'rna')"
      ]
     },
     "execution_count": 28,
     "metadata": {},
     "output_type": "execute_result"
    }
   ],
   "source": [
    "space = SequenceSpace(seq_length=3, alphabet_type='rna', function=protein_data['function'],\n",
    "                      codon_table='Standard', stop_function=0)\n",
    "space.n_states, space.n_alleles, space.alphabet_type"
   ]
  },
  {
   "cell_type": "markdown",
   "id": "b5661ba3",
   "metadata": {},
   "source": [
    "### Using CodonSpace class\n",
    "\n",
    "We also provide a more generic CodonSpace class that does this operation for us so that we only need to provide the aminoacid(s) are are going to be under selection, enabling also to visualizing the structure of the landscape corresponding to aminoacids with certain properties"
   ]
  },
  {
   "cell_type": "code",
   "execution_count": 29,
   "id": "5a49d5d4",
   "metadata": {},
   "outputs": [],
   "source": [
    "from gpmap.src.space import CodonSpace"
   ]
  },
  {
   "cell_type": "code",
   "execution_count": 31,
   "id": "3ad810a1",
   "metadata": {},
   "outputs": [
    {
     "data": {
      "text/plain": [
       "(64, [4, 4, 4], 'rna')"
      ]
     },
     "execution_count": 31,
     "metadata": {},
     "output_type": "execute_result"
    }
   ],
   "source": [
    "space = CodonSpace(allowed_aminoacids=['S'], codon_table='Standard', add_variation=True, seed=0)\n",
    "space.n_states, space.n_alleles, space.alphabet_type"
   ]
  },
  {
   "cell_type": "markdown",
   "id": "893e5a64",
   "metadata": {},
   "source": [
    "Note that we could also test how these landscapes would change under different genetic codes other than the standard. We use biopython module to translate the nucleotide sequence into protein sequence using [NCBI reference](https://www.ncbi.nlm.nih.gov/Taxonomy/Utils/wprintgc.cgi) for different codon tables or genetic codes\n",
    "\n",
    "## 2. Defining the random walk in the discrete sequence space\n",
    "\n"
   ]
  }
 ],
 "metadata": {
  "kernelspec": {
   "display_name": "Python 3",
   "language": "python",
   "name": "python3"
  },
  "language_info": {
   "codemirror_mode": {
    "name": "ipython",
    "version": 3
   },
   "file_extension": ".py",
   "mimetype": "text/x-python",
   "name": "python",
   "nbconvert_exporter": "python",
   "pygments_lexer": "ipython3",
   "version": "3.6.13"
  }
 },
 "nbformat": 4,
 "nbformat_minor": 5
}
