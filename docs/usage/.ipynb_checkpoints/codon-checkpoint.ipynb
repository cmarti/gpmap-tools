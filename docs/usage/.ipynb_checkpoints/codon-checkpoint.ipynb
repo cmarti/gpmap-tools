{
 "cells": [
  {
   "cell_type": "markdown",
   "id": "5e89af62",
   "metadata": {},
   "source": [
    "# Codon models\n",
    "\n",
    "Sometimes we may not be able to differentiate between the function or fitnesses of different codons encoding the same aminoacid, but still want to take into account the connectivity at the nucleotide level for visualizing the landscape as in a codon model of evolution.\n",
    "\n",
    "The following table contains the fitnesses associated to each of the 20 aminoacids"
   ]
  },
  {
   "cell_type": "code",
   "execution_count": 3,
   "id": "459376ba",
   "metadata": {},
   "outputs": [],
   "source": [
    "# Import required libraries\n",
    "from os.path import join\n",
    "\n",
    "import pandas as pd\n",
    "import numpy as np\n",
    "\n",
    "from gpmap.src.space import SequenceSpace\n",
    "from gpmap.src.settings import TEST_DATA_DIR"
   ]
  },
  {
   "cell_type": "markdown",
   "id": "214aa8a8",
   "metadata": {},
   "source": [
    "## 1. Serine landscape\n",
    "\n",
    "We can start by simply using the protein data to define a protein space, in this case for sequences of length 1"
   ]
  },
  {
   "cell_type": "code",
   "execution_count": 4,
   "id": "3acee52b",
   "metadata": {},
   "outputs": [
    {
     "data": {
      "text/html": [
       "<div>\n",
       "<style scoped>\n",
       "    .dataframe tbody tr th:only-of-type {\n",
       "        vertical-align: middle;\n",
       "    }\n",
       "\n",
       "    .dataframe tbody tr th {\n",
       "        vertical-align: top;\n",
       "    }\n",
       "\n",
       "    .dataframe thead th {\n",
       "        text-align: right;\n",
       "    }\n",
       "</style>\n",
       "<table border=\"1\" class=\"dataframe\">\n",
       "  <thead>\n",
       "    <tr style=\"text-align: right;\">\n",
       "      <th></th>\n",
       "      <th>function</th>\n",
       "    </tr>\n",
       "    <tr>\n",
       "      <th>protein</th>\n",
       "      <th></th>\n",
       "    </tr>\n",
       "  </thead>\n",
       "  <tbody>\n",
       "    <tr>\n",
       "      <th>A</th>\n",
       "      <td>1</td>\n",
       "    </tr>\n",
       "    <tr>\n",
       "      <th>C</th>\n",
       "      <td>1</td>\n",
       "    </tr>\n",
       "    <tr>\n",
       "      <th>D</th>\n",
       "      <td>1</td>\n",
       "    </tr>\n",
       "    <tr>\n",
       "      <th>E</th>\n",
       "      <td>1</td>\n",
       "    </tr>\n",
       "    <tr>\n",
       "      <th>F</th>\n",
       "      <td>1</td>\n",
       "    </tr>\n",
       "    <tr>\n",
       "      <th>G</th>\n",
       "      <td>1</td>\n",
       "    </tr>\n",
       "    <tr>\n",
       "      <th>H</th>\n",
       "      <td>1</td>\n",
       "    </tr>\n",
       "    <tr>\n",
       "      <th>I</th>\n",
       "      <td>1</td>\n",
       "    </tr>\n",
       "    <tr>\n",
       "      <th>K</th>\n",
       "      <td>1</td>\n",
       "    </tr>\n",
       "    <tr>\n",
       "      <th>L</th>\n",
       "      <td>1</td>\n",
       "    </tr>\n",
       "    <tr>\n",
       "      <th>M</th>\n",
       "      <td>1</td>\n",
       "    </tr>\n",
       "    <tr>\n",
       "      <th>N</th>\n",
       "      <td>1</td>\n",
       "    </tr>\n",
       "    <tr>\n",
       "      <th>P</th>\n",
       "      <td>1</td>\n",
       "    </tr>\n",
       "    <tr>\n",
       "      <th>Q</th>\n",
       "      <td>1</td>\n",
       "    </tr>\n",
       "    <tr>\n",
       "      <th>R</th>\n",
       "      <td>1</td>\n",
       "    </tr>\n",
       "    <tr>\n",
       "      <th>S</th>\n",
       "      <td>2</td>\n",
       "    </tr>\n",
       "    <tr>\n",
       "      <th>T</th>\n",
       "      <td>1</td>\n",
       "    </tr>\n",
       "    <tr>\n",
       "      <th>V</th>\n",
       "      <td>1</td>\n",
       "    </tr>\n",
       "    <tr>\n",
       "      <th>W</th>\n",
       "      <td>1</td>\n",
       "    </tr>\n",
       "    <tr>\n",
       "      <th>Y</th>\n",
       "      <td>1</td>\n",
       "    </tr>\n",
       "  </tbody>\n",
       "</table>\n",
       "</div>"
      ],
      "text/plain": [
       "         function\n",
       "protein          \n",
       "A               1\n",
       "C               1\n",
       "D               1\n",
       "E               1\n",
       "F               1\n",
       "G               1\n",
       "H               1\n",
       "I               1\n",
       "K               1\n",
       "L               1\n",
       "M               1\n",
       "N               1\n",
       "P               1\n",
       "Q               1\n",
       "R               1\n",
       "S               2\n",
       "T               1\n",
       "V               1\n",
       "W               1\n",
       "Y               1"
      ]
     },
     "execution_count": 4,
     "metadata": {},
     "output_type": "execute_result"
    }
   ],
   "source": [
    "fpath = join(TEST_DATA_DIR, 'serine.protein.csv')\n",
    "protein_data = pd.read_csv(fpath, index_col=0)\n",
    "protein_data"
   ]
  },
  {
   "cell_type": "code",
   "execution_count": 5,
   "id": "b275a23e",
   "metadata": {},
   "outputs": [
    {
     "name": "stdout",
     "output_type": "stream",
     "text": [
      "Sequence Space:\n",
      "\tType: protein\n",
      "\tSequence length: 1\n",
      "\tNumber of alleles per site: [20]\n",
      "\tGenotypes: [A,C,D,...,V,W,Y]\n",
      "\tFunction y: [1,1,1,...,1,1,1]\n"
     ]
    }
   ],
   "source": [
    "protein_space = SequenceSpace(X=protein_data.index.values, y=protein_data['function'].values)\n",
    "print(protein_space)"
   ]
  },
  {
   "cell_type": "code",
   "execution_count": 6,
   "id": "5c92d81b",
   "metadata": {
    "scrolled": true
   },
   "outputs": [
    {
     "name": "stdout",
     "output_type": "stream",
     "text": [
      "Sequence Space:\n",
      "\tType: dna\n",
      "\tSequence length: 3\n",
      "\tNumber of alleles per site: [4, 4, 4]\n",
      "\tGenotypes: [AAA,AAC,AAG,...,TTC,TTG,TTT]\n",
      "\tFunction y: [1.00,1.00,1.00,...,1.00,1.00,1.00]\n"
     ]
    }
   ],
   "source": [
    "nc_space = protein_space.to_nucleotide_space(codon_table='Standard', stop_y=0)\n",
    "print(nc_space)"
   ]
  },
  {
   "cell_type": "markdown",
   "id": "e2317703",
   "metadata": {},
   "source": [
    "### Using CodonSpace class\n",
    "\n",
    "We also provide a more generic CodonSpace class that does this operation for us so that we only need to provide the aminoacid(s) are are going to be under selection, enabling also to visualizing the structure of the landscape corresponding to aminoacids with certain properties"
   ]
  },
  {
   "cell_type": "code",
   "execution_count": 8,
   "id": "580485a4",
   "metadata": {},
   "outputs": [],
   "source": [
    "from gpmap.src.space import CodonSpace"
   ]
  },
  {
   "cell_type": "code",
   "execution_count": 9,
   "id": "f95b9f79",
   "metadata": {},
   "outputs": [
    {
     "name": "stdout",
     "output_type": "stream",
     "text": [
      "Sequence Space:\n",
      "\tType: dna\n",
      "\tSequence length: 3\n",
      "\tNumber of alleles per site: [4, 4, 4]\n",
      "\tGenotypes: [AAA,AAC,AAG,...,TTC,TTG,TTT]\n",
      "\tFunction y: [1.18,1.04,1.10,...,0.96,0.92,0.83]\n"
     ]
    }
   ],
   "source": [
    "space = CodonSpace(allowed_aminoacids=['S'], codon_table='Standard', add_variation=True, seed=0)\n",
    "print(space)"
   ]
  },
  {
   "cell_type": "markdown",
   "id": "a9f7a6fc",
   "metadata": {},
   "source": [
    "Note that we could also test how these landscapes would change under different genetic codes other than the standard. We use biopython module to translate the nucleotide sequence into protein sequence using [NCBI reference](https://www.ncbi.nlm.nih.gov/Taxonomy/Utils/wprintgc.cgi) for different codon tables or genetic codes\n"
   ]
  },
  {
   "cell_type": "code",
   "execution_count": null,
   "id": "c42d3290",
   "metadata": {},
   "outputs": [],
   "source": []
  }
 ],
 "metadata": {
  "kernelspec": {
   "display_name": "Python 3 (ipykernel)",
   "language": "python",
   "name": "python3"
  },
  "language_info": {
   "codemirror_mode": {
    "name": "ipython",
    "version": 3
   },
   "file_extension": ".py",
   "mimetype": "text/x-python",
   "name": "python",
   "nbconvert_exporter": "python",
   "pygments_lexer": "ipython3",
   "version": "3.7.11"
  }
 },
 "nbformat": 4,
 "nbformat_minor": 5
}
