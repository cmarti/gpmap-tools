{
 "cells": [
  {
   "cell_type": "markdown",
   "id": "03812395",
   "metadata": {},
   "source": [
    "# How to infer a complete landscape from experimental data\n",
    "\n",
    "In contrast to theoretical or toy landscapes, empirical landscapes that are based on experimental data. Such data is noisy and incomplete, so we need to apply additional methods before we have estimates for every genotype of interest to visualize the structure of the genotype-phenotype map.\n",
    "\n",
    "\n",
    "## Introduction to Variance Component regression\n",
    "\n",
    "We provide a simple interface to perform Variance Component regression. Briefly, VC regression uses the empirical data to estimate a prior distribution to perform Gaussian Process regression on functions over sequence space characterized by the contribution of the different orders of interaction to the sequence-dependent variability in the data.\n",
    "\n",
    "A function $f$ can be decomposed into pure $k$th order functions over sequence space for sequences of length $\\ell$\n",
    "\n",
    "$$f = \\sum_{k=0}^{\\ell} f_k$$\n",
    "\n",
    "Then, we can estimate and predict the phenotype at every possible sequence assuming that the prior is still valid in regions of sequence space or genotypes that have not been experimentally measured\n",
    "\n",
    "\n",
    "For more detailed explanations we refer to the original paper\n",
    "\n",
    "- Zhou, J.; Wong, M. S.; Chen, W.; Krainer, A. R.; Justin, B.; Mccandlish, D. M. Higher-Order Epistasis and Phenotypic Prediction. Proc. Natl. Acad. Sci. USA 2022, 119 (39). [https://doi.org/10.1073/pnas.2204233119](https://doi.org/10.1073/pnas.2204233119).\n",
    "\n"
   ]
  },
  {
   "cell_type": "code",
   "execution_count": 1,
   "id": "f34627a2",
   "metadata": {},
   "outputs": [],
   "source": [
    "# Import required libraries\n",
    "import pandas as pd\n",
    "import numpy as np\n",
    "import seaborn as sns\n",
    "import holoviews as hv\n",
    "import matplotlib.pyplot as plt\n",
    "import gpmap.src.plot as plot\n",
    "\n",
    "from os.path import join\n",
    "from scipy.stats import pearsonr\n",
    "from gpmap.src.datasets import DataSet\n",
    "from gpmap.src.inference import VCregression"
   ]
  },
  {
   "cell_type": "markdown",
   "id": "48dc85f2",
   "metadata": {},
   "source": [
    "## Inference from simulated data\n",
    "\n",
    "We first illustrate how to run VC regression on simulated data from the prior distribution characterized by the variance components $\\lambda$'s of each order of interaction. \n",
    "\n",
    "### How to sample functions from the prior distribution\n",
    "\n",
    "A simple way to sample from the prior distribution is by sampling a random uncorrelated function $a$\n",
    "\n",
    "$$a \\sim Normal(0, 1)$$\n",
    "\n",
    "project it into the different subspaces using the projection operator $W_k$, rescale them to have the associated variance and add them up together\n",
    "\n",
    "$$f = \\sum_{k=0}^{\\ell}\\lambda_k^{\\frac{1}{2}}W_k a$$\n",
    "\n",
    "We can do it simply as follows, adding some random noise and missing data points for which we can make predictions later"
   ]
  },
  {
   "cell_type": "code",
   "execution_count": 2,
   "id": "838329b0",
   "metadata": {},
   "outputs": [
    {
     "data": {
      "text/html": [
       "<div>\n",
       "<style scoped>\n",
       "    .dataframe tbody tr th:only-of-type {\n",
       "        vertical-align: middle;\n",
       "    }\n",
       "\n",
       "    .dataframe tbody tr th {\n",
       "        vertical-align: top;\n",
       "    }\n",
       "\n",
       "    .dataframe thead th {\n",
       "        text-align: right;\n",
       "    }\n",
       "</style>\n",
       "<table border=\"1\" class=\"dataframe\">\n",
       "  <thead>\n",
       "    <tr style=\"text-align: right;\">\n",
       "      <th></th>\n",
       "      <th>y_true</th>\n",
       "      <th>y</th>\n",
       "      <th>y_var</th>\n",
       "    </tr>\n",
       "  </thead>\n",
       "  <tbody>\n",
       "    <tr>\n",
       "      <th>AAAAAA</th>\n",
       "      <td>-0.207772</td>\n",
       "      <td>0.118123</td>\n",
       "      <td>0.04</td>\n",
       "    </tr>\n",
       "    <tr>\n",
       "      <th>AAAAAC</th>\n",
       "      <td>-1.686822</td>\n",
       "      <td>-1.706631</td>\n",
       "      <td>0.04</td>\n",
       "    </tr>\n",
       "    <tr>\n",
       "      <th>AAAAAT</th>\n",
       "      <td>2.064266</td>\n",
       "      <td>1.774501</td>\n",
       "      <td>0.04</td>\n",
       "    </tr>\n",
       "    <tr>\n",
       "      <th>AAAACA</th>\n",
       "      <td>1.263788</td>\n",
       "      <td>0.920955</td>\n",
       "      <td>0.04</td>\n",
       "    </tr>\n",
       "    <tr>\n",
       "      <th>AAAACC</th>\n",
       "      <td>0.818644</td>\n",
       "      <td>0.808716</td>\n",
       "      <td>0.04</td>\n",
       "    </tr>\n",
       "    <tr>\n",
       "      <th>...</th>\n",
       "      <td>...</td>\n",
       "      <td>...</td>\n",
       "      <td>...</td>\n",
       "    </tr>\n",
       "    <tr>\n",
       "      <th>TTTTGG</th>\n",
       "      <td>-1.030013</td>\n",
       "      <td>-0.713674</td>\n",
       "      <td>0.04</td>\n",
       "    </tr>\n",
       "    <tr>\n",
       "      <th>TTTTGT</th>\n",
       "      <td>2.345377</td>\n",
       "      <td>2.364254</td>\n",
       "      <td>0.04</td>\n",
       "    </tr>\n",
       "    <tr>\n",
       "      <th>TTTTTC</th>\n",
       "      <td>-1.461869</td>\n",
       "      <td>-1.328660</td>\n",
       "      <td>0.04</td>\n",
       "    </tr>\n",
       "    <tr>\n",
       "      <th>TTTTTG</th>\n",
       "      <td>-2.741072</td>\n",
       "      <td>-2.634664</td>\n",
       "      <td>0.04</td>\n",
       "    </tr>\n",
       "    <tr>\n",
       "      <th>TTTTTT</th>\n",
       "      <td>-3.622349</td>\n",
       "      <td>-3.832511</td>\n",
       "      <td>0.04</td>\n",
       "    </tr>\n",
       "  </tbody>\n",
       "</table>\n",
       "<p>3658 rows × 3 columns</p>\n",
       "</div>"
      ],
      "text/plain": [
       "          y_true         y  y_var\n",
       "AAAAAA -0.207772  0.118123   0.04\n",
       "AAAAAC -1.686822 -1.706631   0.04\n",
       "AAAAAT  2.064266  1.774501   0.04\n",
       "AAAACA  1.263788  0.920955   0.04\n",
       "AAAACC  0.818644  0.808716   0.04\n",
       "...          ...       ...    ...\n",
       "TTTTGG -1.030013 -0.713674   0.04\n",
       "TTTTGT  2.345377  2.364254   0.04\n",
       "TTTTTC -1.461869 -1.328660   0.04\n",
       "TTTTTG -2.741072 -2.634664   0.04\n",
       "TTTTTT -3.622349 -3.832511   0.04\n",
       "\n",
       "[3658 rows x 3 columns]"
      ]
     },
     "execution_count": 2,
     "metadata": {},
     "output_type": "execute_result"
    }
   ],
   "source": [
    "np.random.seed(0)\n",
    "lambdas_true = np.array([0, 1e3, 2e2, 1e0, 1e-1, 3e-3, 1e-5])\n",
    "\n",
    "model = VCregression()\n",
    "model.init(seq_length=6, alphabet_type='dna')\n",
    "data = model.simulate(lambdas_true, sigma=0.2, p_missing=0.1)\n",
    "obs = data.dropna()\n",
    "obs"
   ]
  },
  {
   "cell_type": "markdown",
   "id": "ce611af4",
   "metadata": {},
   "source": [
    "### How to estimate Variance Components $\\lambda$'s\n",
    "\n",
    "This is done through kernel alignment, this is, matching the raw second order matrix with a non-negative linear combination of the covariance matrices associated to each pure $k$ order component \n",
    "\n",
    "$$K_{BB} = D_{var} + \\sum_k \\lambda_k K_k$$\n",
    "\n",
    "by finding the $\\lambda$'s that minimize the Frobenius norm of the difference\n",
    "\n",
    "$$\\min_{\\lambda} \\lVert yy^T - K_{BB}\\lVert_F^2$$\n",
    "\n",
    "\n"
   ]
  },
  {
   "cell_type": "code",
   "execution_count": 3,
   "id": "5ccde983",
   "metadata": {},
   "outputs": [],
   "source": [
    "lambdas = model.fit(X=obs.index.values, y=obs.y.values, y_var=obs.y_var.values)\n",
    "vc = model.lambdas_to_variance(lambdas)\n",
    "vc_p = vc / vc.sum() * 100"
   ]
  },
  {
   "cell_type": "code",
   "execution_count": 4,
   "id": "c6131627",
   "metadata": {},
   "outputs": [
    {
     "data": {
      "image/png": "[encoded data removed]",
      "text/plain": [
       "<Figure size 864x252 with 3 Axes>"
      ]
     },
     "metadata": {
      "needs_background": "light"
     },
     "output_type": "display_data"
    }
   ],
   "source": [
    "k = np.arange(lambdas.shape[0])\n",
    "\n",
    "fig, subplots = plt.subplots(1, 3, figsize=(12, 3.5))\n",
    "\n",
    "axes = subplots[0]\n",
    "sns.barplot(x=k, y=lambdas, ax=axes, color='black')\n",
    "axes.set(xlabel='k', ylabel=r'$\\lambda_k$', yscale='log')\n",
    "\n",
    "axes = subplots[1]\n",
    "sns.barplot(x=k[1:], y=vc_p, ax=axes, color='black')\n",
    "axes.set(xlabel='k', ylabel='% variance explained')\n",
    "\n",
    "axes = subplots[2]\n",
    "axes.scatter(lambdas_true, lambdas, c='black')\n",
    "lims = (1e-6, 1e4)\n",
    "axes.plot(lims, lims, c='grey', lw=0.3, alpha=0.5)\n",
    "axes.set(xscale='log', yscale='log',\n",
    "         xlabel=r'True $\\lambda_k$',\n",
    "         ylabel=r'Inferred $\\lambda_k$',\n",
    "         xlim=lims, ylim=lims)\n",
    "\n",
    "fig.tight_layout()"
   ]
  },
  {
   "cell_type": "markdown",
   "id": "cff9aee0",
   "metadata": {},
   "source": [
    "We can see that the inferred variance components are very similar in log scale to the true data-generating parameters. \n",
    "\n",
    "However, when data is sparse, kernel alignment is a hard problem and we need to regularize towards simpler solutions. While we could shrink towards additivity, another good general choice that still models high order interactions is towards exponential decay of the variance components. We can do it by setting `cross_validation=True` and penalizing the second order moments of the $\\log \\lambda_k$ as a function of $k$. It will automatically split the data into different folds and perform kernel alignment under different regularization strength to find the penalization constant that minimizes the Frobenius norm in the validation sets."
   ]
  },
  {
   "cell_type": "code",
   "execution_count": 5,
   "id": "36b593fa",
   "metadata": {},
   "outputs": [
    {
     "name": "stderr",
     "output_type": "stream",
     "text": [
      " 18%|███████▍                                 | 18/100 [00:04<00:22,  3.67it/s]/home/cmarti/Programs/miniconda3/envs/gpmap/lib/python3.8/site-packages/gpmap_tools-0.1.2-py3.8.egg/gpmap/src/kernel.py:247: RuntimeWarning: overflow encountered in exp\n",
      "  lambdas = np.exp(log_lambdas)\n",
      "/home/cmarti/Programs/miniconda3/envs/gpmap/lib/python3.8/site-packages/gpmap_tools-0.1.2-py3.8.egg/gpmap/src/kernel.py:250: RuntimeWarning: invalid value encountered in double_scalars\n",
      "  Frob = Frob1 - Frob2\n",
      "/home/cmarti/.local/lib/python3.8/site-packages/scipy/optimize/optimize.py:2149: RuntimeWarning: invalid value encountered in double_scalars\n",
      "  tmp2 = (x - v) * (fx - fw)\n",
      " 19%|███████▊                                 | 19/100 [00:04<00:25,  3.17it/s]/home/cmarti/Programs/miniconda3/envs/gpmap/lib/python3.8/site-packages/gpmap_tools-0.1.2-py3.8.egg/gpmap/src/kernel.py:247: RuntimeWarning: overflow encountered in exp\n",
      "  lambdas = np.exp(log_lambdas)\n",
      "/home/cmarti/Programs/miniconda3/envs/gpmap/lib/python3.8/site-packages/gpmap_tools-0.1.2-py3.8.egg/gpmap/src/kernel.py:250: RuntimeWarning: invalid value encountered in double_scalars\n",
      "  Frob = Frob1 - Frob2\n",
      " 37%|███████████████▏                         | 37/100 [00:08<00:17,  3.60it/s]/home/cmarti/Programs/miniconda3/envs/gpmap/lib/python3.8/site-packages/gpmap_tools-0.1.2-py3.8.egg/gpmap/src/kernel.py:247: RuntimeWarning: overflow encountered in exp\n",
      "  lambdas = np.exp(log_lambdas)\n",
      "/home/cmarti/Programs/miniconda3/envs/gpmap/lib/python3.8/site-packages/gpmap_tools-0.1.2-py3.8.egg/gpmap/src/kernel.py:250: RuntimeWarning: invalid value encountered in double_scalars\n",
      "  Frob = Frob1 - Frob2\n",
      "100%|████████████████████████████████████████| 100/100 [00:22<00:00,  4.37it/s]\n"
     ]
    }
   ],
   "source": [
    "cvmodel = VCregression(cross_validation=True)\n",
    "lambdas = cvmodel.fit(X=obs.index.values, y=obs.y.values, y_var=obs.y_var.values)"
   ]
  },
  {
   "cell_type": "markdown",
   "id": "2d076922",
   "metadata": {},
   "source": [
    "By default, the validation loss is also the Frobenius norm as well, but we can select it to use the $R^2$ on the or the log-likelihood on validation set if we want to take into account the known measurement errors by specifying either `cv_loss_function='r2'` or `cv_loss_function='logL'`."
   ]
  },
  {
   "cell_type": "code",
   "execution_count": 6,
   "id": "a11c39ff",
   "metadata": {
    "scrolled": true
   },
   "outputs": [
    {
     "name": "stderr",
     "output_type": "stream",
     "text": [
      "100%|████████████████████████████████████████| 100/100 [00:36<00:00,  2.73it/s]\n"
     ]
    }
   ],
   "source": [
    "cvmodel = VCregression(cross_validation=True, cv_loss_function='logL')\n",
    "lambdas = cvmodel.fit(X=obs.index.values, y=obs.y.values, y_var=obs.y_var.values)"
   ]
  },
  {
   "cell_type": "markdown",
   "id": "4f6cc3bc",
   "metadata": {},
   "source": [
    "### Uniform measurement noise in variance components\n",
    "\n",
    "We have seen that higher order components are less accurately estimated given their small contribution and the presence of measurement noise. In fact, large uniform measurement noise or, equivalently, a House of Cards (HoC) component will manifest as a constant increase in the variance components that will hinder estimation of high order components even if we exactly know the variance of the measurement error at sequence."
   ]
  },
  {
   "cell_type": "code",
   "execution_count": 12,
   "id": "40177825",
   "metadata": {},
   "outputs": [],
   "source": [
    "data2 = model.simulate(lambdas_true, sigma=0.5)\n",
    "lambdas = model.fit(X=data2.index.values, y=data2.y.values, y_var=data2.y_var.values)"
   ]
  },
  {
   "cell_type": "code",
   "execution_count": 16,
   "id": "050ae27d",
   "metadata": {},
   "outputs": [
    {
     "data": {
      "image/png": "[encoded data removed]",
      "text/plain": [
       "<Figure size 288x288 with 1 Axes>"
      ]
     },
     "metadata": {
      "needs_background": "light"
     },
     "output_type": "display_data"
    }
   ],
   "source": [
    "fig, axes = plt.subplots(1, 1, figsize=(4, 4))\n",
    "\n",
    "axes.scatter(lambdas_true, lambdas, c='black')\n",
    "lims = (1e-6, 1e4)\n",
    "axes.plot(lims, lims, c='grey', lw=0.3, alpha=0.5)\n",
    "axes.plot(lims, (0.25, 0.25), c='darkred', lw=0.3, \n",
    "          label=r'$\\sigma^2$', linestyle='--')\n",
    "axes.set(xscale='log', yscale='log',\n",
    "         xlabel=r'True $\\lambda_k$',\n",
    "         ylabel=r'Inferred $\\lambda_k$',\n",
    "         xlim=lims, ylim=lims,\n",
    "         aspect=1)\n",
    "axes.legend(loc=4)\n",
    "\n",
    "fig.tight_layout()"
   ]
  },
  {
   "cell_type": "markdown",
   "id": "a9dcb37f",
   "metadata": {},
   "source": [
    "### How to obtain phenotypic predictions\n",
    "\n",
    "Once we know the parameters of the Variance Component kernel, this is, the variance components $\\lambda_k$, we can directly compute the mean and variance of the posterior distribution of the function for every possible sequence"
   ]
  },
  {
   "cell_type": "code",
   "execution_count": 17,
   "id": "16df54ca",
   "metadata": {},
   "outputs": [
    {
     "data": {
      "text/html": [
       "<div>\n",
       "<style scoped>\n",
       "    .dataframe tbody tr th:only-of-type {\n",
       "        vertical-align: middle;\n",
       "    }\n",
       "\n",
       "    .dataframe tbody tr th {\n",
       "        vertical-align: top;\n",
       "    }\n",
       "\n",
       "    .dataframe thead th {\n",
       "        text-align: right;\n",
       "    }\n",
       "</style>\n",
       "<table border=\"1\" class=\"dataframe\">\n",
       "  <thead>\n",
       "    <tr style=\"text-align: right;\">\n",
       "      <th></th>\n",
       "      <th>ypred</th>\n",
       "    </tr>\n",
       "  </thead>\n",
       "  <tbody>\n",
       "    <tr>\n",
       "      <th>AAAAAA</th>\n",
       "      <td>-0.197050</td>\n",
       "    </tr>\n",
       "    <tr>\n",
       "      <th>AAAAAC</th>\n",
       "      <td>-1.667246</td>\n",
       "    </tr>\n",
       "    <tr>\n",
       "      <th>AAAAAG</th>\n",
       "      <td>-0.525272</td>\n",
       "    </tr>\n",
       "    <tr>\n",
       "      <th>AAAAAT</th>\n",
       "      <td>1.877927</td>\n",
       "    </tr>\n",
       "    <tr>\n",
       "      <th>AAAACA</th>\n",
       "      <td>0.967353</td>\n",
       "    </tr>\n",
       "    <tr>\n",
       "      <th>...</th>\n",
       "      <td>...</td>\n",
       "    </tr>\n",
       "    <tr>\n",
       "      <th>TTTTGT</th>\n",
       "      <td>2.400213</td>\n",
       "    </tr>\n",
       "    <tr>\n",
       "      <th>TTTTTA</th>\n",
       "      <td>-4.285704</td>\n",
       "    </tr>\n",
       "    <tr>\n",
       "      <th>TTTTTC</th>\n",
       "      <td>-1.509820</td>\n",
       "    </tr>\n",
       "    <tr>\n",
       "      <th>TTTTTG</th>\n",
       "      <td>-2.761167</td>\n",
       "    </tr>\n",
       "    <tr>\n",
       "      <th>TTTTTT</th>\n",
       "      <td>-3.884073</td>\n",
       "    </tr>\n",
       "  </tbody>\n",
       "</table>\n",
       "<p>4096 rows × 1 columns</p>\n",
       "</div>"
      ],
      "text/plain": [
       "           ypred\n",
       "AAAAAA -0.197050\n",
       "AAAAAC -1.667246\n",
       "AAAAAG -0.525272\n",
       "AAAAAT  1.877927\n",
       "AAAACA  0.967353\n",
       "...          ...\n",
       "TTTTGT  2.400213\n",
       "TTTTTA -4.285704\n",
       "TTTTTC -1.509820\n",
       "TTTTTG -2.761167\n",
       "TTTTTT -3.884073\n",
       "\n",
       "[4096 rows x 1 columns]"
      ]
     },
     "execution_count": 17,
     "metadata": {},
     "output_type": "execute_result"
    }
   ],
   "source": [
    "model.fit(X=obs.index.values, y=obs.y.values, y_var=obs.y_var.values)\n",
    "pred = model.predict()\n",
    "pred"
   ]
  },
  {
   "cell_type": "markdown",
   "id": "3a1b07a8",
   "metadata": {},
   "source": [
    "We can now compare the predictions with the true function at sequences that were not observed and see how good we can predict missing sequences at random in this regime"
   ]
  },
  {
   "cell_type": "code",
   "execution_count": 18,
   "id": "3304d2d9",
   "metadata": {},
   "outputs": [],
   "source": [
    "test = data.loc[np.isnan(data['y']), :].copy()\n",
    "test['pred'] = pred.loc[test.index, 'ypred'].values\n",
    "r2 = pearsonr(test['pred'], test['y_true'])[0] ** 2"
   ]
  },
  {
   "cell_type": "code",
   "execution_count": 19,
   "id": "52faa016",
   "metadata": {},
   "outputs": [
    {
     "data": {
      "image/png": "[encoded data removed]",
      "text/plain": [
       "<Figure size 360x360 with 1 Axes>"
      ]
     },
     "metadata": {
      "needs_background": "light"
     },
     "output_type": "display_data"
    }
   ],
   "source": [
    "fig, axes = plt.subplots(1, 1, figsize=(5, 5))\n",
    "\n",
    "axes.scatter(x=test.y_true, y=test.pred, c='black', alpha=0.2, s=2)\n",
    "ticks = np.arange(-10, 11, 2)\n",
    "axes.set(xlabel=r'$y_{True}$', ylabel=r'$y_{pred}$', aspect=1,\n",
    "         xticks=ticks, yticks=ticks)\n",
    "axes.text(-8, 9, r'$R^2$=' + '{:.3f}'.format(r2))\n",
    "axes.grid(alpha=0.2)"
   ]
  },
  {
   "cell_type": "markdown",
   "id": "97d9d6d9",
   "metadata": {},
   "source": [
    "## Inference from real data: GB1 landscape\n",
    "\n",
    "### Data preprocessing"
   ]
  },
  {
   "cell_type": "code",
   "execution_count": 3,
   "id": "b7a55c7d",
   "metadata": {},
   "outputs": [
    {
     "data": {
      "text/html": [
       "<div>\n",
       "<style scoped>\n",
       "    .dataframe tbody tr th:only-of-type {\n",
       "        vertical-align: middle;\n",
       "    }\n",
       "\n",
       "    .dataframe tbody tr th {\n",
       "        vertical-align: top;\n",
       "    }\n",
       "\n",
       "    .dataframe thead th {\n",
       "        text-align: right;\n",
       "    }\n",
       "</style>\n",
       "<table border=\"1\" class=\"dataframe\">\n",
       "  <thead>\n",
       "    <tr style=\"text-align: right;\">\n",
       "      <th></th>\n",
       "      <th>ParE3_rep1_t0</th>\n",
       "      <th>ParE2_rep1_t0</th>\n",
       "      <th>ParE3_rep2_t0</th>\n",
       "      <th>ParE2_rep2_t0</th>\n",
       "      <th>ParE3_rep1_t600</th>\n",
       "      <th>ParE2_rep1_t600</th>\n",
       "      <th>ParE3_rep2_t600</th>\n",
       "      <th>ParE2_rep2_t600</th>\n",
       "    </tr>\n",
       "  </thead>\n",
       "  <tbody>\n",
       "    <tr>\n",
       "      <th>AAA</th>\n",
       "      <td>0.000091</td>\n",
       "      <td>0.000075</td>\n",
       "      <td>0.000086</td>\n",
       "      <td>0.000076</td>\n",
       "      <td>0.000110</td>\n",
       "      <td>0.000003</td>\n",
       "      <td>0.000100</td>\n",
       "      <td>4.850000e-06</td>\n",
       "    </tr>\n",
       "    <tr>\n",
       "      <th>AAC</th>\n",
       "      <td>0.000057</td>\n",
       "      <td>0.000065</td>\n",
       "      <td>0.000067</td>\n",
       "      <td>0.000068</td>\n",
       "      <td>0.000032</td>\n",
       "      <td>0.000001</td>\n",
       "      <td>0.000032</td>\n",
       "      <td>2.100000e-06</td>\n",
       "    </tr>\n",
       "    <tr>\n",
       "      <th>AAD</th>\n",
       "      <td>0.000049</td>\n",
       "      <td>0.000034</td>\n",
       "      <td>0.000041</td>\n",
       "      <td>0.000041</td>\n",
       "      <td>0.000025</td>\n",
       "      <td>0.000001</td>\n",
       "      <td>0.000019</td>\n",
       "      <td>6.470000e-07</td>\n",
       "    </tr>\n",
       "    <tr>\n",
       "      <th>AAE</th>\n",
       "      <td>0.000057</td>\n",
       "      <td>0.000052</td>\n",
       "      <td>0.000054</td>\n",
       "      <td>0.000049</td>\n",
       "      <td>0.000277</td>\n",
       "      <td>0.000002</td>\n",
       "      <td>0.000298</td>\n",
       "      <td>1.130000e-06</td>\n",
       "    </tr>\n",
       "    <tr>\n",
       "      <th>AAF</th>\n",
       "      <td>0.000133</td>\n",
       "      <td>0.000125</td>\n",
       "      <td>0.000133</td>\n",
       "      <td>0.000121</td>\n",
       "      <td>0.000158</td>\n",
       "      <td>0.000007</td>\n",
       "      <td>0.000151</td>\n",
       "      <td>7.760000e-06</td>\n",
       "    </tr>\n",
       "  </tbody>\n",
       "</table>\n",
       "</div>"
      ],
      "text/plain": [
       "     ParE3_rep1_t0  ParE2_rep1_t0  ParE3_rep2_t0  ParE2_rep2_t0  \\\n",
       "AAA       0.000091       0.000075       0.000086       0.000076   \n",
       "AAC       0.000057       0.000065       0.000067       0.000068   \n",
       "AAD       0.000049       0.000034       0.000041       0.000041   \n",
       "AAE       0.000057       0.000052       0.000054       0.000049   \n",
       "AAF       0.000133       0.000125       0.000133       0.000121   \n",
       "\n",
       "     ParE3_rep1_t600  ParE2_rep1_t600  ParE3_rep2_t600  ParE2_rep2_t600  \n",
       "AAA         0.000110         0.000003         0.000100     4.850000e-06  \n",
       "AAC         0.000032         0.000001         0.000032     2.100000e-06  \n",
       "AAD         0.000025         0.000001         0.000019     6.470000e-07  \n",
       "AAE         0.000277         0.000002         0.000298     1.130000e-06  \n",
       "AAF         0.000158         0.000007         0.000151     7.760000e-06  "
      ]
     },
     "execution_count": 3,
     "metadata": {},
     "output_type": "execute_result"
    }
   ],
   "source": [
    "fpath = join('../data/GSE153897_Variant_frequency.csv')\n",
    "data = pd.read_csv(fpath, index_col=0)\n",
    "data.head()"
   ]
  },
  {
   "cell_type": "code",
   "execution_count": 4,
   "id": "b38dedec",
   "metadata": {},
   "outputs": [],
   "source": [
    "data = data + data[data>0].min(0)"
   ]
  },
  {
   "cell_type": "code",
   "execution_count": 5,
   "id": "65ba6c02",
   "metadata": {},
   "outputs": [
    {
     "data": {
      "text/html": [
       "<div>\n",
       "<style scoped>\n",
       "    .dataframe tbody tr th:only-of-type {\n",
       "        vertical-align: middle;\n",
       "    }\n",
       "\n",
       "    .dataframe tbody tr th {\n",
       "        vertical-align: top;\n",
       "    }\n",
       "\n",
       "    .dataframe thead th {\n",
       "        text-align: right;\n",
       "    }\n",
       "</style>\n",
       "<table border=\"1\" class=\"dataframe\">\n",
       "  <thead>\n",
       "    <tr style=\"text-align: right;\">\n",
       "      <th></th>\n",
       "      <th>ParE2_rep1</th>\n",
       "      <th>ParE2_rep2</th>\n",
       "      <th>ParE3_rep1</th>\n",
       "      <th>ParE3_rep2</th>\n",
       "      <th>parE2_mean</th>\n",
       "      <th>parE2_var</th>\n",
       "      <th>parE3_mean</th>\n",
       "      <th>parE3_var</th>\n",
       "    </tr>\n",
       "  </thead>\n",
       "  <tbody>\n",
       "    <tr>\n",
       "      <th>AAA</th>\n",
       "      <td>-4.927789</td>\n",
       "      <td>-4.196607</td>\n",
       "      <td>0.058173</td>\n",
       "      <td>-0.031619</td>\n",
       "      <td>-4.562198</td>\n",
       "      <td>0.267314</td>\n",
       "      <td>0.013277</td>\n",
       "      <td>0.004031</td>\n",
       "    </tr>\n",
       "    <tr>\n",
       "      <th>AAC</th>\n",
       "      <td>-5.659228</td>\n",
       "      <td>-5.202646</td>\n",
       "      <td>-1.186775</td>\n",
       "      <td>-1.356459</td>\n",
       "      <td>-5.430937</td>\n",
       "      <td>0.104234</td>\n",
       "      <td>-1.271617</td>\n",
       "      <td>0.014396</td>\n",
       "    </tr>\n",
       "    <tr>\n",
       "      <th>AAD</th>\n",
       "      <td>-5.169573</td>\n",
       "      <td>-6.120851</td>\n",
       "      <td>-1.351620</td>\n",
       "      <td>-1.562352</td>\n",
       "      <td>-5.645212</td>\n",
       "      <td>0.452465</td>\n",
       "      <td>-1.456986</td>\n",
       "      <td>0.022204</td>\n",
       "    </tr>\n",
       "    <tr>\n",
       "      <th>AAE</th>\n",
       "      <td>-5.206682</td>\n",
       "      <td>-5.643856</td>\n",
       "      <td>1.936771</td>\n",
       "      <td>2.074769</td>\n",
       "      <td>-5.425269</td>\n",
       "      <td>0.095560</td>\n",
       "      <td>2.005770</td>\n",
       "      <td>0.009522</td>\n",
       "    </tr>\n",
       "    <tr>\n",
       "      <th>AAF</th>\n",
       "      <td>-4.317164</td>\n",
       "      <td>-4.109532</td>\n",
       "      <td>0.085886</td>\n",
       "      <td>0.017124</td>\n",
       "      <td>-4.213348</td>\n",
       "      <td>0.021555</td>\n",
       "      <td>0.051505</td>\n",
       "      <td>0.002364</td>\n",
       "    </tr>\n",
       "  </tbody>\n",
       "</table>\n",
       "</div>"
      ],
      "text/plain": [
       "     ParE2_rep1  ParE2_rep2  ParE3_rep1  ParE3_rep2  parE2_mean  parE2_var  \\\n",
       "AAA   -4.927789   -4.196607    0.058173   -0.031619   -4.562198   0.267314   \n",
       "AAC   -5.659228   -5.202646   -1.186775   -1.356459   -5.430937   0.104234   \n",
       "AAD   -5.169573   -6.120851   -1.351620   -1.562352   -5.645212   0.452465   \n",
       "AAE   -5.206682   -5.643856    1.936771    2.074769   -5.425269   0.095560   \n",
       "AAF   -4.317164   -4.109532    0.085886    0.017124   -4.213348   0.021555   \n",
       "\n",
       "     parE3_mean  parE3_var  \n",
       "AAA    0.013277   0.004031  \n",
       "AAC   -1.271617   0.014396  \n",
       "AAD   -1.456986   0.022204  \n",
       "AAE    2.005770   0.009522  \n",
       "AAF    0.051505   0.002364  "
      ]
     },
     "execution_count": 5,
     "metadata": {},
     "output_type": "execute_result"
    }
   ],
   "source": [
    "parE2_cols = ['ParE2_rep1', 'ParE2_rep2']\n",
    "parE3_cols = ['ParE3_rep1', 'ParE3_rep2']\n",
    "cols = parE2_cols + parE3_cols\n",
    "\n",
    "logfitness = pd.DataFrame({col: np.log2(data['{}_t600'.format(col)] / data['{}_t0'.format(col)])\n",
    "                           for col in cols}).dropna()\n",
    "\n",
    "logfitness['parE2_mean'] = logfitness[parE2_cols].mean(1)\n",
    "logfitness['parE2_var'] = logfitness[parE2_cols].var(1)\n",
    "logfitness['parE3_mean'] = logfitness[parE3_cols].mean(1)\n",
    "logfitness['parE3_var'] = logfitness[parE3_cols].var(1)\n",
    "\n",
    "stops = np.array(['*' in x for x in logfitness.index])\n",
    "stops_logf = logfitness.loc[stops, :]\n",
    "logfitness = logfitness.loc[stops == False, :]\n",
    "\n",
    "logfitness.head()"
   ]
  },
  {
   "cell_type": "code",
   "execution_count": 13,
   "id": "80863e4e",
   "metadata": {},
   "outputs": [
    {
     "data": {
      "text/html": [
       "<div>\n",
       "<style scoped>\n",
       "    .dataframe tbody tr th:only-of-type {\n",
       "        vertical-align: middle;\n",
       "    }\n",
       "\n",
       "    .dataframe tbody tr th {\n",
       "        vertical-align: top;\n",
       "    }\n",
       "\n",
       "    .dataframe thead th {\n",
       "        text-align: right;\n",
       "    }\n",
       "</style>\n",
       "<table border=\"1\" class=\"dataframe\">\n",
       "  <thead>\n",
       "    <tr style=\"text-align: right;\">\n",
       "      <th></th>\n",
       "      <th>m</th>\n",
       "      <th>var</th>\n",
       "    </tr>\n",
       "  </thead>\n",
       "  <tbody>\n",
       "    <tr>\n",
       "      <th>AAA2</th>\n",
       "      <td>-4.562198</td>\n",
       "      <td>0.267314</td>\n",
       "    </tr>\n",
       "    <tr>\n",
       "      <th>AAC2</th>\n",
       "      <td>-5.430937</td>\n",
       "      <td>0.104234</td>\n",
       "    </tr>\n",
       "    <tr>\n",
       "      <th>AAD2</th>\n",
       "      <td>-5.645212</td>\n",
       "      <td>0.452465</td>\n",
       "    </tr>\n",
       "    <tr>\n",
       "      <th>AAE2</th>\n",
       "      <td>-5.425269</td>\n",
       "      <td>0.095560</td>\n",
       "    </tr>\n",
       "    <tr>\n",
       "      <th>AAF2</th>\n",
       "      <td>-4.213348</td>\n",
       "      <td>0.021555</td>\n",
       "    </tr>\n",
       "    <tr>\n",
       "      <th>...</th>\n",
       "      <td>...</td>\n",
       "      <td>...</td>\n",
       "    </tr>\n",
       "    <tr>\n",
       "      <th>YYS3</th>\n",
       "      <td>-4.336793</td>\n",
       "      <td>0.084424</td>\n",
       "    </tr>\n",
       "    <tr>\n",
       "      <th>YYT3</th>\n",
       "      <td>-3.480584</td>\n",
       "      <td>0.140443</td>\n",
       "    </tr>\n",
       "    <tr>\n",
       "      <th>YYV3</th>\n",
       "      <td>-2.161190</td>\n",
       "      <td>0.050462</td>\n",
       "    </tr>\n",
       "    <tr>\n",
       "      <th>YYW3</th>\n",
       "      <td>-3.625305</td>\n",
       "      <td>0.511585</td>\n",
       "    </tr>\n",
       "    <tr>\n",
       "      <th>YYY3</th>\n",
       "      <td>-3.101791</td>\n",
       "      <td>0.117581</td>\n",
       "    </tr>\n",
       "  </tbody>\n",
       "</table>\n",
       "<p>16000 rows × 2 columns</p>\n",
       "</div>"
      ],
      "text/plain": [
       "             m       var\n",
       "AAA2 -4.562198  0.267314\n",
       "AAC2 -5.430937  0.104234\n",
       "AAD2 -5.645212  0.452465\n",
       "AAE2 -5.425269  0.095560\n",
       "AAF2 -4.213348  0.021555\n",
       "...        ...       ...\n",
       "YYS3 -4.336793  0.084424\n",
       "YYT3 -3.480584  0.140443\n",
       "YYV3 -2.161190  0.050462\n",
       "YYW3 -3.625305  0.511585\n",
       "YYY3 -3.101791  0.117581\n",
       "\n",
       "[16000 rows x 2 columns]"
      ]
     },
     "execution_count": 13,
     "metadata": {},
     "output_type": "execute_result"
    }
   ],
   "source": [
    "d1 = logfitness[['parE2_mean', 'parE2_var']].copy()\n",
    "d1.index = ['{}2'.format(x) for x in d1.index]\n",
    "d1.columns = ['m','var']\n",
    "d2 = logfitness[['parE3_mean', 'parE3_var']].copy()\n",
    "d2.index = ['{}3'.format(x) for x in d2.index]\n",
    "d2.columns = ['m','var']\n",
    "data = pd.concat([d1, d2])\n",
    "data\n"
   ]
  },
  {
   "cell_type": "markdown",
   "id": "fec92107",
   "metadata": {},
   "source": [
    "### Run VC regression"
   ]
  },
  {
   "cell_type": "code",
   "execution_count": 16,
   "id": "ee76d380",
   "metadata": {},
   "outputs": [
    {
     "name": "stderr",
     "output_type": "stream",
     "text": [
      "100%|███████████████████████████████████████████████████████████████████████████████████████████████████████████████████████████████████████████████████████████████████████████████████████████████████████| 100/100 [01:26<00:00,  1.16it/s]\n"
     ]
    }
   ],
   "source": [
    "vc = VCregression(cross_validation=True)\n",
    "vc.fit(X=data.index, y=data.m.values, y_var=data['var'].values)\n",
    "lambdas = vc.lambdas\n",
    "pred = vc.predict(Xpred=data.index.values)  "
   ]
  },
  {
   "cell_type": "code",
   "execution_count": 35,
   "id": "be3df483",
   "metadata": {},
   "outputs": [],
   "source": [
    "x = np.arange(0, lambdas.shape[0])\n",
    "variance = vc.lambdas_to_variance(lambdas)\n",
    "p_variance = variance / variance.sum() * 100"
   ]
  },
  {
   "cell_type": "code",
   "execution_count": 38,
   "id": "06a1ec7f",
   "metadata": {},
   "outputs": [
    {
     "data": {
      "image/png": "[encoded data removed]",
      "text/plain": [
       "<Figure size 756x252 with 3 Axes>"
      ]
     },
     "metadata": {},
     "output_type": "display_data"
    }
   ],
   "source": [
    "fig, subplots = plot.init_fig(1, 3, colsize=3.5, rowsize=3.5)\n",
    "\n",
    "axes = subplots[0]\n",
    "sns.barplot(x=x, y=lambdas, ax=axes, color='black')\n",
    "axes.set(xlabel='$k$', ylabel='$\\lambda_k$', yscale='log')\n",
    "\n",
    "axes = subplots[1]\n",
    "sns.barplot(x=x[1:], y=p_variance, ax=axes, color='black')\n",
    "axes.set(xlabel='$k$', ylabel='% variance explained', ylim=(0, 100), xticks=[1, 2, 3])\n",
    "\n",
    "axes = subplots[2]\n",
    "sns.histplot(x=pred.loc[data.index, 'ypred'],\n",
    "             y=data.m.values, cmap='Greys', ax=axes)\n",
    "axes.set(xlabel='VC log(Fitness)', ylabel='Average observed log(Fitness)',\n",
    "        xlim=(-9, 5), ylim=(-9, 5))\n",
    "fig.tight_layout()"
   ]
  }
 ],
 "metadata": {
  "kernelspec": {
   "display_name": "Python 3 (ipykernel)",
   "language": "python",
   "name": "python3"
  },
  "language_info": {
   "codemirror_mode": {
    "name": "ipython",
    "version": 3
   },
   "file_extension": ".py",
   "mimetype": "text/x-python",
   "name": "python",
   "nbconvert_exporter": "python",
   "pygments_lexer": "ipython3",
   "version": "3.8.13"
  }
 },
 "nbformat": 4,
 "nbformat_minor": 5
}
