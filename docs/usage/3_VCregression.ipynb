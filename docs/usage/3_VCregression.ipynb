{
 "cells": [
  {
   "cell_type": "markdown",
   "id": "03812395",
   "metadata": {},
   "source": [
    "# Experimental data\n",
    "\n",
    "In contrast to theoretical or computational landscapes, like the Serine codon model shown in previous sections, empirical landscapes are based on experimental data. Such data is typically noisy and incomplete, so we need to apply additional methods to obtain reliable estimates of the phenotype of every possible genotype in order to visualize the genotype-phenotype map. In this section, we will illustrate the two methods available in `gpmap-tools` for inference of complete genotype-phenotype maps $f$ from noisy measurements `y` at a subset of sequences `X`. Optionally, the variance associated to the measurement `y_var` can be provided.\n",
    "\n",
    "> **Note:** these methods only work for sequences of the same length\n",
    "\n",
    "- **Minimum epistasis interpolation (MEI)** finds the genotype-phenotype map that minimizes the sum of squared P-th epistatic coefficients $\\bar{\\epsilon_P^2}$ while exactly matching the data `y` at sequences `X` ([read more](https://www.nature.com/articles/s41467-020-15512-5)).\n",
    "- **Empirical VC regression** estimates a prior distribution characterized by the variance explained by interactions of every possible order from the empirical distance-correlation function computed from the available data. Then, it uses this prior distribution to perform Gaussian process regression to infer a complete genotype-phenotype map ([read more](https://doi.org/10.1073/pnas.2204233119)).\n",
    "\n",
    "In this section, we will illustrate how to use these methods using simulated and real data and how to use them to evaluate the evidence supporting specific hypotheses about the genotype-phenotype map."
   ]
  },
  {
   "cell_type": "code",
   "execution_count": 1,
   "id": "f34627a2",
   "metadata": {},
   "outputs": [],
   "source": [
    "# Import required libraries\n",
    "import pandas as pd\n",
    "import numpy as np\n",
    "import matplotlib.pyplot as plt\n",
    "\n",
    "from scipy.stats import pearsonr, norm\n",
    "from gpmap.datasets import DataSet\n",
    "from gpmap.inference import VCregression, MinimumEpistasisInterpolator\n",
    "from gpmap.plot.mpl import plot_hyperparam_cv, init_fig"
   ]
  },
  {
   "cell_type": "markdown",
   "id": "48dc85f2",
   "metadata": {},
   "source": [
    "## Inference from simulated data\n",
    "\n",
    "We first illustrate how to use these methods using simulated data. In this case, we know what the true genotype-phenotype map is and can compare the model inferences with the real values. \n",
    "\n",
    "### How to sample functions from the prior distribution\n",
    "\n",
    "We will simulate data from the Variance Component regression model. In order to do so, we need to define the configuration of sequence space, the variance associated to interactions of every possible order `lambdas`, standard deviation of the measurement noise `sigma` and the fraction of genotypes that are not measured in the experiment `p_missing`."
   ]
  },
  {
   "cell_type": "code",
   "execution_count": 2,
   "id": "838329b0",
   "metadata": {},
   "outputs": [
    {
     "data": {
      "text/html": [
       "<div>\n",
       "<style scoped>\n",
       "    .dataframe tbody tr th:only-of-type {\n",
       "        vertical-align: middle;\n",
       "    }\n",
       "\n",
       "    .dataframe tbody tr th {\n",
       "        vertical-align: top;\n",
       "    }\n",
       "\n",
       "    .dataframe thead th {\n",
       "        text-align: right;\n",
       "    }\n",
       "</style>\n",
       "<table border=\"1\" class=\"dataframe\">\n",
       "  <thead>\n",
       "    <tr style=\"text-align: right;\">\n",
       "      <th></th>\n",
       "      <th>y_true</th>\n",
       "      <th>y</th>\n",
       "      <th>y_var</th>\n",
       "    </tr>\n",
       "  </thead>\n",
       "  <tbody>\n",
       "    <tr>\n",
       "      <th>AAAAAA</th>\n",
       "      <td>-1.212747</td>\n",
       "      <td>-1.398312</td>\n",
       "      <td>0.04</td>\n",
       "    </tr>\n",
       "    <tr>\n",
       "      <th>AAAAAC</th>\n",
       "      <td>-3.876249</td>\n",
       "      <td>-3.494929</td>\n",
       "      <td>0.04</td>\n",
       "    </tr>\n",
       "    <tr>\n",
       "      <th>AAAAAG</th>\n",
       "      <td>0.140375</td>\n",
       "      <td>-0.066060</td>\n",
       "      <td>0.04</td>\n",
       "    </tr>\n",
       "    <tr>\n",
       "      <th>AAAAAT</th>\n",
       "      <td>1.159327</td>\n",
       "      <td>1.123854</td>\n",
       "      <td>0.04</td>\n",
       "    </tr>\n",
       "    <tr>\n",
       "      <th>AAAACA</th>\n",
       "      <td>0.336225</td>\n",
       "      <td>0.006149</td>\n",
       "      <td>0.04</td>\n",
       "    </tr>\n",
       "    <tr>\n",
       "      <th>...</th>\n",
       "      <td>...</td>\n",
       "      <td>...</td>\n",
       "      <td>...</td>\n",
       "    </tr>\n",
       "    <tr>\n",
       "      <th>TTTTGT</th>\n",
       "      <td>-4.808467</td>\n",
       "      <td>-4.818905</td>\n",
       "      <td>0.04</td>\n",
       "    </tr>\n",
       "    <tr>\n",
       "      <th>TTTTTA</th>\n",
       "      <td>-6.423852</td>\n",
       "      <td>-6.490532</td>\n",
       "      <td>0.04</td>\n",
       "    </tr>\n",
       "    <tr>\n",
       "      <th>TTTTTC</th>\n",
       "      <td>-0.621695</td>\n",
       "      <td>-0.666689</td>\n",
       "      <td>0.04</td>\n",
       "    </tr>\n",
       "    <tr>\n",
       "      <th>TTTTTG</th>\n",
       "      <td>-4.882427</td>\n",
       "      <td>-4.986013</td>\n",
       "      <td>0.04</td>\n",
       "    </tr>\n",
       "    <tr>\n",
       "      <th>TTTTTT</th>\n",
       "      <td>-2.149232</td>\n",
       "      <td>-2.358559</td>\n",
       "      <td>0.04</td>\n",
       "    </tr>\n",
       "  </tbody>\n",
       "</table>\n",
       "<p>3658 rows × 3 columns</p>\n",
       "</div>"
      ],
      "text/plain": [
       "          y_true         y  y_var\n",
       "AAAAAA -1.212747 -1.398312   0.04\n",
       "AAAAAC -3.876249 -3.494929   0.04\n",
       "AAAAAG  0.140375 -0.066060   0.04\n",
       "AAAAAT  1.159327  1.123854   0.04\n",
       "AAAACA  0.336225  0.006149   0.04\n",
       "...          ...       ...    ...\n",
       "TTTTGT -4.808467 -4.818905   0.04\n",
       "TTTTTA -6.423852 -6.490532   0.04\n",
       "TTTTTC -0.621695 -0.666689   0.04\n",
       "TTTTTG -4.882427 -4.986013   0.04\n",
       "TTTTTT -2.149232 -2.358559   0.04\n",
       "\n",
       "[3658 rows x 3 columns]"
      ]
     },
     "execution_count": 2,
     "metadata": {},
     "output_type": "execute_result"
    }
   ],
   "source": [
    "np.random.seed(0)\n",
    "lambdas_true = np.array([1e4, 1e3, 2e2, 1e0, 1e-1, 3e-3, 1e-5])\n",
    "\n",
    "model = VCregression(seq_length=6, alphabet_type='dna', lambdas=lambdas_true)\n",
    "data = model.simulate(sigma=0.2, p_missing=0.1)\n",
    "test = data.loc[np.isnan(data[\"y\"]), :].copy()\n",
    "train = data.dropna()\n",
    "train"
   ]
  },
  {
   "cell_type": "markdown",
   "id": "4090bcb3",
   "metadata": {},
   "source": [
    "### How to compute the minimum epistasis interpolation solution\n",
    "\n",
    "This can be done very simply by defining a `MinimumEpistasisInterpolator` object with the right configuration of sequence space and the order of local epistatic coefficients we aim to penalize. In this case, we set `P=2` to minimize the sum of squared epistatic coefficients."
   ]
  },
  {
   "cell_type": "code",
   "execution_count": 3,
   "id": "dc8c2ad2",
   "metadata": {},
   "outputs": [
    {
     "data": {
      "text/html": [
       "<div>\n",
       "<style scoped>\n",
       "    .dataframe tbody tr th:only-of-type {\n",
       "        vertical-align: middle;\n",
       "    }\n",
       "\n",
       "    .dataframe tbody tr th {\n",
       "        vertical-align: top;\n",
       "    }\n",
       "\n",
       "    .dataframe thead th {\n",
       "        text-align: right;\n",
       "    }\n",
       "</style>\n",
       "<table border=\"1\" class=\"dataframe\">\n",
       "  <thead>\n",
       "    <tr style=\"text-align: right;\">\n",
       "      <th></th>\n",
       "      <th>y</th>\n",
       "    </tr>\n",
       "  </thead>\n",
       "  <tbody>\n",
       "    <tr>\n",
       "      <th>AAAAAA</th>\n",
       "      <td>-1.398312</td>\n",
       "    </tr>\n",
       "    <tr>\n",
       "      <th>AAAAAC</th>\n",
       "      <td>-3.494929</td>\n",
       "    </tr>\n",
       "    <tr>\n",
       "      <th>AAAAAG</th>\n",
       "      <td>-0.066060</td>\n",
       "    </tr>\n",
       "    <tr>\n",
       "      <th>AAAAAT</th>\n",
       "      <td>1.123854</td>\n",
       "    </tr>\n",
       "    <tr>\n",
       "      <th>AAAACA</th>\n",
       "      <td>0.006149</td>\n",
       "    </tr>\n",
       "    <tr>\n",
       "      <th>...</th>\n",
       "      <td>...</td>\n",
       "    </tr>\n",
       "    <tr>\n",
       "      <th>TTTTGT</th>\n",
       "      <td>-4.818905</td>\n",
       "    </tr>\n",
       "    <tr>\n",
       "      <th>TTTTTA</th>\n",
       "      <td>-6.490532</td>\n",
       "    </tr>\n",
       "    <tr>\n",
       "      <th>TTTTTC</th>\n",
       "      <td>-0.666689</td>\n",
       "    </tr>\n",
       "    <tr>\n",
       "      <th>TTTTTG</th>\n",
       "      <td>-4.986013</td>\n",
       "    </tr>\n",
       "    <tr>\n",
       "      <th>TTTTTT</th>\n",
       "      <td>-2.358559</td>\n",
       "    </tr>\n",
       "  </tbody>\n",
       "</table>\n",
       "<p>4096 rows × 1 columns</p>\n",
       "</div>"
      ],
      "text/plain": [
       "               y\n",
       "AAAAAA -1.398312\n",
       "AAAAAC -3.494929\n",
       "AAAAAG -0.066060\n",
       "AAAAAT  1.123854\n",
       "AAAACA  0.006149\n",
       "...          ...\n",
       "TTTTGT -4.818905\n",
       "TTTTTA -6.490532\n",
       "TTTTTC -0.666689\n",
       "TTTTTG -4.986013\n",
       "TTTTTT -2.358559\n",
       "\n",
       "[4096 rows x 1 columns]"
      ]
     },
     "execution_count": 3,
     "metadata": {},
     "output_type": "execute_result"
    }
   ],
   "source": [
    "model = MinimumEpistasisInterpolator(P=2, seq_length=6, alphabet_type='dna')\n",
    "model.set_data(X=train.index.values, y=train['y'].values)\n",
    "mei = model.predict()\n",
    "mei"
   ]
  },
  {
   "cell_type": "markdown",
   "id": "b4d766e1",
   "metadata": {},
   "source": [
    "We can now compare the predicted with the true phenotype at the held-out test sequences"
   ]
  },
  {
   "cell_type": "code",
   "execution_count": 4,
   "id": "6b3be51e",
   "metadata": {},
   "outputs": [
    {
     "data": {
      "text/plain": [
       "Text(0.03, 0.97, '$R^2$=0.990')"
      ]
     },
     "execution_count": 4,
     "metadata": {},
     "output_type": "execute_result"
    },
    {
     "data": {
      "image/png": "[encoded data removed]",
      "text/plain": [
       "<Figure size 400x400 with 1 Axes>"
      ]
     },
     "metadata": {},
     "output_type": "display_data"
    }
   ],
   "source": [
    "test = test.join(mei, rsuffix=\"_mei\")\n",
    "r2 = pearsonr(test['y_mei'], test['y_true'])[0] ** 2\n",
    "fig, axes = plt.subplots(1, 1, figsize=(4, 4))\n",
    "axes.scatter(x=test['y_true'], y=test['y_mei'], c='black', alpha=0.5, s=5, lw=0)\n",
    "ticks = np.arange(-10, 9, 2)\n",
    "axes.axline((0, 0), (1, 1), lw=0.75, linestyle='--', c='grey')\n",
    "axes.set(xlabel=r'$y_{True}$', ylabel=r'$y_{pred}$', aspect='equal', xlim=(-15, 10), ylim=(-15, 10))\n",
    "axes.text(0.03, 0.97, r'$R^2$=' + '{:.3f}'.format(r2), transform=axes.transAxes,\n",
    "          va='top')"
   ]
  },
  {
   "cell_type": "markdown",
   "id": "ce611af4",
   "metadata": {},
   "source": [
    "This comparison shows a very high correlation between the predictions and the real phenotypic values, but the extremely low and high values tend to be over and underestimated, respectively. \n",
    "\n",
    "### How to estimate Variance Components $\\lambda$'s\n",
    "\n",
    "We next illustrate how to use Variance Component regression on the same simulated data for comparison. The first step is the estimation of the variance components from the data. The covariance matrix $K$ under the prior is given by\n",
    "\n",
    "$$K = \\sum_k \\lambda_k K_k$$\n",
    "\n",
    "We define the $\\lambda_k$ through kernel alignment. This is achieved by finding the non-negative linear combination of the covariance matrices $K_k$ associated to each pure interactions of order $k$ that that minimize the Frobenius norm of the difference with the empirical second moment matrix $(y - \\bar y)^T(y - \\bar y)$ \n",
    "\n",
    "$$\\hat\\lambda = \\arg \\min_{\\lambda} \\lVert (y - \\bar y)(y - \\bar y)^T - (\\sum_k \\lambda_k K_k)_{xx} \\lVert_F^2$$\n",
    "\n",
    "\n"
   ]
  },
  {
   "cell_type": "code",
   "execution_count": 5,
   "id": "5ccde983",
   "metadata": {},
   "outputs": [],
   "source": [
    "model = VCregression(seq_length=6, alphabet_type=\"dna\", )\n",
    "model.fit(X=train.index.values, y=train.y.values, y_var=train.y_var.values)\n",
    "vc = model.lambdas_to_variance(model.lambdas)\n",
    "vc_p = vc / vc.sum() * 100"
   ]
  },
  {
   "cell_type": "code",
   "execution_count": 6,
   "id": "c6131627",
   "metadata": {},
   "outputs": [
    {
     "data": {
      "image/png": "[encoded data removed]",
      "text/plain": [
       "<Figure size 1200x350 with 3 Axes>"
      ]
     },
     "metadata": {},
     "output_type": "display_data"
    }
   ],
   "source": [
    "k = np.arange(model.lambdas.shape[0])\n",
    "\n",
    "fig, subplots = plt.subplots(1, 3, figsize=(12, 3.5))\n",
    "\n",
    "axes = subplots[0]\n",
    "axes.bar(x=k, height=model.lambdas, color='black')\n",
    "axes.set(xlabel='k', ylabel=r'$\\lambda_k$', yscale='log',\n",
    "         xticks=np.arange(7))\n",
    "\n",
    "axes = subplots[1]\n",
    "axes.bar(x=k[1:], height=vc_p, color='black')\n",
    "axes.set(xlabel='k', ylabel='% variance explained')\n",
    "\n",
    "axes = subplots[2]\n",
    "axes.scatter(lambdas_true, model.lambdas, c='black')\n",
    "lims = (1e-5, 1e6)\n",
    "axes.plot(lims, lims, c='grey', lw=0.3, alpha=0.5)\n",
    "axes.set(xscale='log', yscale='log',\n",
    "         xlabel=r'True $\\lambda_k$',\n",
    "         ylabel=r'Inferred $\\lambda_k$',\n",
    "         xlim=lims, ylim=lims)\n",
    "\n",
    "fig.tight_layout()"
   ]
  },
  {
   "cell_type": "markdown",
   "id": "cff9aee0",
   "metadata": {},
   "source": [
    "We can see that the inferred variance components are very similar in log scale to the true data-generating parameters. \n",
    "\n",
    "However, when data is sparse, kernel alignment is a hard problem and we need to regularize towards simpler solutions. While we could shrink towards additivity, another good general choice that still models high order interactions is towards exponential decay of the variance components. We can do it by setting `cross_validation=True` and penalizing the second order moments of the $\\log \\lambda_k$ as a function of $k$. It will automatically split the data into different folds and perform kernel alignment under different regularization strength to find the penalization constant that best generalizes to the validation set according to a metric. These metrics can be\n",
    "the Frobenius  of the difference between the prior and second moment matrix, $R^2$ on the or the log-likelihood of the predictions on the validation set. This can be specified through the argument `cv_loss_function='r2'` ,`cv_loss_function='logL'`."
   ]
  },
  {
   "cell_type": "code",
   "execution_count": 7,
   "id": "d1050335",
   "metadata": {
    "scrolled": true
   },
   "outputs": [
    {
     "name": "stderr",
     "output_type": "stream",
     "text": [
      "100%|██████████| 100/100 [00:10<00:00,  9.20it/s]\n"
     ]
    }
   ],
   "source": [
    "cvmodel = VCregression(cross_validation=True, cv_loss_function='logL', max_log_beta=5)\n",
    "cvmodel.fit(X=train.index.values, y=train.y.values, y_var=train.y_var.values)"
   ]
  },
  {
   "cell_type": "markdown",
   "id": "a8af51e5",
   "metadata": {},
   "source": [
    "We can visualize the hyperparameter optimization curves during the cross-validation procedure as follows"
   ]
  },
  {
   "cell_type": "code",
   "execution_count": 8,
   "id": "af857d36",
   "metadata": {},
   "outputs": [
    {
     "data": {
      "image/png": "[encoded data removed]",
      "text/plain": [
       "<Figure size 500x450 with 1 Axes>"
      ]
     },
     "metadata": {},
     "output_type": "display_data"
    }
   ],
   "source": [
    "fig, axes = plt.subplots(1, 1, figsize=(5, 4.5))\n",
    "plot_hyperparam_cv(cvmodel.cv_loss_df, axes, x='log_beta', y='loss', show_folds=True,\n",
    "                   xlabel=r'$\\log\\beta$', ylabel=r'$-log(\\L)$', highlight='min')"
   ]
  },
  {
   "cell_type": "markdown",
   "id": "a9dcb37f",
   "metadata": {},
   "source": [
    "### How to obtain phenotypic predictions under a VC prior\n",
    "\n",
    "Once we know the parameters of the Variance Component prior, we can compute the posterior distribution for the complete genotype-phenotype map with the method `predict`"
   ]
  },
  {
   "cell_type": "code",
   "execution_count": 9,
   "id": "16df54ca",
   "metadata": {},
   "outputs": [
    {
     "data": {
      "text/html": [
       "<div>\n",
       "<style scoped>\n",
       "    .dataframe tbody tr th:only-of-type {\n",
       "        vertical-align: middle;\n",
       "    }\n",
       "\n",
       "    .dataframe tbody tr th {\n",
       "        vertical-align: top;\n",
       "    }\n",
       "\n",
       "    .dataframe thead th {\n",
       "        text-align: right;\n",
       "    }\n",
       "</style>\n",
       "<table border=\"1\" class=\"dataframe\">\n",
       "  <thead>\n",
       "    <tr style=\"text-align: right;\">\n",
       "      <th></th>\n",
       "      <th>y</th>\n",
       "    </tr>\n",
       "  </thead>\n",
       "  <tbody>\n",
       "    <tr>\n",
       "      <th>AAAAAA</th>\n",
       "      <td>-1.351140</td>\n",
       "    </tr>\n",
       "    <tr>\n",
       "      <th>AAAAAC</th>\n",
       "      <td>-3.791511</td>\n",
       "    </tr>\n",
       "    <tr>\n",
       "      <th>AAAAAG</th>\n",
       "      <td>0.044138</td>\n",
       "    </tr>\n",
       "    <tr>\n",
       "      <th>AAAAAT</th>\n",
       "      <td>1.201937</td>\n",
       "    </tr>\n",
       "    <tr>\n",
       "      <th>AAAACA</th>\n",
       "      <td>0.015829</td>\n",
       "    </tr>\n",
       "    <tr>\n",
       "      <th>...</th>\n",
       "      <td>...</td>\n",
       "    </tr>\n",
       "    <tr>\n",
       "      <th>TTTTGT</th>\n",
       "      <td>-4.682707</td>\n",
       "    </tr>\n",
       "    <tr>\n",
       "      <th>TTTTTA</th>\n",
       "      <td>-6.418972</td>\n",
       "    </tr>\n",
       "    <tr>\n",
       "      <th>TTTTTC</th>\n",
       "      <td>-0.733215</td>\n",
       "    </tr>\n",
       "    <tr>\n",
       "      <th>TTTTTG</th>\n",
       "      <td>-4.964112</td>\n",
       "    </tr>\n",
       "    <tr>\n",
       "      <th>TTTTTT</th>\n",
       "      <td>-2.315425</td>\n",
       "    </tr>\n",
       "  </tbody>\n",
       "</table>\n",
       "<p>4096 rows × 1 columns</p>\n",
       "</div>"
      ],
      "text/plain": [
       "               y\n",
       "AAAAAA -1.351140\n",
       "AAAAAC -3.791511\n",
       "AAAAAG  0.044138\n",
       "AAAAAT  1.201937\n",
       "AAAACA  0.015829\n",
       "...          ...\n",
       "TTTTGT -4.682707\n",
       "TTTTTA -6.418972\n",
       "TTTTTC -0.733215\n",
       "TTTTTG -4.964112\n",
       "TTTTTT -2.315425\n",
       "\n",
       "[4096 rows x 1 columns]"
      ]
     },
     "execution_count": 9,
     "metadata": {},
     "output_type": "execute_result"
    }
   ],
   "source": [
    "model.fit(X=train.index.values, y=train.y.values, y_var=train.y_var.values)\n",
    "pred = model.predict()\n",
    "pred"
   ]
  },
  {
   "cell_type": "markdown",
   "id": "3a1b07a8",
   "metadata": {},
   "source": [
    "We can now compare the predictions with the true phenotypic values in held-out sequences, achieving better predictive performance than with MEI."
   ]
  },
  {
   "cell_type": "code",
   "execution_count": 10,
   "id": "52faa016",
   "metadata": {},
   "outputs": [
    {
     "data": {
      "text/plain": [
       "Text(0.03, 0.97, '$R^2$=0.997')"
      ]
     },
     "execution_count": 10,
     "metadata": {},
     "output_type": "execute_result"
    },
    {
     "data": {
      "image/png": "[encoded data removed]",
      "text/plain": [
       "<Figure size 400x400 with 1 Axes>"
      ]
     },
     "metadata": {},
     "output_type": "display_data"
    }
   ],
   "source": [
    "test = test.join(pred, rsuffix=\"_pred\")\n",
    "r2 = pearsonr(test[\"y_pred\"], test[\"y_true\"])[0] ** 2\n",
    "fig, axes = plt.subplots(1, 1, figsize=(4, 4))\n",
    "axes.scatter(x=test[\"y_true\"], y=test[\"y_pred\"], c=\"black\", alpha=0.5, s=5, lw=0)\n",
    "ticks = np.arange(-10, 9, 2)\n",
    "axes.axline((0, 0), (1, 1), lw=0.75, linestyle=\"--\", c=\"grey\")\n",
    "axes.set(\n",
    "    xlabel=r\"$y_{True}$\",\n",
    "    ylabel=r\"$y_{pred}$\",\n",
    "    aspect=\"equal\",\n",
    "    xlim=(-15, 10),\n",
    "    ylim=(-15, 10),\n",
    ")\n",
    "axes.text(\n",
    "    0.03,\n",
    "    0.97,\n",
    "    r\"$R^2$=\" + \"{:.3f}\".format(r2),\n",
    "    transform=axes.transAxes,\n",
    "    va=\"top\",\n",
    ")\n"
   ]
  },
  {
   "cell_type": "markdown",
   "id": "78636627",
   "metadata": {},
   "source": [
    "### How to calculate uncertainty of the predictions\n",
    "\n",
    "In the previous section, we have shown how to compute the posterior mean of the complete genotype-phenotype given the data and the estimated variance components. However, in cases where the ground truth is not known, it can be useful to have an idea about the uncertainty of the phenotypic predictions for new sequences. As we are using Gaussian process models with Gaussian likelihood function, we can compute, not only the posterior mean, but also the posterior variance and 95% probability credible interval for these sequences by setting `calc_variance=True`.\n",
    "\n",
    "> **Note**: Computing the variance for every possible sequence is usually unfeasible because we need to solve a system of $~\\alpha^\\ell$ equations for computing the variance of each sequence. Thus, in practice, this calculation can only be done for a small subset of sequences of interest.\n",
    "\n"
   ]
  },
  {
   "cell_type": "code",
   "execution_count": 11,
   "id": "1b2ad2fb",
   "metadata": {},
   "outputs": [
    {
     "name": "stderr",
     "output_type": "stream",
     "text": [
      "100%|██████████| 438/438 [00:19<00:00, 22.07it/s]\n"
     ]
    },
    {
     "data": {
      "text/html": [
       "<div>\n",
       "<style scoped>\n",
       "    .dataframe tbody tr th:only-of-type {\n",
       "        vertical-align: middle;\n",
       "    }\n",
       "\n",
       "    .dataframe tbody tr th {\n",
       "        vertical-align: top;\n",
       "    }\n",
       "\n",
       "    .dataframe thead th {\n",
       "        text-align: right;\n",
       "    }\n",
       "</style>\n",
       "<table border=\"1\" class=\"dataframe\">\n",
       "  <thead>\n",
       "    <tr style=\"text-align: right;\">\n",
       "      <th></th>\n",
       "      <th>y</th>\n",
       "      <th>y_var</th>\n",
       "      <th>std</th>\n",
       "      <th>ci_95_lower</th>\n",
       "      <th>ci_95_upper</th>\n",
       "      <th>y_true</th>\n",
       "    </tr>\n",
       "  </thead>\n",
       "  <tbody>\n",
       "    <tr>\n",
       "      <th>AAAAGG</th>\n",
       "      <td>-4.655712</td>\n",
       "      <td>0.053484</td>\n",
       "      <td>0.231267</td>\n",
       "      <td>-5.118245</td>\n",
       "      <td>-4.193179</td>\n",
       "      <td>-4.490122</td>\n",
       "    </tr>\n",
       "    <tr>\n",
       "      <th>AAAATC</th>\n",
       "      <td>-4.664899</td>\n",
       "      <td>0.053372</td>\n",
       "      <td>0.231024</td>\n",
       "      <td>-5.126947</td>\n",
       "      <td>-4.202851</td>\n",
       "      <td>-4.563295</td>\n",
       "    </tr>\n",
       "    <tr>\n",
       "      <th>AAACGC</th>\n",
       "      <td>-3.764736</td>\n",
       "      <td>0.056246</td>\n",
       "      <td>0.237162</td>\n",
       "      <td>-4.239060</td>\n",
       "      <td>-3.290411</td>\n",
       "      <td>-3.762022</td>\n",
       "    </tr>\n",
       "    <tr>\n",
       "      <th>AAAGCT</th>\n",
       "      <td>-2.354579</td>\n",
       "      <td>0.053003</td>\n",
       "      <td>0.230223</td>\n",
       "      <td>-2.815025</td>\n",
       "      <td>-1.894133</td>\n",
       "      <td>-2.278915</td>\n",
       "    </tr>\n",
       "    <tr>\n",
       "      <th>AAAGGC</th>\n",
       "      <td>-4.055686</td>\n",
       "      <td>0.053139</td>\n",
       "      <td>0.230520</td>\n",
       "      <td>-4.516725</td>\n",
       "      <td>-3.594647</td>\n",
       "      <td>-4.166181</td>\n",
       "    </tr>\n",
       "    <tr>\n",
       "      <th>...</th>\n",
       "      <td>...</td>\n",
       "      <td>...</td>\n",
       "      <td>...</td>\n",
       "      <td>...</td>\n",
       "      <td>...</td>\n",
       "      <td>...</td>\n",
       "    </tr>\n",
       "    <tr>\n",
       "      <th>TTTCGT</th>\n",
       "      <td>-3.948662</td>\n",
       "      <td>0.056216</td>\n",
       "      <td>0.237100</td>\n",
       "      <td>-4.422861</td>\n",
       "      <td>-3.474463</td>\n",
       "      <td>-4.078485</td>\n",
       "    </tr>\n",
       "    <tr>\n",
       "      <th>TTTGAA</th>\n",
       "      <td>-7.868073</td>\n",
       "      <td>0.059309</td>\n",
       "      <td>0.243534</td>\n",
       "      <td>-8.355140</td>\n",
       "      <td>-7.381005</td>\n",
       "      <td>-7.812920</td>\n",
       "    </tr>\n",
       "    <tr>\n",
       "      <th>TTTGAT</th>\n",
       "      <td>-5.302352</td>\n",
       "      <td>0.056146</td>\n",
       "      <td>0.236952</td>\n",
       "      <td>-5.776257</td>\n",
       "      <td>-4.828448</td>\n",
       "      <td>-5.469751</td>\n",
       "    </tr>\n",
       "    <tr>\n",
       "      <th>TTTGTA</th>\n",
       "      <td>-10.177815</td>\n",
       "      <td>0.056164</td>\n",
       "      <td>0.236989</td>\n",
       "      <td>-10.651794</td>\n",
       "      <td>-9.703837</td>\n",
       "      <td>-10.371402</td>\n",
       "    </tr>\n",
       "    <tr>\n",
       "      <th>TTTTAA</th>\n",
       "      <td>-4.134156</td>\n",
       "      <td>0.056251</td>\n",
       "      <td>0.237174</td>\n",
       "      <td>-4.608504</td>\n",
       "      <td>-3.659809</td>\n",
       "      <td>-4.006536</td>\n",
       "    </tr>\n",
       "  </tbody>\n",
       "</table>\n",
       "<p>438 rows × 6 columns</p>\n",
       "</div>"
      ],
      "text/plain": [
       "                y     y_var       std  ci_95_lower  ci_95_upper     y_true\n",
       "AAAAGG  -4.655712  0.053484  0.231267    -5.118245    -4.193179  -4.490122\n",
       "AAAATC  -4.664899  0.053372  0.231024    -5.126947    -4.202851  -4.563295\n",
       "AAACGC  -3.764736  0.056246  0.237162    -4.239060    -3.290411  -3.762022\n",
       "AAAGCT  -2.354579  0.053003  0.230223    -2.815025    -1.894133  -2.278915\n",
       "AAAGGC  -4.055686  0.053139  0.230520    -4.516725    -3.594647  -4.166181\n",
       "...           ...       ...       ...          ...          ...        ...\n",
       "TTTCGT  -3.948662  0.056216  0.237100    -4.422861    -3.474463  -4.078485\n",
       "TTTGAA  -7.868073  0.059309  0.243534    -8.355140    -7.381005  -7.812920\n",
       "TTTGAT  -5.302352  0.056146  0.236952    -5.776257    -4.828448  -5.469751\n",
       "TTTGTA -10.177815  0.056164  0.236989   -10.651794    -9.703837 -10.371402\n",
       "TTTTAA  -4.134156  0.056251  0.237174    -4.608504    -3.659809  -4.006536\n",
       "\n",
       "[438 rows x 6 columns]"
      ]
     },
     "execution_count": 11,
     "metadata": {},
     "output_type": "execute_result"
    }
   ],
   "source": [
    "pred = model.predict(test.index.values, calc_variance=True)\n",
    "pred['y_true'] = data.loc[pred.index.values, 'y_true']\n",
    "pred"
   ]
  },
  {
   "cell_type": "markdown",
   "id": "7f3de01f",
   "metadata": {},
   "source": [
    "We can now check that predictions are well calibrated, this is, that the true value lies withing the 95% probability predicted interval close to the expected 95% probability; and show the error bars in the scatterplot to visualize if uncertainty is uniformly distributed along the whole range of true phenotypic values."
   ]
  },
  {
   "cell_type": "code",
   "execution_count": 12,
   "id": "f6fdaad7",
   "metadata": {},
   "outputs": [
    {
     "data": {
      "text/plain": [
       "Text(0.03, 0.97, 'Calibration=98.63%')"
      ]
     },
     "execution_count": 12,
     "metadata": {},
     "output_type": "execute_result"
    },
    {
     "data": {
      "image/png": "[encoded data removed]",
      "text/plain": [
       "<Figure size 500x500 with 1 Axes>"
      ]
     },
     "metadata": {},
     "output_type": "display_data"
    }
   ],
   "source": [
    "perc = np.mean((pred['y_true'] > pred['ci_95_lower']) & (pred['y_true'] < pred['ci_95_upper'])) * 100\n",
    "fig, axes = plt.subplots(1, 1, figsize=(5, 5))\n",
    "axes.errorbar(x=pred['y_true'], y=pred['y'], yerr=2 * pred['std'], c='black', markersize=3, fmt='o', alpha=0.2)\n",
    "axes.axline((0, 0), (1, 1), lw=0.5, c='grey', linestyle='--')\n",
    "axes.set(\n",
    "    xlabel=r\"$y_{True}$\",\n",
    "    ylabel=r\"$y_{pred}$\",\n",
    "    aspect=1,\n",
    "    xlim=(-15, 10),\n",
    "    ylim=(-15, 10),\n",
    ")\n",
    "axes.text(0.03, 0.97, 'Calibration={:.2f}%'.format(perc), transform=axes.transAxes, va='top')"
   ]
  },
  {
   "cell_type": "markdown",
   "id": "1367584e",
   "metadata": {},
   "source": [
    "### How to estimate mutational effects and epistatic coefficients under the prior\n",
    "\n",
    "Because the posterior distribution of the sequence function relationship is also a multivariate gaussian, \n",
    "\n",
    "$$\n",
    "f \\sim MvNormal(\\mu, \\Sigma)\n",
    "$$\n",
    "\n",
    "We can easily compute the posterior for any linear combination represented by $B$ of a multivariate normal distribution\n",
    "\n",
    "$$\n",
    "Bf \\sim MvNormal(B\\mu, B\\Sigma B^T)\n",
    "$$\n",
    "\n",
    "Without any prior distribution, we can assume that $\\Sigma=D_{\\sigma^2}$ and $\\mu=y$, and use the following function to compute the posterior distribution for specific linear combinations given by the contrast matrix $B$ \n"
   ]
  },
  {
   "cell_type": "code",
   "execution_count": 13,
   "id": "6ffa31e3",
   "metadata": {},
   "outputs": [],
   "source": [
    "def make_contrasts(df, contrast_matrix):\n",
    "    f = df['y']\n",
    "    Sigma = np.diag(df['y_var'])\n",
    "    B = contrast_matrix.T.values\n",
    "    mu = B @ f\n",
    "    std = np.sqrt(np.diag(B @ Sigma @ B.T))\n",
    "    posterior = norm(mu, std)\n",
    "    p = posterior.cdf(0.)\n",
    "    p = np.max(np.vstack([p, 1-p]), axis=0)\n",
    "    contrasts = pd.DataFrame({'estimate': mu, 'std': std, \n",
    "                              'ci_95_lower': mu - 2 * std, \n",
    "                              'ci_95_upper': mu + 2 * std,  \n",
    "                              'p(|x|>0)': p}, \n",
    "                              index=contrast_matrix.columns)\n",
    "    return(contrasts)"
   ]
  },
  {
   "cell_type": "markdown",
   "id": "36d4871b",
   "metadata": {},
   "source": [
    "Lets start by estimating mutational effects from`TTTTTT` to `TTTTTC`:"
   ]
  },
  {
   "cell_type": "code",
   "execution_count": 14,
   "id": "4cd6a1cb",
   "metadata": {},
   "outputs": [
    {
     "data": {
      "text/html": [
       "<div>\n",
       "<style scoped>\n",
       "    .dataframe tbody tr th:only-of-type {\n",
       "        vertical-align: middle;\n",
       "    }\n",
       "\n",
       "    .dataframe tbody tr th {\n",
       "        vertical-align: top;\n",
       "    }\n",
       "\n",
       "    .dataframe thead th {\n",
       "        text-align: right;\n",
       "    }\n",
       "</style>\n",
       "<table border=\"1\" class=\"dataframe\">\n",
       "  <thead>\n",
       "    <tr style=\"text-align: right;\">\n",
       "      <th></th>\n",
       "      <th>y_true</th>\n",
       "      <th>y</th>\n",
       "      <th>y_var</th>\n",
       "    </tr>\n",
       "  </thead>\n",
       "  <tbody>\n",
       "    <tr>\n",
       "      <th>TTTTTT</th>\n",
       "      <td>-2.149232</td>\n",
       "      <td>-2.358559</td>\n",
       "      <td>0.04</td>\n",
       "    </tr>\n",
       "    <tr>\n",
       "      <th>TTTTTC</th>\n",
       "      <td>-0.621695</td>\n",
       "      <td>-0.666689</td>\n",
       "      <td>0.04</td>\n",
       "    </tr>\n",
       "  </tbody>\n",
       "</table>\n",
       "</div>"
      ],
      "text/plain": [
       "          y_true         y  y_var\n",
       "TTTTTT -2.149232 -2.358559   0.04\n",
       "TTTTTC -0.621695 -0.666689   0.04"
      ]
     },
     "execution_count": 14,
     "metadata": {},
     "output_type": "execute_result"
    }
   ],
   "source": [
    "seqs = ['TTTTTT', 'TTTTTC']\n",
    "df = data.loc[seqs, :]\n",
    "df"
   ]
  },
  {
   "cell_type": "code",
   "execution_count": 15,
   "id": "888fe516",
   "metadata": {},
   "outputs": [
    {
     "data": {
      "text/html": [
       "<div>\n",
       "<style scoped>\n",
       "    .dataframe tbody tr th:only-of-type {\n",
       "        vertical-align: middle;\n",
       "    }\n",
       "\n",
       "    .dataframe tbody tr th {\n",
       "        vertical-align: top;\n",
       "    }\n",
       "\n",
       "    .dataframe thead th {\n",
       "        text-align: right;\n",
       "    }\n",
       "</style>\n",
       "<table border=\"1\" class=\"dataframe\">\n",
       "  <thead>\n",
       "    <tr style=\"text-align: right;\">\n",
       "      <th></th>\n",
       "      <th>T6C</th>\n",
       "    </tr>\n",
       "  </thead>\n",
       "  <tbody>\n",
       "    <tr>\n",
       "      <th>TTTTTT</th>\n",
       "      <td>1</td>\n",
       "    </tr>\n",
       "    <tr>\n",
       "      <th>TTTTTC</th>\n",
       "      <td>-1</td>\n",
       "    </tr>\n",
       "  </tbody>\n",
       "</table>\n",
       "</div>"
      ],
      "text/plain": [
       "        T6C\n",
       "TTTTTT    1\n",
       "TTTTTC   -1"
      ]
     },
     "execution_count": 15,
     "metadata": {},
     "output_type": "execute_result"
    }
   ],
   "source": [
    "contrast_matrix = pd.DataFrame({'T6C': [1, -1]}, index=['TTTTTT', 'TTTTTC'])\n",
    "contrast_matrix"
   ]
  },
  {
   "cell_type": "markdown",
   "id": "720804de",
   "metadata": {},
   "source": [
    "Lets start by computing the true mutational effect from the simulated genotype-phenotype map"
   ]
  },
  {
   "cell_type": "code",
   "execution_count": 16,
   "id": "97e01c55",
   "metadata": {},
   "outputs": [
    {
     "name": "stdout",
     "output_type": "stream",
     "text": [
      "True mutational effect = -1.53\n"
     ]
    }
   ],
   "source": [
    "true_effect = (contrast_matrix.T.values @ df['y_true'].values)[0]\n",
    "print('True mutational effect = {:.2f}'.format(true_effect))"
   ]
  },
  {
   "cell_type": "markdown",
   "id": "99fea43b",
   "metadata": {},
   "source": [
    "and compare it with our naive posterior estimate."
   ]
  },
  {
   "cell_type": "code",
   "execution_count": 17,
   "id": "1a345131",
   "metadata": {},
   "outputs": [
    {
     "name": "stdout",
     "output_type": "stream",
     "text": [
      "Estimated mutational effect = -1.69 (95% CI = [-2.26, -1.126184])\n"
     ]
    }
   ],
   "source": [
    "contrasts = make_contrasts(df, contrast_matrix)\n",
    "mu = contrasts.loc['T6C', 'estimate']\n",
    "lower = contrasts.loc['T6C', 'ci_95_lower']\n",
    "upper = contrasts.loc['T6C', 'ci_95_upper']\n",
    "print('Estimated mutational effect = {:.2f} (95% CI = [{:.2f}, {:2f}])'.format(mu, lower, upper))"
   ]
  },
  {
   "cell_type": "markdown",
   "id": "60d5b06e",
   "metadata": {},
   "source": [
    "We can see that the true effect is relatively close to the inferred one, and is within the 95% credible interval. However, the 95% credible interval is quite wide. Thus, can we do better by including taking into account our prior distribution?\n",
    "\n",
    "We can do the same calculations using the `make_contrast` method provided any user-defined `contrast_matrix`"
   ]
  },
  {
   "cell_type": "code",
   "execution_count": 18,
   "id": "8d1c03a6",
   "metadata": {},
   "outputs": [
    {
     "name": "stderr",
     "output_type": "stream",
     "text": [
      "100%|██████████| 2/2 [00:00<00:00, 16.39it/s]"
     ]
    },
    {
     "name": "stdout",
     "output_type": "stream",
     "text": [
      "Estimated mutational effect with GP prior = -1.58 (95% CI = [-1.98, -1.185415])\n"
     ]
    },
    {
     "name": "stderr",
     "output_type": "stream",
     "text": [
      "\n"
     ]
    }
   ],
   "source": [
    "contrasts = model.make_contrasts(contrast_matrix=contrast_matrix)\n",
    "mu = contrasts.loc['T6C', 'estimate']\n",
    "lower = contrasts.loc['T6C', 'ci_95_lower']\n",
    "upper = contrasts.loc['T6C', 'ci_95_upper']\n",
    "print('Estimated mutational effect with GP prior = {:.2f} (95% CI = [{:.2f}, {:2f}])'.format(mu, lower, upper))"
   ]
  },
  {
   "cell_type": "markdown",
   "id": "e99ad755",
   "metadata": {},
   "source": [
    "Thus, we can see how the estimate now is closer to the true simulated mutational effect and that the posterior distribution is tighter around it, illustrating that we have less uncertainty about its effect when taking into account the observed mutational effects across all genetic backgrounds appropriately.\n",
    "\n",
    "We can do these analyses not only for mutational effects, but also for epistatic coefficients of any order. Lets see how the previous mutational effect changes when we add a T0A mutation at the first position:"
   ]
  },
  {
   "cell_type": "code",
   "execution_count": 19,
   "id": "52e541a8",
   "metadata": {},
   "outputs": [
    {
     "data": {
      "text/html": [
       "<div>\n",
       "<style scoped>\n",
       "    .dataframe tbody tr th:only-of-type {\n",
       "        vertical-align: middle;\n",
       "    }\n",
       "\n",
       "    .dataframe tbody tr th {\n",
       "        vertical-align: top;\n",
       "    }\n",
       "\n",
       "    .dataframe thead th {\n",
       "        text-align: right;\n",
       "    }\n",
       "</style>\n",
       "<table border=\"1\" class=\"dataframe\">\n",
       "  <thead>\n",
       "    <tr style=\"text-align: right;\">\n",
       "      <th></th>\n",
       "      <th>y_true</th>\n",
       "      <th>y</th>\n",
       "      <th>y_var</th>\n",
       "    </tr>\n",
       "  </thead>\n",
       "  <tbody>\n",
       "    <tr>\n",
       "      <th>TTTTTT</th>\n",
       "      <td>-2.149232</td>\n",
       "      <td>-2.358559</td>\n",
       "      <td>0.04</td>\n",
       "    </tr>\n",
       "    <tr>\n",
       "      <th>TTTTTC</th>\n",
       "      <td>-0.621695</td>\n",
       "      <td>-0.666689</td>\n",
       "      <td>0.04</td>\n",
       "    </tr>\n",
       "    <tr>\n",
       "      <th>ATTTTT</th>\n",
       "      <td>0.040943</td>\n",
       "      <td>0.070038</td>\n",
       "      <td>0.04</td>\n",
       "    </tr>\n",
       "    <tr>\n",
       "      <th>ATTTTC</th>\n",
       "      <td>-3.423259</td>\n",
       "      <td>-3.570027</td>\n",
       "      <td>0.04</td>\n",
       "    </tr>\n",
       "  </tbody>\n",
       "</table>\n",
       "</div>"
      ],
      "text/plain": [
       "          y_true         y  y_var\n",
       "TTTTTT -2.149232 -2.358559   0.04\n",
       "TTTTTC -0.621695 -0.666689   0.04\n",
       "ATTTTT  0.040943  0.070038   0.04\n",
       "ATTTTC -3.423259 -3.570027   0.04"
      ]
     },
     "execution_count": 19,
     "metadata": {},
     "output_type": "execute_result"
    }
   ],
   "source": [
    "seqs = ['TTTTTT', 'TTTTTC', 'ATTTTT', 'ATTTTC']\n",
    "df = data.loc[seqs, :]\n",
    "df"
   ]
  },
  {
   "cell_type": "markdown",
   "id": "08cb27cb",
   "metadata": {},
   "source": [
    "Lets do it again first without using our prior distribution"
   ]
  },
  {
   "cell_type": "code",
   "execution_count": 20,
   "id": "d2b3789d",
   "metadata": {},
   "outputs": [
    {
     "data": {
      "text/html": [
       "<div>\n",
       "<style scoped>\n",
       "    .dataframe tbody tr th:only-of-type {\n",
       "        vertical-align: middle;\n",
       "    }\n",
       "\n",
       "    .dataframe tbody tr th {\n",
       "        vertical-align: top;\n",
       "    }\n",
       "\n",
       "    .dataframe thead th {\n",
       "        text-align: right;\n",
       "    }\n",
       "</style>\n",
       "<table border=\"1\" class=\"dataframe\">\n",
       "  <thead>\n",
       "    <tr style=\"text-align: right;\">\n",
       "      <th></th>\n",
       "      <th>epistatic_coeff</th>\n",
       "    </tr>\n",
       "  </thead>\n",
       "  <tbody>\n",
       "    <tr>\n",
       "      <th>TTTTTT</th>\n",
       "      <td>1</td>\n",
       "    </tr>\n",
       "    <tr>\n",
       "      <th>TTTTTC</th>\n",
       "      <td>-1</td>\n",
       "    </tr>\n",
       "    <tr>\n",
       "      <th>ATTTTT</th>\n",
       "      <td>-1</td>\n",
       "    </tr>\n",
       "    <tr>\n",
       "      <th>ATTTTC</th>\n",
       "      <td>1</td>\n",
       "    </tr>\n",
       "  </tbody>\n",
       "</table>\n",
       "</div>"
      ],
      "text/plain": [
       "        epistatic_coeff\n",
       "TTTTTT                1\n",
       "TTTTTC               -1\n",
       "ATTTTT               -1\n",
       "ATTTTC                1"
      ]
     },
     "execution_count": 20,
     "metadata": {},
     "output_type": "execute_result"
    }
   ],
   "source": [
    "contrast_matrix = pd.DataFrame({'epistatic_coeff': [1, -1, -1, 1]},\n",
    "                                index=seqs)\n",
    "contrast_matrix"
   ]
  },
  {
   "cell_type": "code",
   "execution_count": 21,
   "id": "4d9ae388",
   "metadata": {},
   "outputs": [
    {
     "name": "stdout",
     "output_type": "stream",
     "text": [
      "True epistatic coefficient = -4.99\n"
     ]
    }
   ],
   "source": [
    "true_effect = (contrast_matrix.T.values @ df['y_true'].values)[0]\n",
    "print('True epistatic coefficient = {:.2f}'.format(true_effect))"
   ]
  },
  {
   "cell_type": "code",
   "execution_count": 22,
   "id": "e6a98f72",
   "metadata": {},
   "outputs": [
    {
     "name": "stdout",
     "output_type": "stream",
     "text": [
      "Estimated epistatic coefficient = -5.33 (95% CI = [-6.13, -4.531935])\n"
     ]
    }
   ],
   "source": [
    "contrasts = make_contrasts(df, contrast_matrix)\n",
    "mu = contrasts.loc['epistatic_coeff', 'estimate']\n",
    "lower = contrasts.loc['epistatic_coeff', 'ci_95_lower']\n",
    "upper = contrasts.loc['epistatic_coeff', 'ci_95_upper']\n",
    "print('Estimated epistatic coefficient = {:.2f} (95% CI = [{:.2f}, {:2f}])'.format(mu, lower, upper))"
   ]
  },
  {
   "cell_type": "code",
   "execution_count": 23,
   "id": "8c8e1555",
   "metadata": {},
   "outputs": [
    {
     "name": "stderr",
     "output_type": "stream",
     "text": [
      "100%|██████████| 2/2 [00:00<00:00, 11.71it/s]"
     ]
    },
    {
     "name": "stdout",
     "output_type": "stream",
     "text": [
      "Estimated epistatic coefficient with GP prior = -5.15 (95% CI = [-5.67, -4.636860])\n"
     ]
    },
    {
     "name": "stderr",
     "output_type": "stream",
     "text": [
      "\n"
     ]
    }
   ],
   "source": [
    "contrasts = model.make_contrasts(contrast_matrix=contrast_matrix)\n",
    "mu = contrasts.loc['epistatic_coeff', 'estimate']\n",
    "lower = contrasts.loc['epistatic_coeff', 'ci_95_lower']\n",
    "upper = contrasts.loc['epistatic_coeff', 'ci_95_upper']\n",
    "print('Estimated epistatic coefficient with GP prior = {:.2f} (95% CI = [{:.2f}, {:2f}])'.format(mu, lower, upper))"
   ]
  },
  {
   "cell_type": "markdown",
   "id": "0d3fb04e",
   "metadata": {},
   "source": [
    "Again, we see how incorporation the prior knowledge about how well mutational effects generalize across genetic backgrounds provides a better estimate of the true epistatic coefficient and a tighter credible interval around it."
   ]
  },
  {
   "cell_type": "markdown",
   "id": "97d9d6d9",
   "metadata": {},
   "source": [
    "## Inference from real data: protein GB1\n",
    "\n",
    "In the next section, we are going to infer the complete combinatorial landscape of the protein G domain B1 from experimental data [[Wu et. al (2016)](https://elifesciences.org/articles/16965)]. In this study, a library containing nearly all possible aminoacid combinations at positions 39, 40, 41 and 54 was selected for binding to the constant fraction of IgG using an mRNA display approach. Thus, by sequencing the mRNA library before and after selection, we can obtain estimates of how strongly each sequence in the library binds its target. \n",
    "\n",
    "### Data preprocessing\n",
    "\n",
    "We take the number of times a sequence is observed in the input and selected samples as raw data for our purposes as provided by the authors [here](https://elifesciences.org/articles/16965/figures#SD1-data)."
   ]
  },
  {
   "cell_type": "code",
   "execution_count": 24,
   "id": "0626c440",
   "metadata": {},
   "outputs": [
    {
     "data": {
      "text/html": [
       "<div>\n",
       "<style scoped>\n",
       "    .dataframe tbody tr th:only-of-type {\n",
       "        vertical-align: middle;\n",
       "    }\n",
       "\n",
       "    .dataframe tbody tr th {\n",
       "        vertical-align: top;\n",
       "    }\n",
       "\n",
       "    .dataframe thead th {\n",
       "        text-align: right;\n",
       "    }\n",
       "</style>\n",
       "<table border=\"1\" class=\"dataframe\">\n",
       "  <thead>\n",
       "    <tr style=\"text-align: right;\">\n",
       "      <th></th>\n",
       "      <th>input</th>\n",
       "      <th>selected</th>\n",
       "    </tr>\n",
       "    <tr>\n",
       "      <th>sequence</th>\n",
       "      <th></th>\n",
       "      <th></th>\n",
       "    </tr>\n",
       "  </thead>\n",
       "  <tbody>\n",
       "    <tr>\n",
       "      <th>VDGV</th>\n",
       "      <td>92735</td>\n",
       "      <td>338346</td>\n",
       "    </tr>\n",
       "    <tr>\n",
       "      <th>ADGV</th>\n",
       "      <td>34</td>\n",
       "      <td>43</td>\n",
       "    </tr>\n",
       "    <tr>\n",
       "      <th>CDGV</th>\n",
       "      <td>850</td>\n",
       "      <td>641</td>\n",
       "    </tr>\n",
       "    <tr>\n",
       "      <th>DDGV</th>\n",
       "      <td>63</td>\n",
       "      <td>63</td>\n",
       "    </tr>\n",
       "    <tr>\n",
       "      <th>EDGV</th>\n",
       "      <td>841</td>\n",
       "      <td>190</td>\n",
       "    </tr>\n",
       "    <tr>\n",
       "      <th>...</th>\n",
       "      <td>...</td>\n",
       "      <td>...</td>\n",
       "    </tr>\n",
       "    <tr>\n",
       "      <th>YYYR</th>\n",
       "      <td>203</td>\n",
       "      <td>1</td>\n",
       "    </tr>\n",
       "    <tr>\n",
       "      <th>YYYS</th>\n",
       "      <td>186</td>\n",
       "      <td>3</td>\n",
       "    </tr>\n",
       "    <tr>\n",
       "      <th>YYYT</th>\n",
       "      <td>181</td>\n",
       "      <td>14</td>\n",
       "    </tr>\n",
       "    <tr>\n",
       "      <th>YYYW</th>\n",
       "      <td>30</td>\n",
       "      <td>1</td>\n",
       "    </tr>\n",
       "    <tr>\n",
       "      <th>YYYY</th>\n",
       "      <td>57</td>\n",
       "      <td>2</td>\n",
       "    </tr>\n",
       "  </tbody>\n",
       "</table>\n",
       "<p>149361 rows × 2 columns</p>\n",
       "</div>"
      ],
      "text/plain": [
       "          input  selected\n",
       "sequence                 \n",
       "VDGV      92735    338346\n",
       "ADGV         34        43\n",
       "CDGV        850       641\n",
       "DDGV         63        63\n",
       "EDGV        841       190\n",
       "...         ...       ...\n",
       "YYYR        203         1\n",
       "YYYS        186         3\n",
       "YYYT        181        14\n",
       "YYYW         30         1\n",
       "YYYY         57         2\n",
       "\n",
       "[149361 rows x 2 columns]"
      ]
     },
     "execution_count": 24,
     "metadata": {},
     "output_type": "execute_result"
    }
   ],
   "source": [
    "gb1 = DataSet('gb1')\n",
    "counts = gb1.raw_data\n",
    "counts"
   ]
  },
  {
   "cell_type": "markdown",
   "id": "0388a572",
   "metadata": {},
   "source": [
    "We first filter sequences that are poorly represented in the input library (<20 sequencing counts)."
   ]
  },
  {
   "cell_type": "code",
   "execution_count": 25,
   "id": "413e0901",
   "metadata": {},
   "outputs": [
    {
     "data": {
      "text/html": [
       "<div>\n",
       "<style scoped>\n",
       "    .dataframe tbody tr th:only-of-type {\n",
       "        vertical-align: middle;\n",
       "    }\n",
       "\n",
       "    .dataframe tbody tr th {\n",
       "        vertical-align: top;\n",
       "    }\n",
       "\n",
       "    .dataframe thead th {\n",
       "        text-align: right;\n",
       "    }\n",
       "</style>\n",
       "<table border=\"1\" class=\"dataframe\">\n",
       "  <thead>\n",
       "    <tr style=\"text-align: right;\">\n",
       "      <th></th>\n",
       "      <th>input</th>\n",
       "      <th>selected</th>\n",
       "    </tr>\n",
       "    <tr>\n",
       "      <th>sequence</th>\n",
       "      <th></th>\n",
       "      <th></th>\n",
       "    </tr>\n",
       "  </thead>\n",
       "  <tbody>\n",
       "    <tr>\n",
       "      <th>VDGV</th>\n",
       "      <td>92735</td>\n",
       "      <td>338346</td>\n",
       "    </tr>\n",
       "    <tr>\n",
       "      <th>ADGV</th>\n",
       "      <td>34</td>\n",
       "      <td>43</td>\n",
       "    </tr>\n",
       "    <tr>\n",
       "      <th>CDGV</th>\n",
       "      <td>850</td>\n",
       "      <td>641</td>\n",
       "    </tr>\n",
       "    <tr>\n",
       "      <th>DDGV</th>\n",
       "      <td>63</td>\n",
       "      <td>63</td>\n",
       "    </tr>\n",
       "    <tr>\n",
       "      <th>EDGV</th>\n",
       "      <td>841</td>\n",
       "      <td>190</td>\n",
       "    </tr>\n",
       "    <tr>\n",
       "      <th>...</th>\n",
       "      <td>...</td>\n",
       "      <td>...</td>\n",
       "    </tr>\n",
       "    <tr>\n",
       "      <th>YYYR</th>\n",
       "      <td>203</td>\n",
       "      <td>1</td>\n",
       "    </tr>\n",
       "    <tr>\n",
       "      <th>YYYS</th>\n",
       "      <td>186</td>\n",
       "      <td>3</td>\n",
       "    </tr>\n",
       "    <tr>\n",
       "      <th>YYYT</th>\n",
       "      <td>181</td>\n",
       "      <td>14</td>\n",
       "    </tr>\n",
       "    <tr>\n",
       "      <th>YYYW</th>\n",
       "      <td>30</td>\n",
       "      <td>1</td>\n",
       "    </tr>\n",
       "    <tr>\n",
       "      <th>YYYY</th>\n",
       "      <td>57</td>\n",
       "      <td>2</td>\n",
       "    </tr>\n",
       "  </tbody>\n",
       "</table>\n",
       "<p>142820 rows × 2 columns</p>\n",
       "</div>"
      ],
      "text/plain": [
       "          input  selected\n",
       "sequence                 \n",
       "VDGV      92735    338346\n",
       "ADGV         34        43\n",
       "CDGV        850       641\n",
       "DDGV         63        63\n",
       "EDGV        841       190\n",
       "...         ...       ...\n",
       "YYYR        203         1\n",
       "YYYS        186         3\n",
       "YYYT        181        14\n",
       "YYYW         30         1\n",
       "YYYY         57         2\n",
       "\n",
       "[142820 rows x 2 columns]"
      ]
     },
     "execution_count": 25,
     "metadata": {},
     "output_type": "execute_result"
    }
   ],
   "source": [
    "counts = counts.loc[counts['input'] >= 20, :]\n",
    "counts"
   ]
  },
  {
   "cell_type": "markdown",
   "id": "c562d852",
   "metadata": {},
   "source": [
    "And use [Enrich2](https://genomebiology.biomedcentral.com/articles/10.1186/s13059-017-1272-5) approach to derive the enrichment score and the associated error. \n",
    "\n",
    "$$y_i = log\\left(\\frac{ c_{i,sel} + 0.5}{c_{wt,sel} + 0.5} \\right) - log\\left(\\frac{ c_{i,inp} + 0.5}{c_{wt,inp} + 0.5} \\right)$$\n",
    "\n",
    "\n",
    "$$y_{var,i} = \\frac{1}{c_{i,inp} + 0.5} + \\frac{1}{c_{wt,inp} + 0.5} + \\frac{1}{c_{i,sel} + 0.5} +\\frac{1}{c_{wt,sel} + 0.5}$$\n"
   ]
  },
  {
   "cell_type": "code",
   "execution_count": 26,
   "id": "3de864df",
   "metadata": {},
   "outputs": [],
   "source": [
    "wt = 'VDGV'\n",
    "c_wt_input, c_wt_sel = counts.loc[wt]\n",
    "X = counts.index.values\n",
    "y = (np.log((counts['selected'] + 0.5)/(c_wt_sel + 0.5)) - np.log((counts['input'] + 0.5)/(c_wt_input + 0.5))).values\n",
    "y_var = (1/(counts['input'] + 0.5) + 1/(counts['selected'] + 0.5) + 1/(c_wt_sel + 0.5) + 1/(c_wt_input + 0.5)).values\n",
    "data = pd.DataFrame({'y': y, 'y_var': y_var}, index=X)"
   ]
  },
  {
   "cell_type": "markdown",
   "id": "b8e24eba",
   "metadata": {},
   "source": [
    "To be able to evaluate model performance, we first split the data into training and test sets keeping approximately 90% of the data for training and 10% for testing"
   ]
  },
  {
   "cell_type": "code",
   "execution_count": 27,
   "id": "7a256fc9",
   "metadata": {},
   "outputs": [],
   "source": [
    "u = np.random.uniform(size=y.shape[0]) < 0.9\n",
    "X_train, y_train, y_var_train = X[u], y[u], y_var[u]\n",
    "X_test, y_test = X[~u], y[~u]"
   ]
  },
  {
   "cell_type": "markdown",
   "id": "0b7777dc",
   "metadata": {},
   "source": [
    "### Computing the minumum epistasis interpolation solution"
   ]
  },
  {
   "cell_type": "code",
   "execution_count": 28,
   "id": "a6ce6299",
   "metadata": {},
   "outputs": [
    {
     "data": {
      "text/html": [
       "<div>\n",
       "<style scoped>\n",
       "    .dataframe tbody tr th:only-of-type {\n",
       "        vertical-align: middle;\n",
       "    }\n",
       "\n",
       "    .dataframe tbody tr th {\n",
       "        vertical-align: top;\n",
       "    }\n",
       "\n",
       "    .dataframe thead th {\n",
       "        text-align: right;\n",
       "    }\n",
       "</style>\n",
       "<table border=\"1\" class=\"dataframe\">\n",
       "  <thead>\n",
       "    <tr style=\"text-align: right;\">\n",
       "      <th></th>\n",
       "      <th>y</th>\n",
       "    </tr>\n",
       "  </thead>\n",
       "  <tbody>\n",
       "    <tr>\n",
       "      <th>AAAA</th>\n",
       "      <td>0.460831</td>\n",
       "    </tr>\n",
       "    <tr>\n",
       "      <th>AAAC</th>\n",
       "      <td>-2.475830</td>\n",
       "    </tr>\n",
       "    <tr>\n",
       "      <th>AAAD</th>\n",
       "      <td>-3.568728</td>\n",
       "    </tr>\n",
       "    <tr>\n",
       "      <th>AAAE</th>\n",
       "      <td>-4.868209</td>\n",
       "    </tr>\n",
       "    <tr>\n",
       "      <th>AAAF</th>\n",
       "      <td>-4.007796</td>\n",
       "    </tr>\n",
       "    <tr>\n",
       "      <th>...</th>\n",
       "      <td>...</td>\n",
       "    </tr>\n",
       "    <tr>\n",
       "      <th>YYYS</th>\n",
       "      <td>-5.269987</td>\n",
       "    </tr>\n",
       "    <tr>\n",
       "      <th>YYYT</th>\n",
       "      <td>-3.821426</td>\n",
       "    </tr>\n",
       "    <tr>\n",
       "      <th>YYYV</th>\n",
       "      <td>-3.143536</td>\n",
       "    </tr>\n",
       "    <tr>\n",
       "      <th>YYYW</th>\n",
       "      <td>-4.306581</td>\n",
       "    </tr>\n",
       "    <tr>\n",
       "      <th>YYYY</th>\n",
       "      <td>-4.429813</td>\n",
       "    </tr>\n",
       "  </tbody>\n",
       "</table>\n",
       "<p>160000 rows × 1 columns</p>\n",
       "</div>"
      ],
      "text/plain": [
       "             y\n",
       "AAAA  0.460831\n",
       "AAAC -2.475830\n",
       "AAAD -3.568728\n",
       "AAAE -4.868209\n",
       "AAAF -4.007796\n",
       "...        ...\n",
       "YYYS -5.269987\n",
       "YYYT -3.821426\n",
       "YYYV -3.143536\n",
       "YYYW -4.306581\n",
       "YYYY -4.429813\n",
       "\n",
       "[160000 rows x 1 columns]"
      ]
     },
     "execution_count": 28,
     "metadata": {},
     "output_type": "execute_result"
    }
   ],
   "source": [
    "model = MinimumEpistasisInterpolator(P=2, seq_length=4, alphabet_type='protein')\n",
    "model.set_data(X_train, y_train)\n",
    "mei = model.predict()\n",
    "mei"
   ]
  },
  {
   "cell_type": "code",
   "execution_count": 29,
   "id": "b5727d24",
   "metadata": {},
   "outputs": [
    {
     "data": {
      "text/plain": [
       "Text(0.05, 0.95, '$R^2$=0.832')"
      ]
     },
     "execution_count": 29,
     "metadata": {},
     "output_type": "execute_result"
    },
    {
     "data": {
      "image/png": "[encoded data removed]",
      "text/plain": [
       "<Figure size 400x400 with 1 Axes>"
      ]
     },
     "metadata": {},
     "output_type": "display_data"
    }
   ],
   "source": [
    "lim = (-9, 3)\n",
    "r2 = pearsonr(mei.loc[X_test, 'y'], y_test)[0] ** 2\n",
    "bins = np.linspace(lim[0] + 0.5, lim[1] - 0.5, 100)\n",
    "\n",
    "fig, axes = plt.subplots(1, 1, figsize=(4, 4))\n",
    "axes.hist2d(x=mei.loc[X_test, 'y'], y=y_test, cmap=\"binary\", bins=bins)\n",
    "axes.axline((0, 0), (1, 1), lw=0.5, linestyle=\"--\", c=\"grey\")\n",
    "axes.set(\n",
    "    xlabel=r\"$y_{pred}$\",\n",
    "    ylabel=r\"$y_{obs}$\",\n",
    "    xlim=(lim[0] + 0.5, lim[1] - 0.5),\n",
    "    ylim=(lim[0] + 0.5, lim[1] - 0.5),\n",
    ")\n",
    "axes.text(\n",
    "    0.05,\n",
    "    0.95,\n",
    "    r\"$R^2$=\" + \"{:.3f}\".format(r2),\n",
    "    transform=axes.transAxes,\n",
    "    color=\"black\",\n",
    "    ha=\"left\",\n",
    "    va=\"top\",\n",
    ")\n",
    "\n"
   ]
  },
  {
   "cell_type": "markdown",
   "id": "fc49dc28",
   "metadata": {},
   "source": [
    "### Estimating Variance Components"
   ]
  },
  {
   "cell_type": "code",
   "execution_count": 30,
   "id": "5de115a7",
   "metadata": {},
   "outputs": [],
   "source": [
    "model = VCregression(seq_length=4, alphabet_type='protein')\n",
    "model.fit(X=X_train, y=y_train, y_var=y_var_train)"
   ]
  },
  {
   "cell_type": "code",
   "execution_count": 31,
   "id": "7e901ebc",
   "metadata": {},
   "outputs": [],
   "source": [
    "lambdas = model.lambdas\n",
    "x = np.arange(0, lambdas.shape[0])\n",
    "variance = model.lambdas_to_variance(lambdas)\n",
    "p_variance = variance / variance.sum() * 100"
   ]
  },
  {
   "cell_type": "code",
   "execution_count": 32,
   "id": "f2037d9b",
   "metadata": {},
   "outputs": [
    {
     "data": {
      "image/png": "[encoded data removed]",
      "text/plain": [
       "<Figure size 700x350 with 2 Axes>"
      ]
     },
     "metadata": {},
     "output_type": "display_data"
    }
   ],
   "source": [
    "fig, subplots = init_fig(1, 2, colsize=3.5, rowsize=3.5)\n",
    "\n",
    "axes = subplots[0]\n",
    "axes.bar(x=x, height=lambdas, color='black')\n",
    "axes.set(xlabel='$k$', ylabel='$\\lambda_k$', yscale='log')\n",
    "\n",
    "axes = subplots[1]\n",
    "axes.bar(x=x[1:], height=p_variance, color='black')\n",
    "axes.set(xlabel='$k$', ylabel='% variance explained', ylim=(0, 100), xticks=[1, 2, 3])\n",
    "\n",
    "fig.tight_layout()"
   ]
  },
  {
   "cell_type": "markdown",
   "id": "281407df",
   "metadata": {},
   "source": [
    "### Inferring the complete GB1 landscape\n",
    "\n",
    "Now that we have inferred the variance components, we obtain inferences for the complete combinatorial landscape and check the prediction accuracy for the held-out test data. Moreover, we can also see the distribution of phenotypic values within and outside the data"
   ]
  },
  {
   "cell_type": "code",
   "execution_count": 33,
   "id": "d74cd75d",
   "metadata": {},
   "outputs": [
    {
     "data": {
      "text/html": [
       "<div>\n",
       "<style scoped>\n",
       "    .dataframe tbody tr th:only-of-type {\n",
       "        vertical-align: middle;\n",
       "    }\n",
       "\n",
       "    .dataframe tbody tr th {\n",
       "        vertical-align: top;\n",
       "    }\n",
       "\n",
       "    .dataframe thead th {\n",
       "        text-align: right;\n",
       "    }\n",
       "</style>\n",
       "<table border=\"1\" class=\"dataframe\">\n",
       "  <thead>\n",
       "    <tr style=\"text-align: right;\">\n",
       "      <th></th>\n",
       "      <th>y_pred</th>\n",
       "      <th>y</th>\n",
       "      <th>y_var</th>\n",
       "    </tr>\n",
       "  </thead>\n",
       "  <tbody>\n",
       "    <tr>\n",
       "      <th>AAAA</th>\n",
       "      <td>0.399348</td>\n",
       "      <td>0.460831</td>\n",
       "      <td>0.046009</td>\n",
       "    </tr>\n",
       "    <tr>\n",
       "      <th>AAAC</th>\n",
       "      <td>-2.551728</td>\n",
       "      <td>NaN</td>\n",
       "      <td>NaN</td>\n",
       "    </tr>\n",
       "    <tr>\n",
       "      <th>AAAD</th>\n",
       "      <td>-3.454428</td>\n",
       "      <td>NaN</td>\n",
       "      <td>NaN</td>\n",
       "    </tr>\n",
       "    <tr>\n",
       "      <th>AAAE</th>\n",
       "      <td>-4.783908</td>\n",
       "      <td>NaN</td>\n",
       "      <td>NaN</td>\n",
       "    </tr>\n",
       "    <tr>\n",
       "      <th>AAAF</th>\n",
       "      <td>-3.685388</td>\n",
       "      <td>NaN</td>\n",
       "      <td>NaN</td>\n",
       "    </tr>\n",
       "    <tr>\n",
       "      <th>...</th>\n",
       "      <td>...</td>\n",
       "      <td>...</td>\n",
       "      <td>...</td>\n",
       "    </tr>\n",
       "    <tr>\n",
       "      <th>YYYS</th>\n",
       "      <td>-4.822342</td>\n",
       "      <td>-5.269987</td>\n",
       "      <td>0.291090</td>\n",
       "    </tr>\n",
       "    <tr>\n",
       "      <th>YYYT</th>\n",
       "      <td>-3.635390</td>\n",
       "      <td>-3.821426</td>\n",
       "      <td>0.074489</td>\n",
       "    </tr>\n",
       "    <tr>\n",
       "      <th>YYYV</th>\n",
       "      <td>-3.123463</td>\n",
       "      <td>-3.143536</td>\n",
       "      <td>0.074682</td>\n",
       "    </tr>\n",
       "    <tr>\n",
       "      <th>YYYW</th>\n",
       "      <td>-4.837803</td>\n",
       "      <td>-4.306581</td>\n",
       "      <td>0.699467</td>\n",
       "    </tr>\n",
       "    <tr>\n",
       "      <th>YYYY</th>\n",
       "      <td>-4.903341</td>\n",
       "      <td>-4.429813</td>\n",
       "      <td>0.417405</td>\n",
       "    </tr>\n",
       "  </tbody>\n",
       "</table>\n",
       "<p>160000 rows × 3 columns</p>\n",
       "</div>"
      ],
      "text/plain": [
       "        y_pred         y     y_var\n",
       "AAAA  0.399348  0.460831  0.046009\n",
       "AAAC -2.551728       NaN       NaN\n",
       "AAAD -3.454428       NaN       NaN\n",
       "AAAE -4.783908       NaN       NaN\n",
       "AAAF -3.685388       NaN       NaN\n",
       "...        ...       ...       ...\n",
       "YYYS -4.822342 -5.269987  0.291090\n",
       "YYYT -3.635390 -3.821426  0.074489\n",
       "YYYV -3.123463 -3.143536  0.074682\n",
       "YYYW -4.837803 -4.306581  0.699467\n",
       "YYYY -4.903341 -4.429813  0.417405\n",
       "\n",
       "[160000 rows x 3 columns]"
      ]
     },
     "execution_count": 33,
     "metadata": {},
     "output_type": "execute_result"
    }
   ],
   "source": [
    "pred = model.predict().join(data, lsuffix='_pred')\n",
    "pred"
   ]
  },
  {
   "cell_type": "code",
   "execution_count": 34,
   "id": "06a1ec7f",
   "metadata": {},
   "outputs": [
    {
     "data": {
      "image/png": "[encoded data removed]",
      "text/plain": [
       "<Figure size 800x400 with 2 Axes>"
      ]
     },
     "metadata": {},
     "output_type": "display_data"
    }
   ],
   "source": [
    "test = pred.loc[X_test, :]\n",
    "r2 = pearsonr(test['y_pred'], test['y'])[0] ** 2\n",
    "lim = (-9, 3)\n",
    "bins = np.linspace(lim[0] + 0.5, lim[1] - 0.5, 100)\n",
    "\n",
    "fig, subplots = plt.subplots(1, 2, figsize=(8, 4))\n",
    "\n",
    "axes = subplots[0]\n",
    "axes.hist2d(x=test['y_pred'], y=test['y'], cmap='binary', bins=bins)\n",
    "axes.axline((0, 0), (1, 1), lw=0.5, linestyle='--', c='grey')\n",
    "axes.set(xlabel=r'$y_{pred}$', ylabel=r'$y_{obs}$',\n",
    "         xlim=(lim[0] + 0.5, lim[1] - 0.5),\n",
    "         ylim=(lim[0] + 0.5, lim[1] - 0.5))\n",
    "axes.text(0.05, 0.95, r'$R^2$=' + '{:.3f}'.format(r2),\n",
    "          transform=axes.transAxes, color='black', ha='left', va='top')\n",
    "\n",
    "axes = subplots[1]\n",
    "axes.hist(pred.dropna()['y_pred'], label='Observed', alpha=0.3, density=True, bins=bins, color='black')\n",
    "axes.hist(pred.loc[np.isnan(pred['y']), 'y_pred'], label='New', alpha=0.3, density=True, bins=bins, color='grey')\n",
    "axes.set(xlabel=r'$y_{pred}$', ylabel='% of sequences')\n",
    "axes.legend(loc=0)\n",
    "\n",
    "fig.tight_layout()"
   ]
  },
  {
   "cell_type": "markdown",
   "id": "7010e01d",
   "metadata": {},
   "source": [
    "### Estimating local epistatic coefficients under the prior\n",
    "\n",
    "As previously shown, we are not only restricted to making calibrated predictions for previously uncharacterized or held out sequences, but we can also get calibrated estimates for linear combinations of them and use them to answer questions about specific mutational effects and how they change as we introduced more mutations.\n",
    "\n",
    "One of the main interactions in the GB1 dataset is that taking place between positions 41 and 54. In the wild-type sequence VDGV, G41L is highly deleterious, but becomes advantageous in the presence of V54G. Now, we can use our model to compute the posterior distribution for this epistatic coefficient given the whole dataset. \n",
    "\n",
    "We can select the 4 relevant sequences and show their measurement values"
   ]
  },
  {
   "cell_type": "code",
   "execution_count": 35,
   "id": "9a36fe70",
   "metadata": {},
   "outputs": [
    {
     "data": {
      "text/html": [
       "<div>\n",
       "<style scoped>\n",
       "    .dataframe tbody tr th:only-of-type {\n",
       "        vertical-align: middle;\n",
       "    }\n",
       "\n",
       "    .dataframe tbody tr th {\n",
       "        vertical-align: top;\n",
       "    }\n",
       "\n",
       "    .dataframe thead th {\n",
       "        text-align: right;\n",
       "    }\n",
       "</style>\n",
       "<table border=\"1\" class=\"dataframe\">\n",
       "  <thead>\n",
       "    <tr style=\"text-align: right;\">\n",
       "      <th></th>\n",
       "      <th>y</th>\n",
       "      <th>y_var</th>\n",
       "    </tr>\n",
       "  </thead>\n",
       "  <tbody>\n",
       "    <tr>\n",
       "      <th>VDGV</th>\n",
       "      <td>0.000000</td>\n",
       "      <td>0.000027</td>\n",
       "    </tr>\n",
       "    <tr>\n",
       "      <th>VDGG</th>\n",
       "      <td>0.334153</td>\n",
       "      <td>0.003038</td>\n",
       "    </tr>\n",
       "    <tr>\n",
       "      <th>VDLV</th>\n",
       "      <td>-3.512487</td>\n",
       "      <td>0.105615</td>\n",
       "    </tr>\n",
       "    <tr>\n",
       "      <th>VDLG</th>\n",
       "      <td>1.140357</td>\n",
       "      <td>0.013197</td>\n",
       "    </tr>\n",
       "  </tbody>\n",
       "</table>\n",
       "</div>"
      ],
      "text/plain": [
       "             y     y_var\n",
       "VDGV  0.000000  0.000027\n",
       "VDGG  0.334153  0.003038\n",
       "VDLV -3.512487  0.105615\n",
       "VDLG  1.140357  0.013197"
      ]
     },
     "execution_count": 35,
     "metadata": {},
     "output_type": "execute_result"
    }
   ],
   "source": [
    "seqs = ['VDGV', 'VDGG', 'VDLV', 'VDLG']\n",
    "df = data.loc[seqs, :]\n",
    "df"
   ]
  },
  {
   "cell_type": "markdown",
   "id": "4b58446b",
   "metadata": {},
   "source": [
    "We then define the contrast matrices for the coefficients of interest: the single point mutational effects as well as the epistatic coefficient between them."
   ]
  },
  {
   "cell_type": "code",
   "execution_count": 36,
   "id": "7e2f77c2",
   "metadata": {},
   "outputs": [
    {
     "name": "stderr",
     "output_type": "stream",
     "text": [
      "100%|██████████| 3/3 [00:18<00:00,  6.08s/it]\n"
     ]
    },
    {
     "data": {
      "text/html": [
       "<div>\n",
       "<style scoped>\n",
       "    .dataframe tbody tr th:only-of-type {\n",
       "        vertical-align: middle;\n",
       "    }\n",
       "\n",
       "    .dataframe tbody tr th {\n",
       "        vertical-align: top;\n",
       "    }\n",
       "\n",
       "    .dataframe thead th {\n",
       "        text-align: right;\n",
       "    }\n",
       "</style>\n",
       "<table border=\"1\" class=\"dataframe\">\n",
       "  <thead>\n",
       "    <tr style=\"text-align: right;\">\n",
       "      <th></th>\n",
       "      <th>estimate</th>\n",
       "      <th>std</th>\n",
       "      <th>ci_95_lower</th>\n",
       "      <th>ci_95_upper</th>\n",
       "      <th>p(|x|&gt;0)</th>\n",
       "    </tr>\n",
       "  </thead>\n",
       "  <tbody>\n",
       "    <tr>\n",
       "      <th>G41L</th>\n",
       "      <td>-3.376735</td>\n",
       "      <td>0.277964</td>\n",
       "      <td>-3.932662</td>\n",
       "      <td>-2.820807</td>\n",
       "      <td>1.0</td>\n",
       "    </tr>\n",
       "    <tr>\n",
       "      <th>V54G</th>\n",
       "      <td>0.318694</td>\n",
       "      <td>0.055069</td>\n",
       "      <td>0.208557</td>\n",
       "      <td>0.428832</td>\n",
       "      <td>1.0</td>\n",
       "    </tr>\n",
       "    <tr>\n",
       "      <th>G41L:V54G</th>\n",
       "      <td>4.208261</td>\n",
       "      <td>0.303865</td>\n",
       "      <td>3.600531</td>\n",
       "      <td>4.815991</td>\n",
       "      <td>1.0</td>\n",
       "    </tr>\n",
       "  </tbody>\n",
       "</table>\n",
       "</div>"
      ],
      "text/plain": [
       "           estimate       std  ci_95_lower  ci_95_upper  p(|x|>0)\n",
       "G41L      -3.376735  0.277964    -3.932662    -2.820807       1.0\n",
       "V54G       0.318694  0.055069     0.208557     0.428832       1.0\n",
       "G41L:V54G  4.208261  0.303865     3.600531     4.815991       1.0"
      ]
     },
     "execution_count": 36,
     "metadata": {},
     "output_type": "execute_result"
    }
   ],
   "source": [
    "contrast_matrix = pd.DataFrame({'G41L'     : [-1,  0,  1,  0],\n",
    "                                'V54G'     : [-1,  1,  0,  0],\n",
    "                                'G41L:V54G': [ 1, -1, -1,  1]},\n",
    "                                index=seqs)\n",
    "contrast = model.make_contrasts(contrast_matrix)\n",
    "contrast"
   ]
  },
  {
   "cell_type": "markdown",
   "id": "93f38a16",
   "metadata": {},
   "source": [
    "We can see that there is strong support in the posterior for the deleterious effect of G41L in the wild-type background, but also that this is strongly reversed in the presence of V54G. Lets now compare these estimates with the naive comparisons using the estimated measurement errors alone"
   ]
  },
  {
   "cell_type": "code",
   "execution_count": 37,
   "id": "69545135",
   "metadata": {},
   "outputs": [
    {
     "data": {
      "text/html": [
       "<div>\n",
       "<style scoped>\n",
       "    .dataframe tbody tr th:only-of-type {\n",
       "        vertical-align: middle;\n",
       "    }\n",
       "\n",
       "    .dataframe tbody tr th {\n",
       "        vertical-align: top;\n",
       "    }\n",
       "\n",
       "    .dataframe thead th {\n",
       "        text-align: right;\n",
       "    }\n",
       "</style>\n",
       "<table border=\"1\" class=\"dataframe\">\n",
       "  <thead>\n",
       "    <tr style=\"text-align: right;\">\n",
       "      <th></th>\n",
       "      <th>estimate</th>\n",
       "      <th>std</th>\n",
       "      <th>ci_95_lower</th>\n",
       "      <th>ci_95_upper</th>\n",
       "      <th>p(|x|&gt;0)</th>\n",
       "    </tr>\n",
       "  </thead>\n",
       "  <tbody>\n",
       "    <tr>\n",
       "      <th>G41L</th>\n",
       "      <td>-3.512487</td>\n",
       "      <td>0.325026</td>\n",
       "      <td>-4.162539</td>\n",
       "      <td>-2.862435</td>\n",
       "      <td>1.0</td>\n",
       "    </tr>\n",
       "    <tr>\n",
       "      <th>V54G</th>\n",
       "      <td>0.334153</td>\n",
       "      <td>0.055370</td>\n",
       "      <td>0.223413</td>\n",
       "      <td>0.444892</td>\n",
       "      <td>1.0</td>\n",
       "    </tr>\n",
       "    <tr>\n",
       "      <th>G41L:V54G</th>\n",
       "      <td>4.318691</td>\n",
       "      <td>0.349109</td>\n",
       "      <td>3.620472</td>\n",
       "      <td>5.016910</td>\n",
       "      <td>1.0</td>\n",
       "    </tr>\n",
       "  </tbody>\n",
       "</table>\n",
       "</div>"
      ],
      "text/plain": [
       "           estimate       std  ci_95_lower  ci_95_upper  p(|x|>0)\n",
       "G41L      -3.512487  0.325026    -4.162539    -2.862435       1.0\n",
       "V54G       0.334153  0.055370     0.223413     0.444892       1.0\n",
       "G41L:V54G  4.318691  0.349109     3.620472     5.016910       1.0"
      ]
     },
     "execution_count": 37,
     "metadata": {},
     "output_type": "execute_result"
    }
   ],
   "source": [
    "make_contrasts(df, contrast_matrix)"
   ]
  },
  {
   "cell_type": "markdown",
   "id": "cfa8b3bf",
   "metadata": {},
   "source": [
    "We can see how estimates are then shrunk towards 0 and uncertaintly is slightly reduced by using the prior that was estimated across the complete dataset"
   ]
  }
 ],
 "metadata": {
  "kernelspec": {
   "display_name": "gpmap",
   "language": "python",
   "name": "python3"
  },
  "language_info": {
   "codemirror_mode": {
    "name": "ipython",
    "version": 3
   },
   "file_extension": ".py",
   "mimetype": "text/x-python",
   "name": "python",
   "nbconvert_exporter": "python",
   "pygments_lexer": "ipython3",
   "version": "3.8.18"
  }
 },
 "nbformat": 4,
 "nbformat_minor": 5
}
