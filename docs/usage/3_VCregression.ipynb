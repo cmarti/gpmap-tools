{
 "cells": [
  {
   "cell_type": "markdown",
   "id": "03812395",
   "metadata": {},
   "source": [
    "# Experimental data\n",
    "\n",
    "In contrast to theoretical or computational landscapes, like the Serine codon model shown in previous sections, empirical landscapes are based on experimental data. Such data is typically noisy and incomplete, so we need to apply additional methods to obtain reliable estimates of the phenotype of every possible genotype in order to visualize the genotype-phenotype map.\n",
    "\n",
    "\n",
    "## Introduction to Variance Component regression\n",
    "\n",
    "We provide a simple interface to perform [Variance Component regression](https://doi.org/10.1073/pnas.2204233119). Briefly, VC regression uses the empirical data to estimate a prior distribution to perform Gaussian Process regression on functions over sequence space characterized by the contribution of the different orders of interaction to the sequence-dependent variability in the data.\n",
    "\n",
    "A function $f$ can be decomposed into pure $k$'th order functions over sequence space for sequences of length $\\ell$\n",
    "\n",
    "$$f = \\sum_{k=0}^{\\ell} f_k$$\n",
    "\n",
    "Then, we can estimate and predict the phenotype at every possible sequence assuming that the prior is generalizes to regions of sequence space or genotypes that have not been experimentally measured\n",
    "\n",
    "\n",
    "### Input data\n",
    "\n",
    "The required input data will be a set of sequences `X` and the associated measurements `y`, and optionally the variance of the measurement `y_var`, if known. Knowning the experimental variance e.g. from replicate experiments, would allow us to tease appart experimental noise from true high order genetic interactions that show complex patterns in the data. "
   ]
  },
  {
   "cell_type": "code",
   "execution_count": 44,
   "id": "f34627a2",
   "metadata": {},
   "outputs": [],
   "source": [
    "# Import required libraries\n",
    "import pandas as pd\n",
    "import numpy as np\n",
    "import matplotlib.pyplot as plt\n",
    "\n",
    "from scipy.stats import pearsonr, norm\n",
    "from gpmap.src.datasets import DataSet\n",
    "from gpmap.src.inference import VCregression\n",
    "from gpmap.src.plot.mpl import plot_hyperparam_cv, init_fig"
   ]
  },
  {
   "cell_type": "markdown",
   "id": "48dc85f2",
   "metadata": {},
   "source": [
    "## Inference from simulated data\n",
    "\n",
    "We first illustrate how to run VC regression on simulated data from the prior distribution characterized by the variance components $\\lambda$'s of each order of interaction. \n",
    "\n",
    "### How to sample functions from the prior distribution\n",
    "\n",
    "A simple way to sample from the prior distribution is by sampling a random uncorrelated function $a$\n",
    "\n",
    "$$a \\sim Normal(0, 1)$$\n",
    "\n",
    "project it into the different subspaces using the projection operator $W_k$, rescale them to have the associated variance and add them up together\n",
    "\n",
    "$$f = \\sum_{k=0}^{\\ell}\\lambda_k^{\\frac{1}{2}}W_k a$$\n",
    "\n",
    "We can do it simply as follows, adding some random noise and missing data points for which we can make predictions later"
   ]
  },
  {
   "cell_type": "code",
   "execution_count": 45,
   "id": "838329b0",
   "metadata": {},
   "outputs": [
    {
     "data": {
      "text/html": [
       "<div>\n",
       "<style scoped>\n",
       "    .dataframe tbody tr th:only-of-type {\n",
       "        vertical-align: middle;\n",
       "    }\n",
       "\n",
       "    .dataframe tbody tr th {\n",
       "        vertical-align: top;\n",
       "    }\n",
       "\n",
       "    .dataframe thead th {\n",
       "        text-align: right;\n",
       "    }\n",
       "</style>\n",
       "<table border=\"1\" class=\"dataframe\">\n",
       "  <thead>\n",
       "    <tr style=\"text-align: right;\">\n",
       "      <th></th>\n",
       "      <th>y_true</th>\n",
       "      <th>y</th>\n",
       "      <th>y_var</th>\n",
       "    </tr>\n",
       "  </thead>\n",
       "  <tbody>\n",
       "    <tr>\n",
       "      <th>AAAAAA</th>\n",
       "      <td>1.382832</td>\n",
       "      <td>1.534598</td>\n",
       "      <td>0.04</td>\n",
       "    </tr>\n",
       "    <tr>\n",
       "      <th>AAAAAC</th>\n",
       "      <td>1.474654</td>\n",
       "      <td>1.332668</td>\n",
       "      <td>0.04</td>\n",
       "    </tr>\n",
       "    <tr>\n",
       "      <th>AAAAAG</th>\n",
       "      <td>-0.001177</td>\n",
       "      <td>0.029052</td>\n",
       "      <td>0.04</td>\n",
       "    </tr>\n",
       "    <tr>\n",
       "      <th>AAAAAT</th>\n",
       "      <td>-2.664679</td>\n",
       "      <td>-2.400061</td>\n",
       "      <td>0.04</td>\n",
       "    </tr>\n",
       "    <tr>\n",
       "      <th>AAAACA</th>\n",
       "      <td>2.751488</td>\n",
       "      <td>2.565923</td>\n",
       "      <td>0.04</td>\n",
       "    </tr>\n",
       "    <tr>\n",
       "      <th>...</th>\n",
       "      <td>...</td>\n",
       "      <td>...</td>\n",
       "      <td>...</td>\n",
       "    </tr>\n",
       "    <tr>\n",
       "      <th>TTTTGT</th>\n",
       "      <td>-0.261994</td>\n",
       "      <td>-0.034751</td>\n",
       "      <td>0.04</td>\n",
       "    </tr>\n",
       "    <tr>\n",
       "      <th>TTTTTA</th>\n",
       "      <td>-9.811363</td>\n",
       "      <td>-9.728812</td>\n",
       "      <td>0.04</td>\n",
       "    </tr>\n",
       "    <tr>\n",
       "      <th>TTTTTC</th>\n",
       "      <td>-6.263079</td>\n",
       "      <td>-6.248158</td>\n",
       "      <td>0.04</td>\n",
       "    </tr>\n",
       "    <tr>\n",
       "      <th>TTTTTG</th>\n",
       "      <td>-9.335876</td>\n",
       "      <td>-9.041291</td>\n",
       "      <td>0.04</td>\n",
       "    </tr>\n",
       "    <tr>\n",
       "      <th>TTTTTT</th>\n",
       "      <td>-3.533720</td>\n",
       "      <td>-3.544157</td>\n",
       "      <td>0.04</td>\n",
       "    </tr>\n",
       "  </tbody>\n",
       "</table>\n",
       "<p>3658 rows × 3 columns</p>\n",
       "</div>"
      ],
      "text/plain": [
       "          y_true         y  y_var\n",
       "AAAAAA  1.382832  1.534598   0.04\n",
       "AAAAAC  1.474654  1.332668   0.04\n",
       "AAAAAG -0.001177  0.029052   0.04\n",
       "AAAAAT -2.664679 -2.400061   0.04\n",
       "AAAACA  2.751488  2.565923   0.04\n",
       "...          ...       ...    ...\n",
       "TTTTGT -0.261994 -0.034751   0.04\n",
       "TTTTTA -9.811363 -9.728812   0.04\n",
       "TTTTTC -6.263079 -6.248158   0.04\n",
       "TTTTTG -9.335876 -9.041291   0.04\n",
       "TTTTTT -3.533720 -3.544157   0.04\n",
       "\n",
       "[3658 rows x 3 columns]"
      ]
     },
     "execution_count": 45,
     "metadata": {},
     "output_type": "execute_result"
    }
   ],
   "source": [
    "np.random.seed(0)\n",
    "lambdas_true = np.array([1e4, 1e3, 2e2, 1e0, 1e-1, 3e-3, 1e-5])\n",
    "\n",
    "model = VCregression(seq_length=6, alphabet_type='dna', lambdas=lambdas_true)\n",
    "data = model.simulate(sigma=0.2, p_missing=0.1)\n",
    "obs = data.dropna()\n",
    "obs"
   ]
  },
  {
   "cell_type": "markdown",
   "id": "ce611af4",
   "metadata": {},
   "source": [
    "### How to estimate Variance Components $\\lambda$'s\n",
    "\n",
    "This is done through kernel alignment, this is, matching the raw second order matrix with a non-negative linear combination of the covariance matrices $K_k$ associated to each pure $k$ order component \n",
    "\n",
    "$$K_{BB} = D_{var} + \\sum_k \\lambda_k K_k$$\n",
    "\n",
    "by finding the $\\lambda$'s that minimize the Frobenius norm of the difference between the empirical second moment matrix and the kernel matrix\n",
    "\n",
    "$$\\min_{\\lambda} \\lVert yy^T - K_{BB}\\lVert_F^2$$\n",
    "\n",
    "\n"
   ]
  },
  {
   "cell_type": "code",
   "execution_count": 46,
   "id": "5ccde983",
   "metadata": {},
   "outputs": [],
   "source": [
    "model.fit(X=obs.index.values, y=obs.y.values, y_var=obs.y_var.values)\n",
    "vc = model.lambdas_to_variance(model.lambdas)\n",
    "vc_p = vc / vc.sum() * 100"
   ]
  },
  {
   "cell_type": "code",
   "execution_count": 47,
   "id": "c6131627",
   "metadata": {},
   "outputs": [
    {
     "data": {
      "image/png": "[encoded data removed]",
      "text/plain": [
       "<Figure size 1200x350 with 3 Axes>"
      ]
     },
     "metadata": {},
     "output_type": "display_data"
    }
   ],
   "source": [
    "k = np.arange(model.lambdas.shape[0])\n",
    "\n",
    "fig, subplots = plt.subplots(1, 3, figsize=(12, 3.5))\n",
    "\n",
    "axes = subplots[0]\n",
    "axes.bar(x=k, height=model.lambdas, color='black')\n",
    "axes.set(xlabel='k', ylabel=r'$\\lambda_k$', yscale='log',\n",
    "         xticks=np.arange(7))\n",
    "\n",
    "axes = subplots[1]\n",
    "axes.bar(x=k[1:], height=vc_p, color='black')\n",
    "axes.set(xlabel='k', ylabel='% variance explained')\n",
    "\n",
    "axes = subplots[2]\n",
    "axes.scatter(lambdas_true, model.lambdas, c='black')\n",
    "lims = (1e-11, 1e4)\n",
    "axes.plot(lims, lims, c='grey', lw=0.3, alpha=0.5)\n",
    "axes.set(xscale='log', yscale='log',\n",
    "         xlabel=r'True $\\lambda_k$',\n",
    "         ylabel=r'Inferred $\\lambda_k$',\n",
    "         xlim=lims, ylim=lims)\n",
    "\n",
    "fig.tight_layout()"
   ]
  },
  {
   "cell_type": "markdown",
   "id": "cff9aee0",
   "metadata": {},
   "source": [
    "We can see that the inferred variance components are very similar in log scale to the true data-generating parameters. \n",
    "\n",
    "However, when data is sparse, kernel alignment is a hard problem and we need to regularize towards simpler solutions. While we could shrink towards additivity, another good general choice that still models high order interactions is towards exponential decay of the variance components. We can do it by setting `cross_validation=True` and penalizing the second order moments of the $\\log \\lambda_k$ as a function of $k$. It will automatically split the data into different folds and perform kernel alignment under different regularization strength to find the penalization constant that minimizes the Frobenius norm in the validation sets."
   ]
  },
  {
   "cell_type": "code",
   "execution_count": 48,
   "id": "36b593fa",
   "metadata": {},
   "outputs": [
    {
     "name": "stderr",
     "output_type": "stream",
     "text": [
      "  0%|          | 0/100 [00:00<?, ?it/s]"
     ]
    },
    {
     "name": "stderr",
     "output_type": "stream",
     "text": [
      "100%|██████████| 100/100 [00:03<00:00, 28.94it/s]\n"
     ]
    }
   ],
   "source": [
    "cvmodel = VCregression(cross_validation=True, max_log_beta=5)\n",
    "cvmodel.fit(X=obs.index.values, y=obs.y.values, y_var=obs.y_var.values)"
   ]
  },
  {
   "cell_type": "markdown",
   "id": "94909f1c",
   "metadata": {},
   "source": [
    "By default, the validation loss is also the Frobenius norm as well, but we can select it to use the $R^2$ on the or the log-likelihood on validation set if we want to take into account the known measurement errors by specifying either `cv_loss_function='r2'` or `cv_loss_function='logL'`. Note that any of them will be substantially slower because we need to make predictions of the validation set instead of just comparing with the empirical second moments in the validation set. "
   ]
  },
  {
   "cell_type": "code",
   "execution_count": 49,
   "id": "d1050335",
   "metadata": {
    "scrolled": true
   },
   "outputs": [
    {
     "name": "stderr",
     "output_type": "stream",
     "text": [
      "100%|██████████| 100/100 [00:15<00:00,  6.61it/s]\n"
     ]
    }
   ],
   "source": [
    "cvmodel = VCregression(cross_validation=True, cv_loss_function='logL', max_log_beta=5)\n",
    "cvmodel.fit(X=obs.index.values, y=obs.y.values, y_var=obs.y_var.values)"
   ]
  },
  {
   "cell_type": "markdown",
   "id": "a8af51e5",
   "metadata": {},
   "source": [
    "We can visualize the hyperparameter optimization curves during the cross-validation procedure as follows"
   ]
  },
  {
   "cell_type": "code",
   "execution_count": 50,
   "id": "af857d36",
   "metadata": {},
   "outputs": [
    {
     "data": {
      "image/png": "[encoded data removed]",
      "text/plain": [
       "<Figure size 500x450 with 1 Axes>"
      ]
     },
     "metadata": {},
     "output_type": "display_data"
    }
   ],
   "source": [
    "fig, axes = plt.subplots(1, 1, figsize=(5, 4.5))\n",
    "plot_hyperparam_cv(cvmodel.cv_loss_df, axes, x='log_beta', y='loss', show_folds=True,\n",
    "                   xlabel=r'$\\log\\beta$', ylabel=r'$-log(\\L)$', highlight='min')"
   ]
  },
  {
   "cell_type": "markdown",
   "id": "96b9ffb2",
   "metadata": {},
   "source": [
    "#### Uniform measurement noise in variance components\n",
    "\n",
    "We have seen that higher order components are less accurately estimated given their small contribution and the presence of measurement noise. In fact, large uniform measurement noise or, equivalently, a House of Cards (HoC) component will manifest as a constant increase in the variance components that will hinder estimation of high order components even if we exactly know the variance of the measurement error at sequence.\n",
    "\n",
    "$$K = \\sigma^2 I + \\sum_k \\lambda_k K_k = \\sigma^2 \\sum_k K_k + \\sum_k \\lambda_k K_k = \\sum_k (\\lambda_k + \\sigma^2) K_k$$\n"
   ]
  },
  {
   "cell_type": "code",
   "execution_count": 51,
   "id": "9399e3c7",
   "metadata": {},
   "outputs": [],
   "source": [
    "model.set_lambdas(lambdas_true)\n",
    "data2 = model.simulate(sigma=0.5)\n",
    "model.fit(X=data2.index.values, y=data2.y.values, y_var=data2.y_var.values)\n",
    "lambdas = model.lambdas"
   ]
  },
  {
   "cell_type": "code",
   "execution_count": 52,
   "id": "6d0e7e04",
   "metadata": {},
   "outputs": [
    {
     "data": {
      "image/png": "[encoded data removed]",
      "text/plain": [
       "<Figure size 400x400 with 1 Axes>"
      ]
     },
     "metadata": {},
     "output_type": "display_data"
    }
   ],
   "source": [
    "fig, axes = plt.subplots(1, 1, figsize=(4, 4))\n",
    "\n",
    "axes.scatter(lambdas_true[1:], lambdas[1:], c='black')\n",
    "lims = (1e-6, 1e5)\n",
    "axes.plot(lims, lims, c='grey', lw=0.3, alpha=0.5)\n",
    "axes.plot(lims, (0.25, 0.25), c='darkred', lw=0.3, \n",
    "          label=r'$\\sigma^2$', linestyle='--')\n",
    "axes.set(xscale='log', yscale='log',\n",
    "         xlabel=r'True $\\lambda_k$',\n",
    "         ylabel=r'Inferred $\\lambda_k$',\n",
    "         xlim=lims, ylim=lims,\n",
    "         aspect=1)\n",
    "axes.legend(loc=4)\n",
    "\n",
    "fig.tight_layout()"
   ]
  },
  {
   "cell_type": "markdown",
   "id": "a9dcb37f",
   "metadata": {},
   "source": [
    "### How to obtain phenotypic predictions\n",
    "\n",
    "Once we know the parameters of the Variance Component kernel, this is, the variance components $\\lambda_k$, we can directly compute the mean and variance of the posterior distribution of the function for every possible sequence"
   ]
  },
  {
   "cell_type": "code",
   "execution_count": 53,
   "id": "16df54ca",
   "metadata": {},
   "outputs": [
    {
     "data": {
      "text/html": [
       "<div>\n",
       "<style scoped>\n",
       "    .dataframe tbody tr th:only-of-type {\n",
       "        vertical-align: middle;\n",
       "    }\n",
       "\n",
       "    .dataframe tbody tr th {\n",
       "        vertical-align: top;\n",
       "    }\n",
       "\n",
       "    .dataframe thead th {\n",
       "        text-align: right;\n",
       "    }\n",
       "</style>\n",
       "<table border=\"1\" class=\"dataframe\">\n",
       "  <thead>\n",
       "    <tr style=\"text-align: right;\">\n",
       "      <th></th>\n",
       "      <th>y</th>\n",
       "    </tr>\n",
       "  </thead>\n",
       "  <tbody>\n",
       "    <tr>\n",
       "      <th>AAAAAA</th>\n",
       "      <td>1.436630</td>\n",
       "    </tr>\n",
       "    <tr>\n",
       "      <th>AAAAAC</th>\n",
       "      <td>1.408142</td>\n",
       "    </tr>\n",
       "    <tr>\n",
       "      <th>AAAAAG</th>\n",
       "      <td>0.031306</td>\n",
       "    </tr>\n",
       "    <tr>\n",
       "      <th>AAAAAT</th>\n",
       "      <td>-2.437964</td>\n",
       "    </tr>\n",
       "    <tr>\n",
       "      <th>AAAACA</th>\n",
       "      <td>2.610788</td>\n",
       "    </tr>\n",
       "    <tr>\n",
       "      <th>...</th>\n",
       "      <td>...</td>\n",
       "    </tr>\n",
       "    <tr>\n",
       "      <th>TTTTGT</th>\n",
       "      <td>-0.194110</td>\n",
       "    </tr>\n",
       "    <tr>\n",
       "      <th>TTTTTA</th>\n",
       "      <td>-9.604287</td>\n",
       "    </tr>\n",
       "    <tr>\n",
       "      <th>TTTTTC</th>\n",
       "      <td>-6.154395</td>\n",
       "    </tr>\n",
       "    <tr>\n",
       "      <th>TTTTTG</th>\n",
       "      <td>-9.150607</td>\n",
       "    </tr>\n",
       "    <tr>\n",
       "      <th>TTTTTT</th>\n",
       "      <td>-3.416935</td>\n",
       "    </tr>\n",
       "  </tbody>\n",
       "</table>\n",
       "<p>4096 rows × 1 columns</p>\n",
       "</div>"
      ],
      "text/plain": [
       "               y\n",
       "AAAAAA  1.436630\n",
       "AAAAAC  1.408142\n",
       "AAAAAG  0.031306\n",
       "AAAAAT -2.437964\n",
       "AAAACA  2.610788\n",
       "...          ...\n",
       "TTTTGT -0.194110\n",
       "TTTTTA -9.604287\n",
       "TTTTTC -6.154395\n",
       "TTTTTG -9.150607\n",
       "TTTTTT -3.416935\n",
       "\n",
       "[4096 rows x 1 columns]"
      ]
     },
     "execution_count": 53,
     "metadata": {},
     "output_type": "execute_result"
    }
   ],
   "source": [
    "model.fit(X=obs.index.values, y=obs.y.values, y_var=obs.y_var.values)\n",
    "pred = model.predict()\n",
    "pred"
   ]
  },
  {
   "cell_type": "markdown",
   "id": "3a1b07a8",
   "metadata": {},
   "source": [
    "We can now compare the predictions with the true function at sequences that were not observed to see how well we can predict the phenotype of sequences missing at random"
   ]
  },
  {
   "cell_type": "code",
   "execution_count": 54,
   "id": "52faa016",
   "metadata": {},
   "outputs": [
    {
     "data": {
      "image/png": "[encoded data removed]",
      "text/plain": [
       "<Figure size 400x400 with 1 Axes>"
      ]
     },
     "metadata": {},
     "output_type": "display_data"
    }
   ],
   "source": [
    "test = data.loc[np.isnan(data['y']), :].copy()\n",
    "test = test.join(pred, rsuffix='_pred')\n",
    "r2 = pearsonr(test['y_pred'], test['y_true'])[0] ** 2\n",
    "\n",
    "fig, axes = plt.subplots(1, 1, figsize=(4, 4))\n",
    "axes.scatter(x=test['y_true'], y=test['y_pred'], c='black', alpha=0.2, s=2)\n",
    "ticks = np.arange(-10, 9, 2)\n",
    "axes.set(xlabel=r'$y_{True}$', ylabel=r'$y_{pred}$', aspect=1,\n",
    "         xticks=ticks, yticks=ticks)\n",
    "axes.text(0.03, 0.97, r'$R^2$=' + '{:.3f}'.format(r2), transform=axes.transAxes,\n",
    "          va='top')\n",
    "axes.grid(alpha=0.2)"
   ]
  },
  {
   "cell_type": "markdown",
   "id": "78636627",
   "metadata": {},
   "source": [
    "### How to calculate uncertainty of the predictions\n",
    "\n",
    "In the previous section, we have shown how to obtain the best estimates for unobserved sequences given the data and the estimated variance components. However, in cases where the ground truth is not known, it can be useful to have an idea about the uncertainty of the phenotypic predictions for new sequences. As we are using Gaussian Process models with Gaussian likelihood function, we can compute, not only the posterior mean, but also the posterior variance and 95% probability credible interval for these sequences by setting `calc_variance=True`.\n",
    "\n"
   ]
  },
  {
   "cell_type": "code",
   "execution_count": 55,
   "id": "1b2ad2fb",
   "metadata": {},
   "outputs": [
    {
     "name": "stderr",
     "output_type": "stream",
     "text": [
      "100%|██████████| 100/100 [00:02<00:00, 42.30it/s]\n"
     ]
    },
    {
     "data": {
      "text/html": [
       "<div>\n",
       "<style scoped>\n",
       "    .dataframe tbody tr th:only-of-type {\n",
       "        vertical-align: middle;\n",
       "    }\n",
       "\n",
       "    .dataframe tbody tr th {\n",
       "        vertical-align: top;\n",
       "    }\n",
       "\n",
       "    .dataframe thead th {\n",
       "        text-align: right;\n",
       "    }\n",
       "</style>\n",
       "<table border=\"1\" class=\"dataframe\">\n",
       "  <thead>\n",
       "    <tr style=\"text-align: right;\">\n",
       "      <th></th>\n",
       "      <th>y</th>\n",
       "      <th>y_var</th>\n",
       "      <th>sd</th>\n",
       "      <th>ci_95_lower</th>\n",
       "      <th>ci_95_upper</th>\n",
       "      <th>y_true</th>\n",
       "    </tr>\n",
       "  </thead>\n",
       "  <tbody>\n",
       "    <tr>\n",
       "      <th>GGCATT</th>\n",
       "      <td>-5.908215</td>\n",
       "      <td>0.027515</td>\n",
       "      <td>0.165877</td>\n",
       "      <td>-6.239969</td>\n",
       "      <td>-5.576460</td>\n",
       "      <td>-5.757500</td>\n",
       "    </tr>\n",
       "    <tr>\n",
       "      <th>GCGAGG</th>\n",
       "      <td>-1.066211</td>\n",
       "      <td>0.029607</td>\n",
       "      <td>0.172068</td>\n",
       "      <td>-1.410348</td>\n",
       "      <td>-0.722075</td>\n",
       "      <td>-1.253163</td>\n",
       "    </tr>\n",
       "    <tr>\n",
       "      <th>GGTATG</th>\n",
       "      <td>-8.790989</td>\n",
       "      <td>0.027553</td>\n",
       "      <td>0.165990</td>\n",
       "      <td>-9.122968</td>\n",
       "      <td>-8.459009</td>\n",
       "      <td>-8.682918</td>\n",
       "    </tr>\n",
       "    <tr>\n",
       "      <th>GCAATA</th>\n",
       "      <td>-4.654002</td>\n",
       "      <td>0.027514</td>\n",
       "      <td>0.165872</td>\n",
       "      <td>-4.985746</td>\n",
       "      <td>-4.322257</td>\n",
       "      <td>-4.938248</td>\n",
       "    </tr>\n",
       "    <tr>\n",
       "      <th>ACGGAT</th>\n",
       "      <td>-3.162663</td>\n",
       "      <td>0.031106</td>\n",
       "      <td>0.176370</td>\n",
       "      <td>-3.515402</td>\n",
       "      <td>-2.809924</td>\n",
       "      <td>-3.145549</td>\n",
       "    </tr>\n",
       "    <tr>\n",
       "      <th>...</th>\n",
       "      <td>...</td>\n",
       "      <td>...</td>\n",
       "      <td>...</td>\n",
       "      <td>...</td>\n",
       "      <td>...</td>\n",
       "      <td>...</td>\n",
       "    </tr>\n",
       "    <tr>\n",
       "      <th>CGCTTT</th>\n",
       "      <td>-0.688935</td>\n",
       "      <td>0.029019</td>\n",
       "      <td>0.170350</td>\n",
       "      <td>-1.029635</td>\n",
       "      <td>-0.348234</td>\n",
       "      <td>-0.853897</td>\n",
       "    </tr>\n",
       "    <tr>\n",
       "      <th>ATTAAT</th>\n",
       "      <td>-2.865163</td>\n",
       "      <td>0.027806</td>\n",
       "      <td>0.166751</td>\n",
       "      <td>-3.198665</td>\n",
       "      <td>-2.531662</td>\n",
       "      <td>-2.633549</td>\n",
       "    </tr>\n",
       "    <tr>\n",
       "      <th>CGTTTG</th>\n",
       "      <td>-7.962800</td>\n",
       "      <td>0.027583</td>\n",
       "      <td>0.166080</td>\n",
       "      <td>-8.294960</td>\n",
       "      <td>-7.630639</td>\n",
       "      <td>-8.184397</td>\n",
       "    </tr>\n",
       "    <tr>\n",
       "      <th>ACGGTG</th>\n",
       "      <td>-4.965101</td>\n",
       "      <td>0.028053</td>\n",
       "      <td>0.167489</td>\n",
       "      <td>-5.300079</td>\n",
       "      <td>-4.630122</td>\n",
       "      <td>-4.975781</td>\n",
       "    </tr>\n",
       "    <tr>\n",
       "      <th>GCGGAA</th>\n",
       "      <td>-6.386874</td>\n",
       "      <td>0.027466</td>\n",
       "      <td>0.165728</td>\n",
       "      <td>-6.718330</td>\n",
       "      <td>-6.055418</td>\n",
       "      <td>-6.817871</td>\n",
       "    </tr>\n",
       "  </tbody>\n",
       "</table>\n",
       "<p>100 rows × 6 columns</p>\n",
       "</div>"
      ],
      "text/plain": [
       "               y     y_var        sd  ci_95_lower  ci_95_upper    y_true\n",
       "GGCATT -5.908215  0.027515  0.165877    -6.239969    -5.576460 -5.757500\n",
       "GCGAGG -1.066211  0.029607  0.172068    -1.410348    -0.722075 -1.253163\n",
       "GGTATG -8.790989  0.027553  0.165990    -9.122968    -8.459009 -8.682918\n",
       "GCAATA -4.654002  0.027514  0.165872    -4.985746    -4.322257 -4.938248\n",
       "ACGGAT -3.162663  0.031106  0.176370    -3.515402    -2.809924 -3.145549\n",
       "...          ...       ...       ...          ...          ...       ...\n",
       "CGCTTT -0.688935  0.029019  0.170350    -1.029635    -0.348234 -0.853897\n",
       "ATTAAT -2.865163  0.027806  0.166751    -3.198665    -2.531662 -2.633549\n",
       "CGTTTG -7.962800  0.027583  0.166080    -8.294960    -7.630639 -8.184397\n",
       "ACGGTG -4.965101  0.028053  0.167489    -5.300079    -4.630122 -4.975781\n",
       "GCGGAA -6.386874  0.027466  0.165728    -6.718330    -6.055418 -6.817871\n",
       "\n",
       "[100 rows x 6 columns]"
      ]
     },
     "execution_count": 55,
     "metadata": {},
     "output_type": "execute_result"
    }
   ],
   "source": [
    "xpred = np.random.choice(test.index.values, 100)\n",
    "pred = model.predict(xpred, calc_variance=True)\n",
    "pred['y_true'] = data.loc[pred.index.values, 'y_true']\n",
    "pred"
   ]
  },
  {
   "cell_type": "markdown",
   "id": "7f3de01f",
   "metadata": {},
   "source": [
    "We can now check that predictions are well calibrated, this is, that the true value lies withing the 95% probability predicted interval close to the expected 95% probability; and show the error bars in the scatterplot to visualize if uncertainty is uniformly distributed along the whole range of true phenotypic values."
   ]
  },
  {
   "cell_type": "code",
   "execution_count": 56,
   "id": "f6fdaad7",
   "metadata": {},
   "outputs": [
    {
     "data": {
      "image/png": "[encoded data removed]",
      "text/plain": [
       "<Figure size 500x500 with 1 Axes>"
      ]
     },
     "metadata": {},
     "output_type": "display_data"
    }
   ],
   "source": [
    "perc = np.mean((pred['y_true'] > pred['ci_95_lower']) & (pred['y_true'] < pred['ci_95_upper'])) * 100\n",
    "fig, axes = plt.subplots(1, 1, figsize=(5, 5))\n",
    "axes.scatter(x=pred['y_true'], y=pred['y'], c='purple', s=5)\n",
    "for x, l, u in zip(pred['y_true'], pred['ci_95_lower'], pred['ci_95_upper']):\n",
    "    axes.plot((x, x), (l, u), lw=1, c='purple')\n",
    "lim = (-11, 7)\n",
    "axes.plot(lim, lim, lw=0.5, c='black', linestyle='--')\n",
    "axes.set(xlabel=r'$y_{True}$', ylabel=r'$y_{pred}$', aspect=1,\n",
    "         ylim=lim, xlim=lim)\n",
    "axes.text(0.03, 0.97, 'Calibration={}%'.format(perc), transform=axes.transAxes, va='top')\n",
    "axes.grid(alpha=0.2)"
   ]
  },
  {
   "cell_type": "markdown",
   "id": "1367584e",
   "metadata": {},
   "source": [
    "### How to estimate mutational effects and epistatic coefficients under the prior\n",
    "\n",
    "Because the posterior distribution of the sequence function relationship is also a multivariate gaussian, \n",
    "\n",
    "$$\n",
    "f \\sim MvNormal(\\mu, \\Sigma)\n",
    "$$\n",
    "\n",
    "where\n",
    "$$\\mu = K_{·B} (K_{BB} + D_{var})^{-1}$$\n",
    "$$\\Sigma = K_{··} - K_{·B} (K_{BB} + D_{var})^{-1} K_{B·}$$\n",
    "\n",
    "We can easily compute the posterior for any linear combination represented by $B$ of a multivariate normal distribution\n",
    "\n",
    "$$\n",
    "Bf \\sim MvNormal(B\\mu, B\\Sigma B^T)\n",
    "$$\n",
    "\n",
    "The following function allows to do these simple calculations"
   ]
  },
  {
   "cell_type": "code",
   "execution_count": 42,
   "id": "6ffa31e3",
   "metadata": {},
   "outputs": [],
   "source": [
    "def make_contrasts(df, contrast_matrix):\n",
    "    f = df['y']\n",
    "    Sigma = np.diag(df['y_var'])\n",
    "    B = contrast_matrix.T.values\n",
    "    mu = B @ f\n",
    "    std = np.sqrt(np.diag(B @ Sigma @ B.T))\n",
    "    posterior = norm(mu, std)\n",
    "    p = posterior.cdf(0.)\n",
    "    p = np.max(np.vstack([p, 1-p]), axis=0)\n",
    "    contrasts = pd.DataFrame({'estimate': mu, 'std': std, \n",
    "                              'ci_95_lower': mu - 2 * std, \n",
    "                              'ci_95_upper': mu + 2 * std,  \n",
    "                              'p(|x|>0)': p}, \n",
    "                              index=contrast_matrix.columns)\n",
    "    return(contrasts)"
   ]
  },
  {
   "cell_type": "markdown",
   "id": "36d4871b",
   "metadata": {},
   "source": [
    "Lets start by estimating mutational effects using maximum likelihood. Assuming that `y_var` perfectly represents the uncertainty in our measurements, we can use the previous formula to estimate the uncertainty in the difference between `TTTTTT` and `TTTTTC`"
   ]
  },
  {
   "cell_type": "code",
   "execution_count": 78,
   "id": "4cd6a1cb",
   "metadata": {},
   "outputs": [
    {
     "data": {
      "text/html": [
       "<div>\n",
       "<style scoped>\n",
       "    .dataframe tbody tr th:only-of-type {\n",
       "        vertical-align: middle;\n",
       "    }\n",
       "\n",
       "    .dataframe tbody tr th {\n",
       "        vertical-align: top;\n",
       "    }\n",
       "\n",
       "    .dataframe thead th {\n",
       "        text-align: right;\n",
       "    }\n",
       "</style>\n",
       "<table border=\"1\" class=\"dataframe\">\n",
       "  <thead>\n",
       "    <tr style=\"text-align: right;\">\n",
       "      <th></th>\n",
       "      <th>y_true</th>\n",
       "      <th>y</th>\n",
       "      <th>y_var</th>\n",
       "    </tr>\n",
       "  </thead>\n",
       "  <tbody>\n",
       "    <tr>\n",
       "      <th>TTTTTT</th>\n",
       "      <td>-3.533720</td>\n",
       "      <td>-3.544157</td>\n",
       "      <td>0.04</td>\n",
       "    </tr>\n",
       "    <tr>\n",
       "      <th>TTTTTC</th>\n",
       "      <td>-6.263079</td>\n",
       "      <td>-6.248158</td>\n",
       "      <td>0.04</td>\n",
       "    </tr>\n",
       "  </tbody>\n",
       "</table>\n",
       "</div>"
      ],
      "text/plain": [
       "          y_true         y  y_var\n",
       "TTTTTT -3.533720 -3.544157   0.04\n",
       "TTTTTC -6.263079 -6.248158   0.04"
      ]
     },
     "execution_count": 78,
     "metadata": {},
     "output_type": "execute_result"
    }
   ],
   "source": [
    "seqs = ['TTTTTT', 'TTTTTC']\n",
    "df = data.loc[seqs, :]\n",
    "df"
   ]
  },
  {
   "cell_type": "code",
   "execution_count": 79,
   "id": "888fe516",
   "metadata": {},
   "outputs": [
    {
     "data": {
      "text/html": [
       "<div>\n",
       "<style scoped>\n",
       "    .dataframe tbody tr th:only-of-type {\n",
       "        vertical-align: middle;\n",
       "    }\n",
       "\n",
       "    .dataframe tbody tr th {\n",
       "        vertical-align: top;\n",
       "    }\n",
       "\n",
       "    .dataframe thead th {\n",
       "        text-align: right;\n",
       "    }\n",
       "</style>\n",
       "<table border=\"1\" class=\"dataframe\">\n",
       "  <thead>\n",
       "    <tr style=\"text-align: right;\">\n",
       "      <th></th>\n",
       "      <th>T6C</th>\n",
       "    </tr>\n",
       "  </thead>\n",
       "  <tbody>\n",
       "    <tr>\n",
       "      <th>TTTTTT</th>\n",
       "      <td>1</td>\n",
       "    </tr>\n",
       "    <tr>\n",
       "      <th>TTTTTC</th>\n",
       "      <td>-1</td>\n",
       "    </tr>\n",
       "  </tbody>\n",
       "</table>\n",
       "</div>"
      ],
      "text/plain": [
       "        T6C\n",
       "TTTTTT    1\n",
       "TTTTTC   -1"
      ]
     },
     "execution_count": 79,
     "metadata": {},
     "output_type": "execute_result"
    }
   ],
   "source": [
    "contrast_matrix = pd.DataFrame({'T6C': [1, -1]}, index=['TTTTTT', 'TTTTTC'])\n",
    "contrast_matrix"
   ]
  },
  {
   "cell_type": "code",
   "execution_count": 80,
   "id": "97e01c55",
   "metadata": {},
   "outputs": [
    {
     "name": "stdout",
     "output_type": "stream",
     "text": [
      "True mutational effect = 2.73\n"
     ]
    }
   ],
   "source": [
    "true_effect = (contrast_matrix.T.values @ df['y_true'].values)[0]\n",
    "print('True mutational effect = {:.2f}'.format(true_effect))"
   ]
  },
  {
   "cell_type": "code",
   "execution_count": 81,
   "id": "1a345131",
   "metadata": {},
   "outputs": [
    {
     "name": "stdout",
     "output_type": "stream",
     "text": [
      "Estimated mutational effect = 2.70 (95% CI = [2.14, 3.269686])\n"
     ]
    }
   ],
   "source": [
    "contrasts = make_contrasts(df, contrast_matrix)\n",
    "mu = contrasts.loc['T6C', 'estimate']\n",
    "lower = contrasts.loc['T6C', 'ci_95_lower']\n",
    "upper = contrasts.loc['T6C', 'ci_95_upper']\n",
    "print('Estimated mutational effect = {:.2f} (95% CI = [{:.2f}, {:2f}])'.format(mu, lower, upper))"
   ]
  },
  {
   "cell_type": "markdown",
   "id": "60d5b06e",
   "metadata": {},
   "source": [
    "Lets now do the same using our learnt prior on sequence space. We define the appropriate contrast matrix including the genotypes of interest and their linear combination for each of the contrasts we want to make"
   ]
  },
  {
   "cell_type": "code",
   "execution_count": 83,
   "id": "8d1c03a6",
   "metadata": {},
   "outputs": [
    {
     "name": "stdout",
     "output_type": "stream",
     "text": [
      "Estimated mutational effect with GP prior = 2.74 (95% CI = [2.41, 3.061133])\n"
     ]
    }
   ],
   "source": [
    "contrasts = model.make_contrasts(contrast_matrix=contrast_matrix)\n",
    "mu = contrasts.loc['T6C', 'estimate']\n",
    "lower = contrasts.loc['T6C', 'ci_95_lower']\n",
    "upper = contrasts.loc['T6C', 'ci_95_upper']\n",
    "print('Estimated mutational effect with GP prior = {:.2f} (95% CI = [{:.2f}, {:2f}])'.format(mu, lower, upper))"
   ]
  },
  {
   "cell_type": "markdown",
   "id": "e99ad755",
   "metadata": {},
   "source": [
    "Thus, we can see how the estimate now is closer to the true simulated mutational effect and that the posterior distribution is tighter around it, illustrating that we have less uncertainty about its effect when taking into account the observed mutational effects across all genetic backgrounds appropriately.\n",
    "\n",
    "We can do these analysis not only for mutational effects, but for epistatic coefficients of any order as long as we are able to define the linear combination of genotypes for each contrast of interest. Lets see how the previous mutational effect changes when we add another mutation."
   ]
  },
  {
   "cell_type": "code",
   "execution_count": 66,
   "id": "52e541a8",
   "metadata": {},
   "outputs": [
    {
     "data": {
      "text/html": [
       "<div>\n",
       "<style scoped>\n",
       "    .dataframe tbody tr th:only-of-type {\n",
       "        vertical-align: middle;\n",
       "    }\n",
       "\n",
       "    .dataframe tbody tr th {\n",
       "        vertical-align: top;\n",
       "    }\n",
       "\n",
       "    .dataframe thead th {\n",
       "        text-align: right;\n",
       "    }\n",
       "</style>\n",
       "<table border=\"1\" class=\"dataframe\">\n",
       "  <thead>\n",
       "    <tr style=\"text-align: right;\">\n",
       "      <th></th>\n",
       "      <th>y_true</th>\n",
       "      <th>y</th>\n",
       "      <th>y_var</th>\n",
       "    </tr>\n",
       "  </thead>\n",
       "  <tbody>\n",
       "    <tr>\n",
       "      <th>TTTTTT</th>\n",
       "      <td>-3.533720</td>\n",
       "      <td>-3.544157</td>\n",
       "      <td>0.04</td>\n",
       "    </tr>\n",
       "    <tr>\n",
       "      <th>TTTTTC</th>\n",
       "      <td>-6.263079</td>\n",
       "      <td>-6.248158</td>\n",
       "      <td>0.04</td>\n",
       "    </tr>\n",
       "    <tr>\n",
       "      <th>ATTTTT</th>\n",
       "      <td>-6.493495</td>\n",
       "      <td>-6.216687</td>\n",
       "      <td>0.04</td>\n",
       "    </tr>\n",
       "    <tr>\n",
       "      <th>ATTTTC</th>\n",
       "      <td>-3.894975</td>\n",
       "      <td>-4.006306</td>\n",
       "      <td>0.04</td>\n",
       "    </tr>\n",
       "  </tbody>\n",
       "</table>\n",
       "</div>"
      ],
      "text/plain": [
       "          y_true         y  y_var\n",
       "TTTTTT -3.533720 -3.544157   0.04\n",
       "TTTTTC -6.263079 -6.248158   0.04\n",
       "ATTTTT -6.493495 -6.216687   0.04\n",
       "ATTTTC -3.894975 -4.006306   0.04"
      ]
     },
     "execution_count": 66,
     "metadata": {},
     "output_type": "execute_result"
    }
   ],
   "source": [
    "seqs = ['TTTTTT', 'TTTTTC', 'ATTTTT', 'ATTTTC']\n",
    "df = data.loc[seqs, :]\n",
    "df"
   ]
  },
  {
   "cell_type": "markdown",
   "id": "08cb27cb",
   "metadata": {},
   "source": [
    "Lets do it again first without using our prior distribution"
   ]
  },
  {
   "cell_type": "code",
   "execution_count": 71,
   "id": "d2b3789d",
   "metadata": {},
   "outputs": [
    {
     "data": {
      "text/html": [
       "<div>\n",
       "<style scoped>\n",
       "    .dataframe tbody tr th:only-of-type {\n",
       "        vertical-align: middle;\n",
       "    }\n",
       "\n",
       "    .dataframe tbody tr th {\n",
       "        vertical-align: top;\n",
       "    }\n",
       "\n",
       "    .dataframe thead th {\n",
       "        text-align: right;\n",
       "    }\n",
       "</style>\n",
       "<table border=\"1\" class=\"dataframe\">\n",
       "  <thead>\n",
       "    <tr style=\"text-align: right;\">\n",
       "      <th></th>\n",
       "      <th>epistatic_coeff</th>\n",
       "    </tr>\n",
       "  </thead>\n",
       "  <tbody>\n",
       "    <tr>\n",
       "      <th>TTTTTT</th>\n",
       "      <td>1</td>\n",
       "    </tr>\n",
       "    <tr>\n",
       "      <th>TTTTTC</th>\n",
       "      <td>-1</td>\n",
       "    </tr>\n",
       "    <tr>\n",
       "      <th>ATTTTT</th>\n",
       "      <td>-1</td>\n",
       "    </tr>\n",
       "    <tr>\n",
       "      <th>ATTTTC</th>\n",
       "      <td>1</td>\n",
       "    </tr>\n",
       "  </tbody>\n",
       "</table>\n",
       "</div>"
      ],
      "text/plain": [
       "        epistatic_coeff\n",
       "TTTTTT                1\n",
       "TTTTTC               -1\n",
       "ATTTTT               -1\n",
       "ATTTTC                1"
      ]
     },
     "execution_count": 71,
     "metadata": {},
     "output_type": "execute_result"
    }
   ],
   "source": [
    "contrast_matrix = pd.DataFrame({'epistatic_coeff': [1, -1, -1, 1]},\n",
    "                                index=seqs)\n",
    "contrast_matrix"
   ]
  },
  {
   "cell_type": "code",
   "execution_count": 72,
   "id": "4d9ae388",
   "metadata": {},
   "outputs": [
    {
     "name": "stdout",
     "output_type": "stream",
     "text": [
      "True epistatic coefficient = 5.33\n"
     ]
    }
   ],
   "source": [
    "true_effect = (contrast_matrix.T.values @ df['y_true'].values)[0]\n",
    "print('True epistatic coefficient = {:.2f}'.format(true_effect))"
   ]
  },
  {
   "cell_type": "code",
   "execution_count": 73,
   "id": "e6a98f72",
   "metadata": {},
   "outputs": [
    {
     "name": "stdout",
     "output_type": "stream",
     "text": [
      "Estimated epistatic coefficient = 4.91 (95% CI = [4.11, 5.714381])\n"
     ]
    }
   ],
   "source": [
    "contrasts = make_contrasts(df, contrast_matrix)\n",
    "mu = contrasts.loc['epistatic_coeff', 'estimate']\n",
    "lower = contrasts.loc['epistatic_coeff', 'ci_95_lower']\n",
    "upper = contrasts.loc['epistatic_coeff', 'ci_95_upper']\n",
    "print('Estimated epistatic coefficient = {:.2f} (95% CI = [{:.2f}, {:2f}])'.format(mu, lower, upper))"
   ]
  },
  {
   "cell_type": "code",
   "execution_count": 75,
   "id": "8c8e1555",
   "metadata": {},
   "outputs": [
    {
     "name": "stdout",
     "output_type": "stream",
     "text": [
      "Estimated epistatic coefficient with GP prior = 5.38 (95% CI = [5.00, 5.758326])\n"
     ]
    }
   ],
   "source": [
    "\n",
    "contrasts = model.make_contrasts(contrast_matrix=contrast_matrix)\n",
    "mu = contrasts.loc['epistatic_coeff', 'estimate']\n",
    "lower = contrasts.loc['epistatic_coeff', 'ci_95_lower']\n",
    "upper = contrasts.loc['epistatic_coeff', 'ci_95_upper']\n",
    "print('Estimated epistatic coefficient with GP prior = {:.2f} (95% CI = [{:.2f}, {:2f}])'.format(mu, lower, upper))"
   ]
  },
  {
   "cell_type": "markdown",
   "id": "0d3fb04e",
   "metadata": {},
   "source": [
    "Again, we see how incorporation the prior knowledge about how well mutational effects generalize across genetic backgrounds provides a better estimate of the true epistatic coefficient and a tighter credible interval around it. In fact, we can see how our new 95% credible interval does not even include our previous estimate only using the measurements at the 4 specified genotypes"
   ]
  },
  {
   "cell_type": "markdown",
   "id": "97d9d6d9",
   "metadata": {},
   "source": [
    "## Inference from real data: GB1 landscape\n",
    "\n",
    "In the next section, we are going to infer the complete combinatorial landscape of the protein G domain B1 from experimental data [[Wu et. al (2016)](https://elifesciences.org/articles/16965)]. In this study, a library containing nearly all possible aminoacid combinations at positions 39, 40, 41 and 54 was selected for binding to the constant fraction of IgG using an mRNA display approach. Thus, by sequencing the mRNA library before and after selection, we can obtain estimates of how strongly each sequence in the library binds its target. \n",
    "\n",
    "### Data preprocessing\n",
    "\n",
    "We take the number of times a sequence is observed in the input and selected samples as raw data for our purposes as provided by the authors [here](https://elifesciences.org/articles/16965/figures#SD1-data)."
   ]
  },
  {
   "cell_type": "code",
   "execution_count": 22,
   "id": "0626c440",
   "metadata": {},
   "outputs": [
    {
     "data": {
      "text/html": [
       "<div>\n",
       "<style scoped>\n",
       "    .dataframe tbody tr th:only-of-type {\n",
       "        vertical-align: middle;\n",
       "    }\n",
       "\n",
       "    .dataframe tbody tr th {\n",
       "        vertical-align: top;\n",
       "    }\n",
       "\n",
       "    .dataframe thead th {\n",
       "        text-align: right;\n",
       "    }\n",
       "</style>\n",
       "<table border=\"1\" class=\"dataframe\">\n",
       "  <thead>\n",
       "    <tr style=\"text-align: right;\">\n",
       "      <th></th>\n",
       "      <th>input</th>\n",
       "      <th>selected</th>\n",
       "    </tr>\n",
       "    <tr>\n",
       "      <th>sequence</th>\n",
       "      <th></th>\n",
       "      <th></th>\n",
       "    </tr>\n",
       "  </thead>\n",
       "  <tbody>\n",
       "    <tr>\n",
       "      <th>VDGV</th>\n",
       "      <td>92735</td>\n",
       "      <td>338346</td>\n",
       "    </tr>\n",
       "    <tr>\n",
       "      <th>ADGV</th>\n",
       "      <td>34</td>\n",
       "      <td>43</td>\n",
       "    </tr>\n",
       "    <tr>\n",
       "      <th>CDGV</th>\n",
       "      <td>850</td>\n",
       "      <td>641</td>\n",
       "    </tr>\n",
       "    <tr>\n",
       "      <th>DDGV</th>\n",
       "      <td>63</td>\n",
       "      <td>63</td>\n",
       "    </tr>\n",
       "    <tr>\n",
       "      <th>EDGV</th>\n",
       "      <td>841</td>\n",
       "      <td>190</td>\n",
       "    </tr>\n",
       "    <tr>\n",
       "      <th>...</th>\n",
       "      <td>...</td>\n",
       "      <td>...</td>\n",
       "    </tr>\n",
       "    <tr>\n",
       "      <th>YYYR</th>\n",
       "      <td>203</td>\n",
       "      <td>1</td>\n",
       "    </tr>\n",
       "    <tr>\n",
       "      <th>YYYS</th>\n",
       "      <td>186</td>\n",
       "      <td>3</td>\n",
       "    </tr>\n",
       "    <tr>\n",
       "      <th>YYYT</th>\n",
       "      <td>181</td>\n",
       "      <td>14</td>\n",
       "    </tr>\n",
       "    <tr>\n",
       "      <th>YYYW</th>\n",
       "      <td>30</td>\n",
       "      <td>1</td>\n",
       "    </tr>\n",
       "    <tr>\n",
       "      <th>YYYY</th>\n",
       "      <td>57</td>\n",
       "      <td>2</td>\n",
       "    </tr>\n",
       "  </tbody>\n",
       "</table>\n",
       "<p>149361 rows × 2 columns</p>\n",
       "</div>"
      ],
      "text/plain": [
       "          input  selected\n",
       "sequence                 \n",
       "VDGV      92735    338346\n",
       "ADGV         34        43\n",
       "CDGV        850       641\n",
       "DDGV         63        63\n",
       "EDGV        841       190\n",
       "...         ...       ...\n",
       "YYYR        203         1\n",
       "YYYS        186         3\n",
       "YYYT        181        14\n",
       "YYYW         30         1\n",
       "YYYY         57         2\n",
       "\n",
       "[149361 rows x 2 columns]"
      ]
     },
     "execution_count": 22,
     "metadata": {},
     "output_type": "execute_result"
    }
   ],
   "source": [
    "gb1 = DataSet('gb1')\n",
    "counts = gb1.raw_data\n",
    "counts"
   ]
  },
  {
   "cell_type": "markdown",
   "id": "0388a572",
   "metadata": {},
   "source": [
    "We first filter sequences that are poorly represented in the input library (<20 sequencing counts)."
   ]
  },
  {
   "cell_type": "code",
   "execution_count": 23,
   "id": "413e0901",
   "metadata": {},
   "outputs": [
    {
     "data": {
      "text/html": [
       "<div>\n",
       "<style scoped>\n",
       "    .dataframe tbody tr th:only-of-type {\n",
       "        vertical-align: middle;\n",
       "    }\n",
       "\n",
       "    .dataframe tbody tr th {\n",
       "        vertical-align: top;\n",
       "    }\n",
       "\n",
       "    .dataframe thead th {\n",
       "        text-align: right;\n",
       "    }\n",
       "</style>\n",
       "<table border=\"1\" class=\"dataframe\">\n",
       "  <thead>\n",
       "    <tr style=\"text-align: right;\">\n",
       "      <th></th>\n",
       "      <th>input</th>\n",
       "      <th>selected</th>\n",
       "    </tr>\n",
       "    <tr>\n",
       "      <th>sequence</th>\n",
       "      <th></th>\n",
       "      <th></th>\n",
       "    </tr>\n",
       "  </thead>\n",
       "  <tbody>\n",
       "    <tr>\n",
       "      <th>VDGV</th>\n",
       "      <td>92735</td>\n",
       "      <td>338346</td>\n",
       "    </tr>\n",
       "    <tr>\n",
       "      <th>ADGV</th>\n",
       "      <td>34</td>\n",
       "      <td>43</td>\n",
       "    </tr>\n",
       "    <tr>\n",
       "      <th>CDGV</th>\n",
       "      <td>850</td>\n",
       "      <td>641</td>\n",
       "    </tr>\n",
       "    <tr>\n",
       "      <th>DDGV</th>\n",
       "      <td>63</td>\n",
       "      <td>63</td>\n",
       "    </tr>\n",
       "    <tr>\n",
       "      <th>EDGV</th>\n",
       "      <td>841</td>\n",
       "      <td>190</td>\n",
       "    </tr>\n",
       "    <tr>\n",
       "      <th>...</th>\n",
       "      <td>...</td>\n",
       "      <td>...</td>\n",
       "    </tr>\n",
       "    <tr>\n",
       "      <th>YYYR</th>\n",
       "      <td>203</td>\n",
       "      <td>1</td>\n",
       "    </tr>\n",
       "    <tr>\n",
       "      <th>YYYS</th>\n",
       "      <td>186</td>\n",
       "      <td>3</td>\n",
       "    </tr>\n",
       "    <tr>\n",
       "      <th>YYYT</th>\n",
       "      <td>181</td>\n",
       "      <td>14</td>\n",
       "    </tr>\n",
       "    <tr>\n",
       "      <th>YYYW</th>\n",
       "      <td>30</td>\n",
       "      <td>1</td>\n",
       "    </tr>\n",
       "    <tr>\n",
       "      <th>YYYY</th>\n",
       "      <td>57</td>\n",
       "      <td>2</td>\n",
       "    </tr>\n",
       "  </tbody>\n",
       "</table>\n",
       "<p>142820 rows × 2 columns</p>\n",
       "</div>"
      ],
      "text/plain": [
       "          input  selected\n",
       "sequence                 \n",
       "VDGV      92735    338346\n",
       "ADGV         34        43\n",
       "CDGV        850       641\n",
       "DDGV         63        63\n",
       "EDGV        841       190\n",
       "...         ...       ...\n",
       "YYYR        203         1\n",
       "YYYS        186         3\n",
       "YYYT        181        14\n",
       "YYYW         30         1\n",
       "YYYY         57         2\n",
       "\n",
       "[142820 rows x 2 columns]"
      ]
     },
     "execution_count": 23,
     "metadata": {},
     "output_type": "execute_result"
    }
   ],
   "source": [
    "counts = counts.loc[counts['input'] >= 20, :]\n",
    "counts"
   ]
  },
  {
   "cell_type": "markdown",
   "id": "c562d852",
   "metadata": {},
   "source": [
    "And use [Enrich2](https://genomebiology.biomedcentral.com/articles/10.1186/s13059-017-1272-5) approach to derive the enrichment score and the associated error. \n",
    "\n",
    "$$y_i = log\\left(\\frac{ c_{i,sel} + 0.5}{c_{wt,sel} + 0.5} \\right) - log\\left(\\frac{ c_{i,inp} + 0.5}{c_{wt,inp} + 0.5} \\right)$$\n",
    "\n",
    "\n",
    "$$y_{var,i} = \\frac{1}{c_{i,inp} + 0.5} + \\frac{1}{c_{wt,inp} + 0.5} + \\frac{1}{c_{i,sel} + 0.5} +\\frac{1}{c_{wt,sel} + 0.5}$$\n"
   ]
  },
  {
   "cell_type": "code",
   "execution_count": 24,
   "id": "3de864df",
   "metadata": {},
   "outputs": [],
   "source": [
    "wt = 'VDGV'\n",
    "c_wt_input, c_wt_sel = counts.loc[wt]\n",
    "X = counts.index.values\n",
    "y = (np.log((counts['selected'] + 0.5)/(c_wt_sel + 0.5)) - np.log((counts['input'] + 0.5)/(c_wt_input + 0.5))).values\n",
    "y_var = (1/(counts['input'] + 0.5) + 1/(counts['selected'] + 0.5) + 1/(c_wt_sel + 0.5) + 1/(c_wt_input + 0.5)).values\n",
    "data = pd.DataFrame({'y': y, 'y_var': y_var}, index=X)"
   ]
  },
  {
   "cell_type": "markdown",
   "id": "b8e24eba",
   "metadata": {},
   "source": [
    "### Estimating Variance Components\n",
    "\n",
    "To be able to evaluate model performance, we first split the data into training and test sets keeping approximately 90% of the data for training and 10% for testing"
   ]
  },
  {
   "cell_type": "code",
   "execution_count": 25,
   "id": "7a256fc9",
   "metadata": {},
   "outputs": [],
   "source": [
    "u = np.random.uniform(size=y.shape[0]) < 0.9\n",
    "X_train, y_train, y_var_train = X[u], y[u], y_var[u]\n",
    "X_test, y_test = X[~u], y[~u]"
   ]
  },
  {
   "cell_type": "code",
   "execution_count": 26,
   "id": "5de115a7",
   "metadata": {},
   "outputs": [
    {
     "name": "stderr",
     "output_type": "stream",
     "text": [
      "100%|██████████| 100/100 [11:19<00:00,  6.80s/it]\n"
     ]
    }
   ],
   "source": [
    "model = VCregression(cross_validation=True, cv_loss_function='logL', min_log_beta=0.5)\n",
    "model.fit(X=X_train, y=y_train, y_var=y_var_train)"
   ]
  },
  {
   "cell_type": "code",
   "execution_count": 27,
   "id": "1ba3dea2",
   "metadata": {},
   "outputs": [
    {
     "data": {
      "image/png": "[encoded data removed]",
      "text/plain": [
       "<Figure size 500x450 with 1 Axes>"
      ]
     },
     "metadata": {},
     "output_type": "display_data"
    }
   ],
   "source": [
    "fig, axes = plt.subplots(1, 1, figsize=(5, 4.5))\n",
    "plot_hyperparam_cv(model.cv_loss_df, axes, x='log_beta', y='loss', show_folds=True,\n",
    "                   xlabel=r'$\\log\\beta$', ylabel=r'$-log(\\L)$', highlight='min')"
   ]
  },
  {
   "cell_type": "code",
   "execution_count": 28,
   "id": "7e901ebc",
   "metadata": {},
   "outputs": [],
   "source": [
    "lambdas = model.lambdas\n",
    "x = np.arange(0, lambdas.shape[0])\n",
    "variance = model.lambdas_to_variance(lambdas)\n",
    "p_variance = variance / variance.sum() * 100"
   ]
  },
  {
   "cell_type": "code",
   "execution_count": 29,
   "id": "f2037d9b",
   "metadata": {},
   "outputs": [
    {
     "data": {
      "image/png": "[encoded data removed]",
      "text/plain": [
       "<Figure size 700x350 with 2 Axes>"
      ]
     },
     "metadata": {},
     "output_type": "display_data"
    }
   ],
   "source": [
    "fig, subplots = init_fig(1, 2, colsize=3.5, rowsize=3.5)\n",
    "\n",
    "axes = subplots[0]\n",
    "axes.bar(x=x, height=lambdas, color='black')\n",
    "axes.set(xlabel='$k$', ylabel='$\\lambda_k$', yscale='log')\n",
    "\n",
    "axes = subplots[1]\n",
    "axes.bar(x=x[1:], height=p_variance, color='black')\n",
    "axes.set(xlabel='$k$', ylabel='% variance explained', ylim=(0, 100), xticks=[1, 2, 3])\n",
    "\n",
    "fig.tight_layout()"
   ]
  },
  {
   "cell_type": "markdown",
   "id": "281407df",
   "metadata": {},
   "source": [
    "### Inferring the complete GB1 landscape\n",
    "\n",
    "Now that we have inferred the variance components, we obtain inferences for the complete combinatorial landscape and check the prediction accuracy for the held-out test data. Moreover, we can also see the distribution of phenotypic values within and outside the data"
   ]
  },
  {
   "cell_type": "code",
   "execution_count": 30,
   "id": "d74cd75d",
   "metadata": {},
   "outputs": [
    {
     "data": {
      "text/html": [
       "<div>\n",
       "<style scoped>\n",
       "    .dataframe tbody tr th:only-of-type {\n",
       "        vertical-align: middle;\n",
       "    }\n",
       "\n",
       "    .dataframe tbody tr th {\n",
       "        vertical-align: top;\n",
       "    }\n",
       "\n",
       "    .dataframe thead th {\n",
       "        text-align: right;\n",
       "    }\n",
       "</style>\n",
       "<table border=\"1\" class=\"dataframe\">\n",
       "  <thead>\n",
       "    <tr style=\"text-align: right;\">\n",
       "      <th></th>\n",
       "      <th>y_pred</th>\n",
       "      <th>y</th>\n",
       "      <th>y_var</th>\n",
       "    </tr>\n",
       "  </thead>\n",
       "  <tbody>\n",
       "    <tr>\n",
       "      <th>AAAA</th>\n",
       "      <td>0.369544</td>\n",
       "      <td>0.460831</td>\n",
       "      <td>0.046009</td>\n",
       "    </tr>\n",
       "    <tr>\n",
       "      <th>AAAC</th>\n",
       "      <td>-2.592086</td>\n",
       "      <td>NaN</td>\n",
       "      <td>NaN</td>\n",
       "    </tr>\n",
       "    <tr>\n",
       "      <th>AAAD</th>\n",
       "      <td>-3.313388</td>\n",
       "      <td>NaN</td>\n",
       "      <td>NaN</td>\n",
       "    </tr>\n",
       "    <tr>\n",
       "      <th>AAAE</th>\n",
       "      <td>-4.764501</td>\n",
       "      <td>NaN</td>\n",
       "      <td>NaN</td>\n",
       "    </tr>\n",
       "    <tr>\n",
       "      <th>AAAF</th>\n",
       "      <td>-3.612337</td>\n",
       "      <td>NaN</td>\n",
       "      <td>NaN</td>\n",
       "    </tr>\n",
       "    <tr>\n",
       "      <th>...</th>\n",
       "      <td>...</td>\n",
       "      <td>...</td>\n",
       "      <td>...</td>\n",
       "    </tr>\n",
       "    <tr>\n",
       "      <th>YYYS</th>\n",
       "      <td>-4.512395</td>\n",
       "      <td>-5.269987</td>\n",
       "      <td>0.291090</td>\n",
       "    </tr>\n",
       "    <tr>\n",
       "      <th>YYYT</th>\n",
       "      <td>-3.344170</td>\n",
       "      <td>-3.821426</td>\n",
       "      <td>0.074489</td>\n",
       "    </tr>\n",
       "    <tr>\n",
       "      <th>YYYV</th>\n",
       "      <td>-2.957694</td>\n",
       "      <td>-3.143536</td>\n",
       "      <td>0.074682</td>\n",
       "    </tr>\n",
       "    <tr>\n",
       "      <th>YYYW</th>\n",
       "      <td>-4.670726</td>\n",
       "      <td>-4.306581</td>\n",
       "      <td>0.699467</td>\n",
       "    </tr>\n",
       "    <tr>\n",
       "      <th>YYYY</th>\n",
       "      <td>-4.832925</td>\n",
       "      <td>-4.429813</td>\n",
       "      <td>0.417405</td>\n",
       "    </tr>\n",
       "  </tbody>\n",
       "</table>\n",
       "<p>160000 rows × 3 columns</p>\n",
       "</div>"
      ],
      "text/plain": [
       "        y_pred         y     y_var\n",
       "AAAA  0.369544  0.460831  0.046009\n",
       "AAAC -2.592086       NaN       NaN\n",
       "AAAD -3.313388       NaN       NaN\n",
       "AAAE -4.764501       NaN       NaN\n",
       "AAAF -3.612337       NaN       NaN\n",
       "...        ...       ...       ...\n",
       "YYYS -4.512395 -5.269987  0.291090\n",
       "YYYT -3.344170 -3.821426  0.074489\n",
       "YYYV -2.957694 -3.143536  0.074682\n",
       "YYYW -4.670726 -4.306581  0.699467\n",
       "YYYY -4.832925 -4.429813  0.417405\n",
       "\n",
       "[160000 rows x 3 columns]"
      ]
     },
     "execution_count": 30,
     "metadata": {},
     "output_type": "execute_result"
    }
   ],
   "source": [
    "pred = model.predict().join(data, lsuffix='_pred')\n",
    "pred"
   ]
  },
  {
   "cell_type": "code",
   "execution_count": 31,
   "id": "06a1ec7f",
   "metadata": {},
   "outputs": [
    {
     "data": {
      "image/png": "[encoded data removed]",
      "text/plain": [
       "<Figure size 800x400 with 2 Axes>"
      ]
     },
     "metadata": {},
     "output_type": "display_data"
    }
   ],
   "source": [
    "test = pred.loc[X_test, :]\n",
    "r2 = pearsonr(test['y_pred'], test['y'])[0] ** 2\n",
    "lim = (-9, 3)\n",
    "bins = np.linspace(lim[0] + 0.5, lim[1] - 0.5, 100)\n",
    "\n",
    "fig, subplots = plt.subplots(1, 2, figsize=(8, 4))\n",
    "\n",
    "axes = subplots[0]\n",
    "axes.hist2d(x=test['y_pred'], y=test['y'], cmap='viridis', bins=bins)\n",
    "axes.plot(lim, lim, lw=0.5, linestyle='--', c='white')\n",
    "axes.set(xlabel=r'$y_{pred}$', ylabel=r'$y_{obs}$',\n",
    "         xlim=(lim[0] + 0.5, lim[1] - 0.5),\n",
    "         ylim=(lim[0] + 0.5, lim[1] - 0.5))\n",
    "axes.text(0.05, 0.95, r'$R^2$=' + '{:.3f}'.format(r2),\n",
    "          transform=axes.transAxes, color='white', ha='left', va='top')\n",
    "\n",
    "axes = subplots[1]\n",
    "axes.hist(pred.dropna()['y_pred'], label='Observed', alpha=0.5, density=True, bins=bins, color='purple')\n",
    "axes.hist(pred.loc[np.isnan(pred['y']), 'y_pred'], label='New', alpha=0.5, density=True, bins=bins, color='orange')\n",
    "axes.set(xlabel=r'$y_{pred}$', ylabel='% of sequences')\n",
    "axes.legend(loc=0)\n",
    "\n",
    "fig.tight_layout()"
   ]
  },
  {
   "cell_type": "markdown",
   "id": "7010e01d",
   "metadata": {},
   "source": [
    "### Estimating local epistatic coefficients under the prior\n",
    "\n",
    "As previously shown, we are not only restricted to making calibrated predictions for previously uncharacterized or held out sequences, but we can also get calibrated estimates for linear combinations of them and use them to answer questions about specific mutational effects and how they change as we introduced more mutations.\n",
    "\n",
    "One of the main interactions in the GB1 dataset is that taking place between positions 41 and 54. In the wild-type sequence VDGV, G41L is highly deleterious, but becomes advantageous in the presence of V54G. Now, we can use our model to compute the posterior distribution for this epistatic coefficient given the whole dataset. \n",
    "\n",
    "We can select the 4 relevant sequences and show their measurement values"
   ]
  },
  {
   "cell_type": "code",
   "execution_count": 43,
   "id": "9a36fe70",
   "metadata": {},
   "outputs": [
    {
     "data": {
      "text/html": [
       "<div>\n",
       "<style scoped>\n",
       "    .dataframe tbody tr th:only-of-type {\n",
       "        vertical-align: middle;\n",
       "    }\n",
       "\n",
       "    .dataframe tbody tr th {\n",
       "        vertical-align: top;\n",
       "    }\n",
       "\n",
       "    .dataframe thead th {\n",
       "        text-align: right;\n",
       "    }\n",
       "</style>\n",
       "<table border=\"1\" class=\"dataframe\">\n",
       "  <thead>\n",
       "    <tr style=\"text-align: right;\">\n",
       "      <th></th>\n",
       "      <th>y</th>\n",
       "      <th>y_var</th>\n",
       "    </tr>\n",
       "  </thead>\n",
       "  <tbody>\n",
       "    <tr>\n",
       "      <th>VDGV</th>\n",
       "      <td>0.000000</td>\n",
       "      <td>0.000027</td>\n",
       "    </tr>\n",
       "    <tr>\n",
       "      <th>VDGG</th>\n",
       "      <td>0.334153</td>\n",
       "      <td>0.003038</td>\n",
       "    </tr>\n",
       "    <tr>\n",
       "      <th>VDLV</th>\n",
       "      <td>-3.512487</td>\n",
       "      <td>0.105615</td>\n",
       "    </tr>\n",
       "    <tr>\n",
       "      <th>VDLG</th>\n",
       "      <td>1.140357</td>\n",
       "      <td>0.013197</td>\n",
       "    </tr>\n",
       "  </tbody>\n",
       "</table>\n",
       "</div>"
      ],
      "text/plain": [
       "             y     y_var\n",
       "VDGV  0.000000  0.000027\n",
       "VDGG  0.334153  0.003038\n",
       "VDLV -3.512487  0.105615\n",
       "VDLG  1.140357  0.013197"
      ]
     },
     "execution_count": 43,
     "metadata": {},
     "output_type": "execute_result"
    }
   ],
   "source": [
    "seqs = ['VDGV', 'VDGG', 'VDLV', 'VDLG']\n",
    "df = data.loc[seqs, :]\n",
    "df"
   ]
  },
  {
   "cell_type": "markdown",
   "id": "4b58446b",
   "metadata": {},
   "source": [
    "We then define the contrast matrices for the coefficients of interest: the single point mutational effects as well as the epistatic coefficient between them."
   ]
  },
  {
   "cell_type": "code",
   "execution_count": 34,
   "id": "7e2f77c2",
   "metadata": {},
   "outputs": [
    {
     "data": {
      "text/html": [
       "<div>\n",
       "<style scoped>\n",
       "    .dataframe tbody tr th:only-of-type {\n",
       "        vertical-align: middle;\n",
       "    }\n",
       "\n",
       "    .dataframe tbody tr th {\n",
       "        vertical-align: top;\n",
       "    }\n",
       "\n",
       "    .dataframe thead th {\n",
       "        text-align: right;\n",
       "    }\n",
       "</style>\n",
       "<table border=\"1\" class=\"dataframe\">\n",
       "  <thead>\n",
       "    <tr style=\"text-align: right;\">\n",
       "      <th></th>\n",
       "      <th>estimate</th>\n",
       "      <th>std</th>\n",
       "      <th>ci_95_lower</th>\n",
       "      <th>ci_95_upper</th>\n",
       "      <th>p(|x|&gt;0)</th>\n",
       "    </tr>\n",
       "  </thead>\n",
       "  <tbody>\n",
       "    <tr>\n",
       "      <th>G41L</th>\n",
       "      <td>-3.208279</td>\n",
       "      <td>0.214365</td>\n",
       "      <td>-3.637009</td>\n",
       "      <td>-2.779548</td>\n",
       "      <td>1.0</td>\n",
       "    </tr>\n",
       "    <tr>\n",
       "      <th>V54G</th>\n",
       "      <td>0.284343</td>\n",
       "      <td>0.054304</td>\n",
       "      <td>0.175734</td>\n",
       "      <td>0.392952</td>\n",
       "      <td>1.0</td>\n",
       "    </tr>\n",
       "    <tr>\n",
       "      <th>G41L:V54G</th>\n",
       "      <td>4.105416</td>\n",
       "      <td>0.240570</td>\n",
       "      <td>3.624276</td>\n",
       "      <td>4.586556</td>\n",
       "      <td>1.0</td>\n",
       "    </tr>\n",
       "  </tbody>\n",
       "</table>\n",
       "</div>"
      ],
      "text/plain": [
       "           estimate       std  ci_95_lower  ci_95_upper  p(|x|>0)\n",
       "G41L      -3.208279  0.214365    -3.637009    -2.779548       1.0\n",
       "V54G       0.284343  0.054304     0.175734     0.392952       1.0\n",
       "G41L:V54G  4.105416  0.240570     3.624276     4.586556       1.0"
      ]
     },
     "execution_count": 34,
     "metadata": {},
     "output_type": "execute_result"
    }
   ],
   "source": [
    "contrast_matrix = pd.DataFrame({'G41L'     : [-1,  0,  1,  0],\n",
    "                                'V54G'     : [-1,  1,  0,  0],\n",
    "                                'G41L:V54G': [ 1, -1, -1,  1]},\n",
    "                                index=seqs)\n",
    "contrast = model.make_contrasts(contrast_matrix)\n",
    "contrast"
   ]
  },
  {
   "cell_type": "markdown",
   "id": "93f38a16",
   "metadata": {},
   "source": [
    "We can see that there is strong support in the posterior for the deleterious effect of G41L in the wild-type background, but also that this is strongly reversed in the presence of V54G. Lets now compare these estimates with the naive comparisons using the estimated measurement errors alone"
   ]
  },
  {
   "cell_type": "code",
   "execution_count": 41,
   "id": "69545135",
   "metadata": {},
   "outputs": [
    {
     "data": {
      "text/html": [
       "<div>\n",
       "<style scoped>\n",
       "    .dataframe tbody tr th:only-of-type {\n",
       "        vertical-align: middle;\n",
       "    }\n",
       "\n",
       "    .dataframe tbody tr th {\n",
       "        vertical-align: top;\n",
       "    }\n",
       "\n",
       "    .dataframe thead th {\n",
       "        text-align: right;\n",
       "    }\n",
       "</style>\n",
       "<table border=\"1\" class=\"dataframe\">\n",
       "  <thead>\n",
       "    <tr style=\"text-align: right;\">\n",
       "      <th></th>\n",
       "      <th>estimate</th>\n",
       "      <th>std</th>\n",
       "      <th>ci_95_lower</th>\n",
       "      <th>ci_95_upper</th>\n",
       "      <th>p(|x|&gt;0)</th>\n",
       "    </tr>\n",
       "  </thead>\n",
       "  <tbody>\n",
       "    <tr>\n",
       "      <th>G41L</th>\n",
       "      <td>-3.512487</td>\n",
       "      <td>0.325026</td>\n",
       "      <td>-4.162539</td>\n",
       "      <td>-2.862435</td>\n",
       "      <td>1.0</td>\n",
       "    </tr>\n",
       "    <tr>\n",
       "      <th>V54G</th>\n",
       "      <td>0.334153</td>\n",
       "      <td>0.055370</td>\n",
       "      <td>0.223413</td>\n",
       "      <td>0.444892</td>\n",
       "      <td>1.0</td>\n",
       "    </tr>\n",
       "    <tr>\n",
       "      <th>G41L:V54G</th>\n",
       "      <td>4.318691</td>\n",
       "      <td>0.349109</td>\n",
       "      <td>3.620472</td>\n",
       "      <td>5.016910</td>\n",
       "      <td>1.0</td>\n",
       "    </tr>\n",
       "  </tbody>\n",
       "</table>\n",
       "</div>"
      ],
      "text/plain": [
       "           estimate       std  ci_95_lower  ci_95_upper  p(|x|>0)\n",
       "G41L      -3.512487  0.325026    -4.162539    -2.862435       1.0\n",
       "V54G       0.334153  0.055370     0.223413     0.444892       1.0\n",
       "G41L:V54G  4.318691  0.349109     3.620472     5.016910       1.0"
      ]
     },
     "execution_count": 41,
     "metadata": {},
     "output_type": "execute_result"
    }
   ],
   "source": [
    "make_contrasts(df, contrast_matrix)"
   ]
  },
  {
   "cell_type": "markdown",
   "id": "cfa8b3bf",
   "metadata": {},
   "source": [
    "We can see how estimates are then shrunk towards 0 and uncertaintly is slightly reduced by using the prior that was estimated across the complete dataset"
   ]
  }
 ],
 "metadata": {
  "kernelspec": {
   "display_name": "Python 3 (ipykernel)",
   "language": "python",
   "name": "python3"
  },
  "language_info": {
   "codemirror_mode": {
    "name": "ipython",
    "version": 3
   },
   "file_extension": ".py",
   "mimetype": "text/x-python",
   "name": "python",
   "nbconvert_exporter": "python",
   "pygments_lexer": "ipython3",
   "version": "3.8.18"
  }
 },
 "nbformat": 4,
 "nbformat_minor": 5
}
