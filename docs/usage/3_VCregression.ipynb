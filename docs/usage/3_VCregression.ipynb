{
 "cells": [
  {
   "cell_type": "markdown",
   "id": "03812395",
   "metadata": {},
   "source": [
    "# How to infer a complete landscape from experimental data\n",
    "\n",
    "In contrast to theoretical or toy landscapes, empirical landscapes that are based on experimental data. Such data is noisy and incomplete, so we need to apply additional methods before we have estimates for every genotype of interest to visualize the structure of the genotype-phenotype map.\n",
    "\n",
    "\n",
    "## Introduction to Variance Component regression\n",
    "\n",
    "We provide a simple interface to perform Variance Component regression. Briefly, VC regression uses the empirical data to estimate a prior distribution to perform Gaussian Process regression on functions over sequence space characterized by the contribution of the different orders of interaction to the sequence-dependent variability in the data.\n",
    "\n",
    "A function $f$ can be decomposed into pure $k$th order functions over sequence space for sequences of length $\\ell$\n",
    "\n",
    "$$f = \\sum_{k=0}^{\\ell} f_k$$\n",
    "\n",
    "Then, we can estimate and predict the phenotype at every possible sequence assuming that the prior is still valid in regions of sequence space or genotypes that have not been experimentally measured\n",
    "\n",
    "\n",
    "### Input data\n",
    "\n",
    "The required input data will be a set of sequences `X` and the associated measurements `y`, and optionally the variance of the measurement `y_var`, if known. Knowning the experimental variance e.g. from replicate experiments, would allow us to tease appart experimental noise from true high order genetic interactions that show complex patterns in the data. \n",
    "\n",
    "\n",
    "### Learn more\n",
    "\n",
    "For more detailed explanations we refer to the original paper\n",
    "\n",
    "- Zhou, J.; Wong, M. S.; Chen, W.; Krainer, A. R.; Justin, B.; Mccandlish, D. M. Higher-Order Epistasis and Phenotypic Prediction. Proc. Natl. Acad. Sci. USA 2022, 119 (39). [https://doi.org/10.1073/pnas.2204233119](https://doi.org/10.1073/pnas.2204233119).\n",
    "\n"
   ]
  },
  {
   "cell_type": "code",
   "execution_count": 1,
   "id": "f34627a2",
   "metadata": {},
   "outputs": [],
   "source": [
    "# Import required libraries\n",
    "import pandas as pd\n",
    "import numpy as np\n",
    "import seaborn as sns\n",
    "import holoviews as hv\n",
    "import matplotlib.pyplot as plt\n",
    "import gpmap.src.plot as plot\n",
    "\n",
    "from os.path import join\n",
    "from scipy.stats import pearsonr\n",
    "from gpmap.src.datasets import DataSet\n",
    "from gpmap.src.inference import VCregression"
   ]
  },
  {
   "cell_type": "markdown",
   "id": "48dc85f2",
   "metadata": {},
   "source": [
    "## Inference from simulated data\n",
    "\n",
    "We first illustrate how to run VC regression on simulated data from the prior distribution characterized by the variance components $\\lambda$'s of each order of interaction. \n",
    "\n",
    "### How to sample functions from the prior distribution\n",
    "\n",
    "A simple way to sample from the prior distribution is by sampling a random uncorrelated function $a$\n",
    "\n",
    "$$a \\sim Normal(0, 1)$$\n",
    "\n",
    "project it into the different subspaces using the projection operator $W_k$, rescale them to have the associated variance and add them up together\n",
    "\n",
    "$$f = \\sum_{k=0}^{\\ell}\\lambda_k^{\\frac{1}{2}}W_k a$$\n",
    "\n",
    "We can do it simply as follows, adding some random noise and missing data points for which we can make predictions later"
   ]
  },
  {
   "cell_type": "code",
   "execution_count": 2,
   "id": "838329b0",
   "metadata": {},
   "outputs": [
    {
     "data": {
      "text/html": [
       "<div>\n",
       "<style scoped>\n",
       "    .dataframe tbody tr th:only-of-type {\n",
       "        vertical-align: middle;\n",
       "    }\n",
       "\n",
       "    .dataframe tbody tr th {\n",
       "        vertical-align: top;\n",
       "    }\n",
       "\n",
       "    .dataframe thead th {\n",
       "        text-align: right;\n",
       "    }\n",
       "</style>\n",
       "<table border=\"1\" class=\"dataframe\">\n",
       "  <thead>\n",
       "    <tr style=\"text-align: right;\">\n",
       "      <th></th>\n",
       "      <th>y_true</th>\n",
       "      <th>y</th>\n",
       "      <th>y_var</th>\n",
       "    </tr>\n",
       "  </thead>\n",
       "  <tbody>\n",
       "    <tr>\n",
       "      <th>AAAAAA</th>\n",
       "      <td>-0.207772</td>\n",
       "      <td>0.118123</td>\n",
       "      <td>0.04</td>\n",
       "    </tr>\n",
       "    <tr>\n",
       "      <th>AAAAAC</th>\n",
       "      <td>-1.686822</td>\n",
       "      <td>-1.706631</td>\n",
       "      <td>0.04</td>\n",
       "    </tr>\n",
       "    <tr>\n",
       "      <th>AAAAAT</th>\n",
       "      <td>2.064266</td>\n",
       "      <td>1.774501</td>\n",
       "      <td>0.04</td>\n",
       "    </tr>\n",
       "    <tr>\n",
       "      <th>AAAACA</th>\n",
       "      <td>1.263788</td>\n",
       "      <td>0.920955</td>\n",
       "      <td>0.04</td>\n",
       "    </tr>\n",
       "    <tr>\n",
       "      <th>AAAACC</th>\n",
       "      <td>0.818644</td>\n",
       "      <td>0.808716</td>\n",
       "      <td>0.04</td>\n",
       "    </tr>\n",
       "    <tr>\n",
       "      <th>...</th>\n",
       "      <td>...</td>\n",
       "      <td>...</td>\n",
       "      <td>...</td>\n",
       "    </tr>\n",
       "    <tr>\n",
       "      <th>TTTTGG</th>\n",
       "      <td>-1.030013</td>\n",
       "      <td>-0.713674</td>\n",
       "      <td>0.04</td>\n",
       "    </tr>\n",
       "    <tr>\n",
       "      <th>TTTTGT</th>\n",
       "      <td>2.345377</td>\n",
       "      <td>2.364254</td>\n",
       "      <td>0.04</td>\n",
       "    </tr>\n",
       "    <tr>\n",
       "      <th>TTTTTC</th>\n",
       "      <td>-1.461869</td>\n",
       "      <td>-1.328660</td>\n",
       "      <td>0.04</td>\n",
       "    </tr>\n",
       "    <tr>\n",
       "      <th>TTTTTG</th>\n",
       "      <td>-2.741072</td>\n",
       "      <td>-2.634664</td>\n",
       "      <td>0.04</td>\n",
       "    </tr>\n",
       "    <tr>\n",
       "      <th>TTTTTT</th>\n",
       "      <td>-3.622349</td>\n",
       "      <td>-3.832511</td>\n",
       "      <td>0.04</td>\n",
       "    </tr>\n",
       "  </tbody>\n",
       "</table>\n",
       "<p>3658 rows × 3 columns</p>\n",
       "</div>"
      ],
      "text/plain": [
       "          y_true         y  y_var\n",
       "AAAAAA -0.207772  0.118123   0.04\n",
       "AAAAAC -1.686822 -1.706631   0.04\n",
       "AAAAAT  2.064266  1.774501   0.04\n",
       "AAAACA  1.263788  0.920955   0.04\n",
       "AAAACC  0.818644  0.808716   0.04\n",
       "...          ...       ...    ...\n",
       "TTTTGG -1.030013 -0.713674   0.04\n",
       "TTTTGT  2.345377  2.364254   0.04\n",
       "TTTTTC -1.461869 -1.328660   0.04\n",
       "TTTTTG -2.741072 -2.634664   0.04\n",
       "TTTTTT -3.622349 -3.832511   0.04\n",
       "\n",
       "[3658 rows x 3 columns]"
      ]
     },
     "execution_count": 2,
     "metadata": {},
     "output_type": "execute_result"
    }
   ],
   "source": [
    "np.random.seed(0)\n",
    "lambdas_true = np.array([0, 1e3, 2e2, 1e0, 1e-1, 3e-3, 1e-5])\n",
    "\n",
    "model = VCregression()\n",
    "model.init(seq_length=6, alphabet_type='dna')\n",
    "data = model.simulate(lambdas_true, sigma=0.2, p_missing=0.1)\n",
    "obs = data.dropna()\n",
    "obs"
   ]
  },
  {
   "cell_type": "markdown",
   "id": "ce611af4",
   "metadata": {},
   "source": [
    "### How to estimate Variance Components $\\lambda$'s\n",
    "\n",
    "This is done through kernel alignment, this is, matching the raw second order matrix with a non-negative linear combination of the covariance matrices $K_k$ associated to each pure $k$ order component \n",
    "\n",
    "$$K_{BB} = D_{var} + \\sum_k \\lambda_k K_k$$\n",
    "\n",
    "by finding the $\\lambda$'s that minimize the Frobenius norm of the difference\n",
    "\n",
    "$$\\min_{\\lambda} \\lVert yy^T - K_{BB}\\lVert_F^2$$\n",
    "\n",
    "\n"
   ]
  },
  {
   "cell_type": "code",
   "execution_count": 3,
   "id": "5ccde983",
   "metadata": {},
   "outputs": [],
   "source": [
    "lambdas = model.fit(X=obs.index.values, y=obs.y.values, y_var=obs.y_var.values)\n",
    "vc = model.lambdas_to_variance(lambdas)\n",
    "vc_p = vc / vc.sum() * 100"
   ]
  },
  {
   "cell_type": "code",
   "execution_count": 4,
   "id": "c6131627",
   "metadata": {},
   "outputs": [
    {
     "data": {
      "image/png": "[encoded data removed]",
      "text/plain": [
       "<Figure size 864x252 with 3 Axes>"
      ]
     },
     "metadata": {
      "needs_background": "light"
     },
     "output_type": "display_data"
    }
   ],
   "source": [
    "k = np.arange(lambdas.shape[0])\n",
    "\n",
    "fig, subplots = plt.subplots(1, 3, figsize=(12, 3.5))\n",
    "\n",
    "axes = subplots[0]\n",
    "sns.barplot(x=k, y=lambdas, ax=axes, color='black')\n",
    "axes.set(xlabel='k', ylabel=r'$\\lambda_k$', yscale='log')\n",
    "\n",
    "axes = subplots[1]\n",
    "sns.barplot(x=k[1:], y=vc_p, ax=axes, color='black')\n",
    "axes.set(xlabel='k', ylabel='% variance explained')\n",
    "\n",
    "axes = subplots[2]\n",
    "axes.scatter(lambdas_true, lambdas, c='black')\n",
    "lims = (1e-6, 1e4)\n",
    "axes.plot(lims, lims, c='grey', lw=0.3, alpha=0.5)\n",
    "axes.set(xscale='log', yscale='log',\n",
    "         xlabel=r'True $\\lambda_k$',\n",
    "         ylabel=r'Inferred $\\lambda_k$',\n",
    "         xlim=lims, ylim=lims)\n",
    "\n",
    "fig.tight_layout()"
   ]
  },
  {
   "cell_type": "markdown",
   "id": "cff9aee0",
   "metadata": {},
   "source": [
    "We can see that the inferred variance components are very similar in log scale to the true data-generating parameters. \n",
    "\n",
    "However, when data is sparse, kernel alignment is a hard problem and we need to regularize towards simpler solutions. While we could shrink towards additivity, another good general choice that still models high order interactions is towards exponential decay of the variance components. We can do it by setting `cross_validation=True` and penalizing the second order moments of the $\\log \\lambda_k$ as a function of $k$. It will automatically split the data into different folds and perform kernel alignment under different regularization strength to find the penalization constant that minimizes the Frobenius norm in the validation sets."
   ]
  },
  {
   "cell_type": "code",
   "execution_count": 5,
   "id": "36b593fa",
   "metadata": {},
   "outputs": [
    {
     "name": "stderr",
     "output_type": "stream",
     "text": [
      " 18%|█████████████████▋                                                                                | 18/100 [00:01<00:07, 11.65it/s]/home/martigo/miniconda3/envs/gpmap/lib/python3.7/site-packages/gpmap_tools-0.1.2-py3.7.egg/gpmap/src/kernel.py:248: RuntimeWarning: overflow encountered in exp\n",
      "  lambdas = np.exp(log_lambdas)\n",
      "/home/martigo/miniconda3/envs/gpmap/lib/python3.7/site-packages/gpmap_tools-0.1.2-py3.7.egg/gpmap/src/kernel.py:251: RuntimeWarning: invalid value encountered in double_scalars\n",
      "  Frob = Frob1 - Frob2\n",
      "100%|█████████████████████████████████████████████████████████████████████████████████████████████████| 100/100 [00:07<00:00, 13.66it/s]\n"
     ]
    }
   ],
   "source": [
    "cvmodel = VCregression(cross_validation=True)\n",
    "lambdas = cvmodel.fit(X=obs.index.values, y=obs.y.values, y_var=obs.y_var.values)"
   ]
  },
  {
   "cell_type": "markdown",
   "id": "94909f1c",
   "metadata": {},
   "source": [
    "By default, the validation loss is also the Frobenius norm as well, but we can select it to use the $R^2$ on the or the log-likelihood on validation set if we want to take into account the known measurement errors by specifying either `cv_loss_function='r2'` or `cv_loss_function='logL'`."
   ]
  },
  {
   "cell_type": "code",
   "execution_count": 6,
   "id": "d1050335",
   "metadata": {
    "scrolled": true
   },
   "outputs": [
    {
     "name": "stderr",
     "output_type": "stream",
     "text": [
      "100%|█████████████████████████████████████████████████████████████████████████████████████████████████| 100/100 [00:13<00:00,  7.67it/s]\n"
     ]
    }
   ],
   "source": [
    "cvmodel = VCregression(cross_validation=True, cv_loss_function='logL')\n",
    "lambdas = cvmodel.fit(X=obs.index.values, y=obs.y.values, y_var=obs.y_var.values)"
   ]
  },
  {
   "cell_type": "markdown",
   "id": "a8af51e5",
   "metadata": {},
   "source": [
    "We can visualize the hyperparameter optimization curves during the cross-validation procedure as follows"
   ]
  },
  {
   "cell_type": "code",
   "execution_count": 7,
   "id": "af857d36",
   "metadata": {},
   "outputs": [
    {
     "data": {
      "image/png": "[encoded data removed]",
      "text/plain": [
       "<Figure size 360x324 with 1 Axes>"
      ]
     },
     "metadata": {
      "needs_background": "light"
     },
     "output_type": "display_data"
    }
   ],
   "source": [
    "fig, axes = plt.subplots(1, 1, figsize=(5, 4.5))\n",
    "plot.plot_hyperparam_cv(cvmodel.cv_loss_df, axes, x='log_beta', y='loss', show_folds=True,\n",
    "                        xlabel=r'$\\log\\beta$', ylabel=r'$-log(\\L)$', highlight='min')"
   ]
  },
  {
   "cell_type": "markdown",
   "id": "96b9ffb2",
   "metadata": {},
   "source": [
    "### Uniform measurement noise in variance components\n",
    "\n",
    "We have seen that higher order components are less accurately estimated given their small contribution and the presence of measurement noise. In fact, large uniform measurement noise or, equivalently, a House of Cards (HoC) component will manifest as a constant increase in the variance components that will hinder estimation of high order components even if we exactly know the variance of the measurement error at sequence.\n",
    "\n",
    "$$K = \\sigma^2 I + \\sum_k \\lambda_k K_k = \\sigma^2 \\sum_k K_k + \\sum_k \\lambda_k K_k = \\sum_k (\\lambda_k + \\sigma^2) K_k$$\n"
   ]
  },
  {
   "cell_type": "code",
   "execution_count": 8,
   "id": "9399e3c7",
   "metadata": {},
   "outputs": [],
   "source": [
    "data2 = model.simulate(lambdas_true, sigma=0.5)\n",
    "lambdas = model.fit(X=data2.index.values, y=data2.y.values, y_var=data2.y_var.values)"
   ]
  },
  {
   "cell_type": "code",
   "execution_count": 9,
   "id": "6d0e7e04",
   "metadata": {},
   "outputs": [
    {
     "data": {
      "image/png": "[encoded data removed]",
      "text/plain": [
       "<Figure size 288x288 with 1 Axes>"
      ]
     },
     "metadata": {
      "needs_background": "light"
     },
     "output_type": "display_data"
    }
   ],
   "source": [
    "fig, axes = plt.subplots(1, 1, figsize=(4, 4))\n",
    "\n",
    "axes.scatter(lambdas_true, lambdas, c='black')\n",
    "lims = (1e-6, 1e4)\n",
    "axes.plot(lims, lims, c='grey', lw=0.3, alpha=0.5)\n",
    "axes.plot(lims, (0.25, 0.25), c='darkred', lw=0.3, \n",
    "          label=r'$\\sigma^2$', linestyle='--')\n",
    "axes.set(xscale='log', yscale='log',\n",
    "         xlabel=r'True $\\lambda_k$',\n",
    "         ylabel=r'Inferred $\\lambda_k$',\n",
    "         xlim=lims, ylim=lims,\n",
    "         aspect=1)\n",
    "axes.legend(loc=4)\n",
    "\n",
    "fig.tight_layout()"
   ]
  },
  {
   "cell_type": "markdown",
   "id": "a9dcb37f",
   "metadata": {},
   "source": [
    "### How to obtain phenotypic predictions\n",
    "\n",
    "Once we know the parameters of the Variance Component kernel, this is, the variance components $\\lambda_k$, we can directly compute the mean and variance of the posterior distribution of the function for every possible sequence"
   ]
  },
  {
   "cell_type": "code",
   "execution_count": 10,
   "id": "16df54ca",
   "metadata": {},
   "outputs": [
    {
     "data": {
      "text/html": [
       "<div>\n",
       "<style scoped>\n",
       "    .dataframe tbody tr th:only-of-type {\n",
       "        vertical-align: middle;\n",
       "    }\n",
       "\n",
       "    .dataframe tbody tr th {\n",
       "        vertical-align: top;\n",
       "    }\n",
       "\n",
       "    .dataframe thead th {\n",
       "        text-align: right;\n",
       "    }\n",
       "</style>\n",
       "<table border=\"1\" class=\"dataframe\">\n",
       "  <thead>\n",
       "    <tr style=\"text-align: right;\">\n",
       "      <th></th>\n",
       "      <th>ypred</th>\n",
       "    </tr>\n",
       "  </thead>\n",
       "  <tbody>\n",
       "    <tr>\n",
       "      <th>AAAAAA</th>\n",
       "      <td>-0.197050</td>\n",
       "    </tr>\n",
       "    <tr>\n",
       "      <th>AAAAAC</th>\n",
       "      <td>-1.667246</td>\n",
       "    </tr>\n",
       "    <tr>\n",
       "      <th>AAAAAG</th>\n",
       "      <td>-0.525272</td>\n",
       "    </tr>\n",
       "    <tr>\n",
       "      <th>AAAAAT</th>\n",
       "      <td>1.877927</td>\n",
       "    </tr>\n",
       "    <tr>\n",
       "      <th>AAAACA</th>\n",
       "      <td>0.967353</td>\n",
       "    </tr>\n",
       "    <tr>\n",
       "      <th>...</th>\n",
       "      <td>...</td>\n",
       "    </tr>\n",
       "    <tr>\n",
       "      <th>TTTTGT</th>\n",
       "      <td>2.400213</td>\n",
       "    </tr>\n",
       "    <tr>\n",
       "      <th>TTTTTA</th>\n",
       "      <td>-4.285704</td>\n",
       "    </tr>\n",
       "    <tr>\n",
       "      <th>TTTTTC</th>\n",
       "      <td>-1.509820</td>\n",
       "    </tr>\n",
       "    <tr>\n",
       "      <th>TTTTTG</th>\n",
       "      <td>-2.761167</td>\n",
       "    </tr>\n",
       "    <tr>\n",
       "      <th>TTTTTT</th>\n",
       "      <td>-3.884073</td>\n",
       "    </tr>\n",
       "  </tbody>\n",
       "</table>\n",
       "<p>4096 rows × 1 columns</p>\n",
       "</div>"
      ],
      "text/plain": [
       "           ypred\n",
       "AAAAAA -0.197050\n",
       "AAAAAC -1.667246\n",
       "AAAAAG -0.525272\n",
       "AAAAAT  1.877927\n",
       "AAAACA  0.967353\n",
       "...          ...\n",
       "TTTTGT  2.400213\n",
       "TTTTTA -4.285704\n",
       "TTTTTC -1.509820\n",
       "TTTTTG -2.761167\n",
       "TTTTTT -3.884073\n",
       "\n",
       "[4096 rows x 1 columns]"
      ]
     },
     "execution_count": 10,
     "metadata": {},
     "output_type": "execute_result"
    }
   ],
   "source": [
    "model.fit(X=obs.index.values, y=obs.y.values, y_var=obs.y_var.values)\n",
    "pred = model.predict()\n",
    "pred"
   ]
  },
  {
   "cell_type": "markdown",
   "id": "3a1b07a8",
   "metadata": {},
   "source": [
    "We can now compare the predictions with the true function at sequences that were not observed and see how good we can predict missing sequences at random in this regime"
   ]
  },
  {
   "cell_type": "code",
   "execution_count": 11,
   "id": "3304d2d9",
   "metadata": {},
   "outputs": [],
   "source": [
    "test = data.loc[np.isnan(data['y']), :].copy()\n",
    "test['pred'] = pred.loc[test.index, 'ypred'].values\n",
    "r2 = pearsonr(test['pred'], test['y_true'])[0] ** 2"
   ]
  },
  {
   "cell_type": "code",
   "execution_count": 12,
   "id": "52faa016",
   "metadata": {},
   "outputs": [
    {
     "data": {
      "image/png": "[encoded data removed]",
      "text/plain": [
       "<Figure size 360x360 with 1 Axes>"
      ]
     },
     "metadata": {
      "needs_background": "light"
     },
     "output_type": "display_data"
    }
   ],
   "source": [
    "fig, axes = plt.subplots(1, 1, figsize=(5, 5))\n",
    "\n",
    "axes.scatter(x=test.y_true, y=test.pred, c='black', alpha=0.2, s=2)\n",
    "ticks = np.arange(-10, 11, 2)\n",
    "axes.set(xlabel=r'$y_{True}$', ylabel=r'$y_{pred}$', aspect=1,\n",
    "         xticks=ticks, yticks=ticks)\n",
    "axes.text(-8, 9, r'$R^2$=' + '{:.3f}'.format(r2))\n",
    "axes.grid(alpha=0.2)"
   ]
  },
  {
   "cell_type": "markdown",
   "id": "78636627",
   "metadata": {},
   "source": [
    "### How to calculate uncertainty of the predictions\n",
    "\n",
    "In the previous section, we have shown how to obtain the best estimates for unobserved sequences given the data and the estimated variance components. However, in cases where the ground truth is not known, it can be useful to have an idea about the uncertainty of the phenotypic predictions for new sequences. As we are using Gaussian Process models with Gaussian likelihood function, we can compute, not only the posterior mean, but also the posterior variance and derive the 95% probability predictive interval for these sequences by setting `calc_variance=True`.\n",
    "\n"
   ]
  },
  {
   "cell_type": "code",
   "execution_count": 13,
   "id": "1b2ad2fb",
   "metadata": {},
   "outputs": [
    {
     "name": "stderr",
     "output_type": "stream",
     "text": [
      "100%|█████████████████████████████████████████████████████████████████████████████████████████████████| 100/100 [00:05<00:00, 19.57it/s]\n"
     ]
    },
    {
     "data": {
      "text/html": [
       "<div>\n",
       "<style scoped>\n",
       "    .dataframe tbody tr th:only-of-type {\n",
       "        vertical-align: middle;\n",
       "    }\n",
       "\n",
       "    .dataframe tbody tr th {\n",
       "        vertical-align: top;\n",
       "    }\n",
       "\n",
       "    .dataframe thead th {\n",
       "        text-align: right;\n",
       "    }\n",
       "</style>\n",
       "<table border=\"1\" class=\"dataframe\">\n",
       "  <thead>\n",
       "    <tr style=\"text-align: right;\">\n",
       "      <th></th>\n",
       "      <th>ypred</th>\n",
       "      <th>var</th>\n",
       "      <th>y_true</th>\n",
       "      <th>sd</th>\n",
       "      <th>lower</th>\n",
       "      <th>upper</th>\n",
       "    </tr>\n",
       "  </thead>\n",
       "  <tbody>\n",
       "    <tr>\n",
       "      <th>GCTCTA</th>\n",
       "      <td>0.190808</td>\n",
       "      <td>0.053735</td>\n",
       "      <td>0.097427</td>\n",
       "      <td>0.231809</td>\n",
       "      <td>-0.272810</td>\n",
       "      <td>0.654425</td>\n",
       "    </tr>\n",
       "    <tr>\n",
       "      <th>TACCAA</th>\n",
       "      <td>1.977900</td>\n",
       "      <td>0.047620</td>\n",
       "      <td>2.090013</td>\n",
       "      <td>0.218221</td>\n",
       "      <td>1.541458</td>\n",
       "      <td>2.414341</td>\n",
       "    </tr>\n",
       "    <tr>\n",
       "      <th>CTCTCG</th>\n",
       "      <td>-2.894538</td>\n",
       "      <td>0.049928</td>\n",
       "      <td>-2.830052</td>\n",
       "      <td>0.223446</td>\n",
       "      <td>-3.341430</td>\n",
       "      <td>-2.447645</td>\n",
       "    </tr>\n",
       "    <tr>\n",
       "      <th>GTGAAA</th>\n",
       "      <td>-2.532334</td>\n",
       "      <td>0.052653</td>\n",
       "      <td>-2.748958</td>\n",
       "      <td>0.229461</td>\n",
       "      <td>-2.991257</td>\n",
       "      <td>-2.073411</td>\n",
       "    </tr>\n",
       "    <tr>\n",
       "      <th>GGCTGC</th>\n",
       "      <td>3.638155</td>\n",
       "      <td>0.050029</td>\n",
       "      <td>3.383262</td>\n",
       "      <td>0.223672</td>\n",
       "      <td>3.190811</td>\n",
       "      <td>4.085499</td>\n",
       "    </tr>\n",
       "    <tr>\n",
       "      <th>...</th>\n",
       "      <td>...</td>\n",
       "      <td>...</td>\n",
       "      <td>...</td>\n",
       "      <td>...</td>\n",
       "      <td>...</td>\n",
       "      <td>...</td>\n",
       "    </tr>\n",
       "    <tr>\n",
       "      <th>ATTAAA</th>\n",
       "      <td>0.352650</td>\n",
       "      <td>0.052678</td>\n",
       "      <td>0.427717</td>\n",
       "      <td>0.229518</td>\n",
       "      <td>-0.106386</td>\n",
       "      <td>0.811686</td>\n",
       "    </tr>\n",
       "    <tr>\n",
       "      <th>AAGTAC</th>\n",
       "      <td>0.991078</td>\n",
       "      <td>0.049963</td>\n",
       "      <td>1.190414</td>\n",
       "      <td>0.223524</td>\n",
       "      <td>0.544031</td>\n",
       "      <td>1.438126</td>\n",
       "    </tr>\n",
       "    <tr>\n",
       "      <th>CTCCCT</th>\n",
       "      <td>-2.543910</td>\n",
       "      <td>0.050045</td>\n",
       "      <td>-2.276967</td>\n",
       "      <td>0.223707</td>\n",
       "      <td>-2.991325</td>\n",
       "      <td>-2.096496</td>\n",
       "    </tr>\n",
       "    <tr>\n",
       "      <th>CATCGA</th>\n",
       "      <td>5.925633</td>\n",
       "      <td>0.050166</td>\n",
       "      <td>6.283029</td>\n",
       "      <td>0.223979</td>\n",
       "      <td>5.477676</td>\n",
       "      <td>6.373590</td>\n",
       "    </tr>\n",
       "    <tr>\n",
       "      <th>CTTTGG</th>\n",
       "      <td>-0.343534</td>\n",
       "      <td>0.050168</td>\n",
       "      <td>-0.430854</td>\n",
       "      <td>0.223982</td>\n",
       "      <td>-0.791499</td>\n",
       "      <td>0.104431</td>\n",
       "    </tr>\n",
       "  </tbody>\n",
       "</table>\n",
       "<p>100 rows × 6 columns</p>\n",
       "</div>"
      ],
      "text/plain": [
       "           ypred       var    y_true        sd     lower     upper\n",
       "GCTCTA  0.190808  0.053735  0.097427  0.231809 -0.272810  0.654425\n",
       "TACCAA  1.977900  0.047620  2.090013  0.218221  1.541458  2.414341\n",
       "CTCTCG -2.894538  0.049928 -2.830052  0.223446 -3.341430 -2.447645\n",
       "GTGAAA -2.532334  0.052653 -2.748958  0.229461 -2.991257 -2.073411\n",
       "GGCTGC  3.638155  0.050029  3.383262  0.223672  3.190811  4.085499\n",
       "...          ...       ...       ...       ...       ...       ...\n",
       "ATTAAA  0.352650  0.052678  0.427717  0.229518 -0.106386  0.811686\n",
       "AAGTAC  0.991078  0.049963  1.190414  0.223524  0.544031  1.438126\n",
       "CTCCCT -2.543910  0.050045 -2.276967  0.223707 -2.991325 -2.096496\n",
       "CATCGA  5.925633  0.050166  6.283029  0.223979  5.477676  6.373590\n",
       "CTTTGG -0.343534  0.050168 -0.430854  0.223982 -0.791499  0.104431\n",
       "\n",
       "[100 rows x 6 columns]"
      ]
     },
     "execution_count": 13,
     "metadata": {},
     "output_type": "execute_result"
    }
   ],
   "source": [
    "xpred = np.random.choice(test.index.values, 100)\n",
    "pred = model.predict(xpred, calc_variance=True)\n",
    "pred['y_true'] = data.loc[pred.index.values, 'y_true']\n",
    "pred['sd'] = np.sqrt(pred['var'])\n",
    "pred['lower'] = pred['ypred'] - 2* pred['sd']\n",
    "pred['upper'] = pred['ypred'] + 2* pred['sd']\n",
    "pred"
   ]
  },
  {
   "cell_type": "markdown",
   "id": "7f3de01f",
   "metadata": {},
   "source": [
    "We can now check that predictions are well calibrated, this is, that the true value lies withing the 95% probability predicted interval close to the expected 95% probability; and show the error bars in the scatterplot to visualize if uncertainty is uniformly distributed along the whole range of true phenotypic values."
   ]
  },
  {
   "cell_type": "code",
   "execution_count": 14,
   "id": "f6fdaad7",
   "metadata": {},
   "outputs": [
    {
     "data": {
      "text/plain": [
       "Text(-6, 10.5, 'Calibration=99.0%')"
      ]
     },
     "execution_count": 14,
     "metadata": {},
     "output_type": "execute_result"
    },
    {
     "data": {
      "image/png": "[encoded data removed]",
      "text/plain": [
       "<Figure size 360x360 with 1 Axes>"
      ]
     },
     "metadata": {
      "needs_background": "light"
     },
     "output_type": "display_data"
    }
   ],
   "source": [
    "perc = np.mean((pred['y_true'] > pred['lower']) & (pred['y_true'] < pred['upper'])) * 100\n",
    "fig, axes = plt.subplots(1, 1, figsize=(5, 5))\n",
    "axes.scatter(x=pred.y_true, y=pred.ypred, c='purple', s=5)\n",
    "for x, l, u in zip(pred['y_true'], pred['lower'], pred['upper']):\n",
    "    axes.plot((x, x), (l, u), lw=1, c='purple')\n",
    "lim = (-7, 12)\n",
    "axes.plot(lim, lim, lw=0.5, c='black', linestyle='--')\n",
    "axes.set(xlabel=r'$y_{True}$', ylabel=r'$y_{pred}$', aspect=1,\n",
    "         ylim=lim, xlim=lim)\n",
    "axes.text(-6, 10.5, 'Calibration={}%'.format(perc))"
   ]
  },
  {
   "cell_type": "markdown",
   "id": "97d9d6d9",
   "metadata": {},
   "source": [
    "## Inference from real data: GB1 landscape\n",
    "\n",
    "In the next section, we are going to infer the complete combinatorial landscape of the protein G domain B1 from experimental data ([Wu et. al (2016)](https://elifesciences.org/articles/16965)). In this study, a library containing nearly all possible aminoacid combinations at positions 39, 40, 41 and 54 was selected for binding to the constant fraction of IgG using an mRNA display approach. Thus, by sequencing the mRNA library before and after selection, we can obtain estimates of how strongly each sequence in the library binds its target. \n",
    "\n",
    "### Data preprocessing\n",
    "\n",
    "We take the number of times a sequence is observed in the input and selected samples as raw data for our purposes as provided by the authors [here](https://elifesciences.org/articles/16965/figures#SD1-data). We use [Enrich2](https://genomebiology.biomedcentral.com/articles/10.1186/s13059-017-1272-5) approach to derive the enrichment score and the associated error. \n",
    "\n",
    "$$y_i = log\\left(\\frac{ c_{i,sel} + 0.5}{c_{wt,sel} + 0.5} \\right) - log\\left(\\frac{ c_{i,inp} + 0.5}{c_{wt,inp} + 0.5} \\right)$$\n",
    "\n",
    "\n",
    "$$y_{var,i} = \\frac{1}{c_{i,inp} + 0.5} + \\frac{1}{c_{wt,inp} + 0.5} + \\frac{1}{c_{i,sel} + 0.5} +\\frac{1}{c_{wt,sel} + 0.5}$$\n"
   ]
  },
  {
   "cell_type": "code",
   "execution_count": 15,
   "id": "0626c440",
   "metadata": {},
   "outputs": [
    {
     "data": {
      "text/html": [
       "<div>\n",
       "<style scoped>\n",
       "    .dataframe tbody tr th:only-of-type {\n",
       "        vertical-align: middle;\n",
       "    }\n",
       "\n",
       "    .dataframe tbody tr th {\n",
       "        vertical-align: top;\n",
       "    }\n",
       "\n",
       "    .dataframe thead th {\n",
       "        text-align: right;\n",
       "    }\n",
       "</style>\n",
       "<table border=\"1\" class=\"dataframe\">\n",
       "  <thead>\n",
       "    <tr style=\"text-align: right;\">\n",
       "      <th></th>\n",
       "      <th>input</th>\n",
       "      <th>selected</th>\n",
       "    </tr>\n",
       "    <tr>\n",
       "      <th>sequence</th>\n",
       "      <th></th>\n",
       "      <th></th>\n",
       "    </tr>\n",
       "  </thead>\n",
       "  <tbody>\n",
       "    <tr>\n",
       "      <th>VDGV</th>\n",
       "      <td>92735</td>\n",
       "      <td>338346</td>\n",
       "    </tr>\n",
       "    <tr>\n",
       "      <th>ADGV</th>\n",
       "      <td>34</td>\n",
       "      <td>43</td>\n",
       "    </tr>\n",
       "    <tr>\n",
       "      <th>CDGV</th>\n",
       "      <td>850</td>\n",
       "      <td>641</td>\n",
       "    </tr>\n",
       "    <tr>\n",
       "      <th>DDGV</th>\n",
       "      <td>63</td>\n",
       "      <td>63</td>\n",
       "    </tr>\n",
       "    <tr>\n",
       "      <th>EDGV</th>\n",
       "      <td>841</td>\n",
       "      <td>190</td>\n",
       "    </tr>\n",
       "    <tr>\n",
       "      <th>...</th>\n",
       "      <td>...</td>\n",
       "      <td>...</td>\n",
       "    </tr>\n",
       "    <tr>\n",
       "      <th>YYYR</th>\n",
       "      <td>203</td>\n",
       "      <td>1</td>\n",
       "    </tr>\n",
       "    <tr>\n",
       "      <th>YYYS</th>\n",
       "      <td>186</td>\n",
       "      <td>3</td>\n",
       "    </tr>\n",
       "    <tr>\n",
       "      <th>YYYT</th>\n",
       "      <td>181</td>\n",
       "      <td>14</td>\n",
       "    </tr>\n",
       "    <tr>\n",
       "      <th>YYYW</th>\n",
       "      <td>30</td>\n",
       "      <td>1</td>\n",
       "    </tr>\n",
       "    <tr>\n",
       "      <th>YYYY</th>\n",
       "      <td>57</td>\n",
       "      <td>2</td>\n",
       "    </tr>\n",
       "  </tbody>\n",
       "</table>\n",
       "<p>149361 rows × 2 columns</p>\n",
       "</div>"
      ],
      "text/plain": [
       "          input  selected\n",
       "sequence                 \n",
       "VDGV      92735    338346\n",
       "ADGV         34        43\n",
       "CDGV        850       641\n",
       "DDGV         63        63\n",
       "EDGV        841       190\n",
       "...         ...       ...\n",
       "YYYR        203         1\n",
       "YYYS        186         3\n",
       "YYYT        181        14\n",
       "YYYW         30         1\n",
       "YYYY         57         2\n",
       "\n",
       "[149361 rows x 2 columns]"
      ]
     },
     "execution_count": 15,
     "metadata": {},
     "output_type": "execute_result"
    }
   ],
   "source": [
    "gb1 = DataSet('gb1')\n",
    "counts = gb1.raw_data\n",
    "counts"
   ]
  },
  {
   "cell_type": "code",
   "execution_count": 16,
   "id": "3de864df",
   "metadata": {},
   "outputs": [],
   "source": [
    "wt = 'VDGV'\n",
    "c_wt_input, c_wt_sel = counts.loc[wt]\n",
    "X = counts.index.values\n",
    "y = (np.log((counts['selected'] + 0.5)/(c_wt_sel + 0.5)) - np.log((counts['input'] + 0.5)/(c_wt_input + 0.5))).values\n",
    "y_var = (1/(counts['input'] + 0.5) + 1/(counts['selected'] + 0.5) + 1/(c_wt_sel + 0.5) + 1/(c_wt_input + 0.5)).values\n",
    "data = pd.DataFrame({'y': y, 'y_var': y_var}, index=X)"
   ]
  },
  {
   "cell_type": "markdown",
   "id": "b8e24eba",
   "metadata": {},
   "source": [
    "### Estimating Variance Components\n",
    "\n",
    "To be able to evaluate model performance, we first split the data into training and test sets keeping approximately 90% of the data for training and 10% for testing"
   ]
  },
  {
   "cell_type": "code",
   "execution_count": 17,
   "id": "7a256fc9",
   "metadata": {},
   "outputs": [],
   "source": [
    "u = np.random.uniform(size=y.shape[0]) < 0.9\n",
    "X_train, y_train, y_var_train = X[u], y[u], y_var[u]\n",
    "X_test, y_test = X[~u], y[~u]"
   ]
  },
  {
   "cell_type": "code",
   "execution_count": 18,
   "id": "5de115a7",
   "metadata": {},
   "outputs": [
    {
     "name": "stderr",
     "output_type": "stream",
     "text": [
      "100%|█████████████████████████████████████████████████████████████████████████████████████████████████| 100/100 [00:51<00:00,  1.95it/s]\n"
     ]
    }
   ],
   "source": [
    "model = VCregression(cross_validation=True, cv_loss_function='logL')\n",
    "lambdas = model.fit(X=X_train, y=y_train, y_var=y_var_train)"
   ]
  },
  {
   "cell_type": "code",
   "execution_count": 19,
   "id": "1ba3dea2",
   "metadata": {},
   "outputs": [
    {
     "data": {
      "image/png": "[encoded data removed]",
      "text/plain": [
       "<Figure size 360x324 with 1 Axes>"
      ]
     },
     "metadata": {
      "needs_background": "light"
     },
     "output_type": "display_data"
    }
   ],
   "source": [
    "fig, axes = plt.subplots(1, 1, figsize=(5, 4.5))\n",
    "plot.plot_hyperparam_cv(model.cv_loss_df, axes, x='log_beta', y='loss', show_folds=True,\n",
    "                        xlabel=r'$\\log\\beta$', ylabel=r'$-log(\\L)$', highlight='min')"
   ]
  },
  {
   "cell_type": "code",
   "execution_count": 20,
   "id": "7e901ebc",
   "metadata": {},
   "outputs": [],
   "source": [
    "x = np.arange(0, lambdas.shape[0])\n",
    "variance = model.lambdas_to_variance(lambdas)\n",
    "p_variance = variance / variance.sum() * 100"
   ]
  },
  {
   "cell_type": "code",
   "execution_count": 21,
   "id": "f2037d9b",
   "metadata": {},
   "outputs": [
    {
     "data": {
      "image/png": "[encoded data removed]",
      "text/plain": [
       "<Figure size 504x252 with 2 Axes>"
      ]
     },
     "metadata": {},
     "output_type": "display_data"
    }
   ],
   "source": [
    "fig, subplots = plot.init_fig(1, 2, colsize=3.5, rowsize=3.5)\n",
    "\n",
    "axes = subplots[0]\n",
    "sns.barplot(x=x, y=lambdas, ax=axes, color='black')\n",
    "axes.set(xlabel='$k$', ylabel='$\\lambda_k$', yscale='log')\n",
    "\n",
    "axes = subplots[1]\n",
    "sns.barplot(x=x[1:], y=p_variance, ax=axes, color='black')\n",
    "axes.set(xlabel='$k$', ylabel='% variance explained', ylim=(0, 100), xticks=[1, 2, 3])\n",
    "\n",
    "fig.tight_layout()"
   ]
  },
  {
   "cell_type": "markdown",
   "id": "281407df",
   "metadata": {},
   "source": [
    "### Inferring the complete GB1 landscape\n",
    "\n",
    "Now that we have inferred the variance components, we obtain inferences for the complete combinatorial landscape and check the prediction accuracy for the held-out test data. Moreover, we can also see the distribution of phenotypic values within and outside the data"
   ]
  },
  {
   "cell_type": "code",
   "execution_count": 22,
   "id": "d74cd75d",
   "metadata": {},
   "outputs": [
    {
     "data": {
      "text/html": [
       "<div>\n",
       "<style scoped>\n",
       "    .dataframe tbody tr th:only-of-type {\n",
       "        vertical-align: middle;\n",
       "    }\n",
       "\n",
       "    .dataframe tbody tr th {\n",
       "        vertical-align: top;\n",
       "    }\n",
       "\n",
       "    .dataframe thead th {\n",
       "        text-align: right;\n",
       "    }\n",
       "</style>\n",
       "<table border=\"1\" class=\"dataframe\">\n",
       "  <thead>\n",
       "    <tr style=\"text-align: right;\">\n",
       "      <th></th>\n",
       "      <th>ypred</th>\n",
       "      <th>y</th>\n",
       "      <th>y_var</th>\n",
       "    </tr>\n",
       "  </thead>\n",
       "  <tbody>\n",
       "    <tr>\n",
       "      <th>AAAA</th>\n",
       "      <td>-0.148634</td>\n",
       "      <td>0.460831</td>\n",
       "      <td>0.046009</td>\n",
       "    </tr>\n",
       "    <tr>\n",
       "      <th>AAAC</th>\n",
       "      <td>-3.077732</td>\n",
       "      <td>NaN</td>\n",
       "      <td>NaN</td>\n",
       "    </tr>\n",
       "    <tr>\n",
       "      <th>AAAD</th>\n",
       "      <td>-3.265338</td>\n",
       "      <td>NaN</td>\n",
       "      <td>NaN</td>\n",
       "    </tr>\n",
       "    <tr>\n",
       "      <th>AAAE</th>\n",
       "      <td>-3.884423</td>\n",
       "      <td>NaN</td>\n",
       "      <td>NaN</td>\n",
       "    </tr>\n",
       "    <tr>\n",
       "      <th>AAAF</th>\n",
       "      <td>-2.900805</td>\n",
       "      <td>NaN</td>\n",
       "      <td>NaN</td>\n",
       "    </tr>\n",
       "    <tr>\n",
       "      <th>...</th>\n",
       "      <td>...</td>\n",
       "      <td>...</td>\n",
       "      <td>...</td>\n",
       "    </tr>\n",
       "    <tr>\n",
       "      <th>YYYS</th>\n",
       "      <td>-4.656507</td>\n",
       "      <td>-5.269987</td>\n",
       "      <td>0.291090</td>\n",
       "    </tr>\n",
       "    <tr>\n",
       "      <th>YYYT</th>\n",
       "      <td>-3.055573</td>\n",
       "      <td>-3.821426</td>\n",
       "      <td>0.074489</td>\n",
       "    </tr>\n",
       "    <tr>\n",
       "      <th>YYYV</th>\n",
       "      <td>-3.237321</td>\n",
       "      <td>-3.143536</td>\n",
       "      <td>0.074682</td>\n",
       "    </tr>\n",
       "    <tr>\n",
       "      <th>YYYW</th>\n",
       "      <td>-5.199626</td>\n",
       "      <td>-4.306581</td>\n",
       "      <td>0.699467</td>\n",
       "    </tr>\n",
       "    <tr>\n",
       "      <th>YYYY</th>\n",
       "      <td>-5.298501</td>\n",
       "      <td>-4.429813</td>\n",
       "      <td>0.417405</td>\n",
       "    </tr>\n",
       "  </tbody>\n",
       "</table>\n",
       "<p>160000 rows × 3 columns</p>\n",
       "</div>"
      ],
      "text/plain": [
       "         ypred         y     y_var\n",
       "AAAA -0.148634  0.460831  0.046009\n",
       "AAAC -3.077732       NaN       NaN\n",
       "AAAD -3.265338       NaN       NaN\n",
       "AAAE -3.884423       NaN       NaN\n",
       "AAAF -2.900805       NaN       NaN\n",
       "...        ...       ...       ...\n",
       "YYYS -4.656507 -5.269987  0.291090\n",
       "YYYT -3.055573 -3.821426  0.074489\n",
       "YYYV -3.237321 -3.143536  0.074682\n",
       "YYYW -5.199626 -4.306581  0.699467\n",
       "YYYY -5.298501 -4.429813  0.417405\n",
       "\n",
       "[160000 rows x 3 columns]"
      ]
     },
     "execution_count": 22,
     "metadata": {},
     "output_type": "execute_result"
    }
   ],
   "source": [
    "pred = model.predict().join(data)\n",
    "pred"
   ]
  },
  {
   "cell_type": "code",
   "execution_count": 23,
   "id": "06a1ec7f",
   "metadata": {},
   "outputs": [
    {
     "data": {
      "image/png": "[encoded data removed]",
      "text/plain": [
       "<Figure size 576x288 with 2 Axes>"
      ]
     },
     "metadata": {},
     "output_type": "display_data"
    }
   ],
   "source": [
    "test = pred.loc[X_test, :]\n",
    "r2 = pearsonr(test['ypred'], test['y'])[0] ** 2\n",
    "\n",
    "fig, subplots = plt.subplots(1, 2, figsize=(8, 4))\n",
    "\n",
    "axes = subplots[0]\n",
    "lim = (-9, 5)\n",
    "sns.histplot(x=test['ypred'], y=test['y'], cmap='viridis', ax=axes)\n",
    "axes.plot(lim, lim, lw=0.5, linestyle='--', c='black')\n",
    "axes.set(xlabel=r'$y_{pred}$', ylabel=r'$y_{obs}$',\n",
    "         xlim=lim, ylim=lim, aspect=1)\n",
    "axes.text(-8, 4, r'$R^2$=' + '{:.3f}'.format(r2))\n",
    "\n",
    "axes = subplots[1]\n",
    "sns.histplot(pred.dropna()['ypred'], ax=axes, label='Observed',\n",
    "             alpha=0.5, stat='percent', bins=50, color='purple')\n",
    "sns.histplot(pred.loc[np.isnan(pred['y']), 'ypred'], ax=axes, label='New',\n",
    "             alpha=0.5, stat='percent', bins=50, color='orange')\n",
    "axes.legend(loc=0)\n",
    "axes.set(xlabel=r'$y_{pred}$', ylabel='% of sequences')\n",
    "\n",
    "fig.tight_layout()"
   ]
  }
 ],
 "metadata": {
  "kernelspec": {
   "display_name": "Python 3 (ipykernel)",
   "language": "python",
   "name": "python3"
  },
  "language_info": {
   "codemirror_mode": {
    "name": "ipython",
    "version": 3
   },
   "file_extension": ".py",
   "mimetype": "text/x-python",
   "name": "python",
   "nbconvert_exporter": "python",
   "pygments_lexer": "ipython3",
   "version": "3.7.11"
  }
 },
 "nbformat": 4,
 "nbformat_minor": 5
}
