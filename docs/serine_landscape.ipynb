{
 "cells": [
  {
   "cell_type": "markdown",
   "id": "34f8877d",
   "metadata": {},
   "source": [
    "# Serine codon landscape\n",
    "\n",
    "Serine is the only aminoacid that is encoded by two sets of mutationally disconnected codons under the standard genetic code.\n",
    "\n",
    "- AGY: {AGU,AGC}\n",
    "- UCN: {UCA,UCC,UCG,UCU}\n",
    "\n",
    "This leads to a landscape with two isolated fitness peaks that we can easily visualize\n",
    "\n",
    "## 1. Defining the discrete space\n",
    "\n",
    "The first thing we need to do is to define the discrete space for the evolutionary random walk. While we provide a generic class DiscreteSpace to define an arbitrary discrete space based on the adjacency matrix and nodes properties on which the transition between states may depend, we are going to use the class SequenceSpace that has specific built-in properties and methods specifically for sequence space."
   ]
  },
  {
   "cell_type": "code",
   "execution_count": 1,
   "id": "9718fa10",
   "metadata": {},
   "outputs": [],
   "source": [
    "# Import required libraries\n",
    "import pandas as pd\n",
    "from gpmap.src.space import SequenceSpace"
   ]
  },
  {
   "cell_type": "markdown",
   "id": "748d49ea",
   "metadata": {},
   "source": [
    "After importing the required libraries, we can read the fitness values that we have previously generated. In this artificial example, we assigned fitnesses in the following way:\n",
    "\n",
    "- w=2 to codons encoding Serine\n",
    "- w=1 to codons encoding other aminoacides\n",
    "- w=0 to stop codons\n",
    "\n",
    "We also added some small perturbation to the fitnesses of the individual codons that could account for codon usage biases, but also allow better separation of the genotypes in the low dimensional representation. We provide different ways to generate this particular landscape\n",
    "\n",
    "### Direct sequence-function relationship\n"
   ]
  },
  {
   "cell_type": "code",
   "execution_count": 2,
   "id": "494b37e6",
   "metadata": {},
   "outputs": [
    {
     "data": {
      "text/html": [
       "<div>\n",
       "<style scoped>\n",
       "    .dataframe tbody tr th:only-of-type {\n",
       "        vertical-align: middle;\n",
       "    }\n",
       "\n",
       "    .dataframe tbody tr th {\n",
       "        vertical-align: top;\n",
       "    }\n",
       "\n",
       "    .dataframe thead th {\n",
       "        text-align: right;\n",
       "    }\n",
       "</style>\n",
       "<table border=\"1\" class=\"dataframe\">\n",
       "  <thead>\n",
       "    <tr style=\"text-align: right;\">\n",
       "      <th></th>\n",
       "      <th>function</th>\n",
       "    </tr>\n",
       "  </thead>\n",
       "  <tbody>\n",
       "    <tr>\n",
       "      <th>AAA</th>\n",
       "      <td>1.176405</td>\n",
       "    </tr>\n",
       "    <tr>\n",
       "      <th>AAC</th>\n",
       "      <td>1.040016</td>\n",
       "    </tr>\n",
       "    <tr>\n",
       "      <th>AAG</th>\n",
       "      <td>1.097874</td>\n",
       "    </tr>\n",
       "    <tr>\n",
       "      <th>AAU</th>\n",
       "      <td>1.224089</td>\n",
       "    </tr>\n",
       "    <tr>\n",
       "      <th>ACA</th>\n",
       "      <td>1.186756</td>\n",
       "    </tr>\n",
       "  </tbody>\n",
       "</table>\n",
       "</div>"
      ],
      "text/plain": [
       "     function\n",
       "AAA  1.176405\n",
       "AAC  1.040016\n",
       "AAG  1.097874\n",
       "AAU  1.224089\n",
       "ACA  1.186756"
      ]
     },
     "execution_count": 2,
     "metadata": {},
     "output_type": "execute_result"
    }
   ],
   "source": [
    "fpath = '../gpmap/test/data/serine.csv'\n",
    "data = pd.read_csv(fpath, index_col=0)\n",
    "data.head()"
   ]
  },
  {
   "cell_type": "markdown",
   "id": "d180e93c",
   "metadata": {},
   "source": [
    "We can see the simple table that just stores the function value for each sequence, that we will use to create a SequenceSpace object, that has a number of attributes such as number of states, allelese or the alphabet_type, in this case 'rna'"
   ]
  },
  {
   "cell_type": "code",
   "execution_count": 3,
   "id": "8361cab8",
   "metadata": {},
   "outputs": [
    {
     "data": {
      "text/plain": [
       "(64, [4, 4, 4], 'rna')"
      ]
     },
     "execution_count": 3,
     "metadata": {},
     "output_type": "execute_result"
    }
   ],
   "source": [
    "space = SequenceSpace(seq_length=3, alphabet_type='rna', function=data['function'])\n",
    "space.n_states, space.n_alleles, space.alphabet_type"
   ]
  },
  {
   "cell_type": "markdown",
   "id": "097b2c4d",
   "metadata": {},
   "source": [
    "### Using codon model\n",
    "\n",
    "Sometimes we may not be able to differentiate between the function or fitnesses of different codons encoding the same aminoacid, but still want to take into account the connectivity at the nucleotide level for visualizing the landscape as in a codon model of evolution.\n",
    "\n",
    "The following table contains the fitnesses associated to each of the 20 aminoacids"
   ]
  },
  {
   "cell_type": "code",
   "execution_count": 4,
   "id": "91b1bfcf",
   "metadata": {},
   "outputs": [
    {
     "data": {
      "text/html": [
       "<div>\n",
       "<style scoped>\n",
       "    .dataframe tbody tr th:only-of-type {\n",
       "        vertical-align: middle;\n",
       "    }\n",
       "\n",
       "    .dataframe tbody tr th {\n",
       "        vertical-align: top;\n",
       "    }\n",
       "\n",
       "    .dataframe thead th {\n",
       "        text-align: right;\n",
       "    }\n",
       "</style>\n",
       "<table border=\"1\" class=\"dataframe\">\n",
       "  <thead>\n",
       "    <tr style=\"text-align: right;\">\n",
       "      <th></th>\n",
       "      <th>function</th>\n",
       "    </tr>\n",
       "    <tr>\n",
       "      <th>protein</th>\n",
       "      <th></th>\n",
       "    </tr>\n",
       "  </thead>\n",
       "  <tbody>\n",
       "    <tr>\n",
       "      <th>A</th>\n",
       "      <td>1</td>\n",
       "    </tr>\n",
       "    <tr>\n",
       "      <th>C</th>\n",
       "      <td>1</td>\n",
       "    </tr>\n",
       "    <tr>\n",
       "      <th>D</th>\n",
       "      <td>1</td>\n",
       "    </tr>\n",
       "    <tr>\n",
       "      <th>E</th>\n",
       "      <td>1</td>\n",
       "    </tr>\n",
       "    <tr>\n",
       "      <th>F</th>\n",
       "      <td>1</td>\n",
       "    </tr>\n",
       "    <tr>\n",
       "      <th>G</th>\n",
       "      <td>1</td>\n",
       "    </tr>\n",
       "    <tr>\n",
       "      <th>H</th>\n",
       "      <td>1</td>\n",
       "    </tr>\n",
       "    <tr>\n",
       "      <th>I</th>\n",
       "      <td>1</td>\n",
       "    </tr>\n",
       "    <tr>\n",
       "      <th>K</th>\n",
       "      <td>1</td>\n",
       "    </tr>\n",
       "    <tr>\n",
       "      <th>L</th>\n",
       "      <td>1</td>\n",
       "    </tr>\n",
       "    <tr>\n",
       "      <th>M</th>\n",
       "      <td>1</td>\n",
       "    </tr>\n",
       "    <tr>\n",
       "      <th>N</th>\n",
       "      <td>1</td>\n",
       "    </tr>\n",
       "    <tr>\n",
       "      <th>P</th>\n",
       "      <td>1</td>\n",
       "    </tr>\n",
       "    <tr>\n",
       "      <th>Q</th>\n",
       "      <td>1</td>\n",
       "    </tr>\n",
       "    <tr>\n",
       "      <th>R</th>\n",
       "      <td>1</td>\n",
       "    </tr>\n",
       "    <tr>\n",
       "      <th>S</th>\n",
       "      <td>2</td>\n",
       "    </tr>\n",
       "    <tr>\n",
       "      <th>T</th>\n",
       "      <td>1</td>\n",
       "    </tr>\n",
       "    <tr>\n",
       "      <th>V</th>\n",
       "      <td>1</td>\n",
       "    </tr>\n",
       "    <tr>\n",
       "      <th>W</th>\n",
       "      <td>1</td>\n",
       "    </tr>\n",
       "    <tr>\n",
       "      <th>Y</th>\n",
       "      <td>1</td>\n",
       "    </tr>\n",
       "  </tbody>\n",
       "</table>\n",
       "</div>"
      ],
      "text/plain": [
       "         function\n",
       "protein          \n",
       "A               1\n",
       "C               1\n",
       "D               1\n",
       "E               1\n",
       "F               1\n",
       "G               1\n",
       "H               1\n",
       "I               1\n",
       "K               1\n",
       "L               1\n",
       "M               1\n",
       "N               1\n",
       "P               1\n",
       "Q               1\n",
       "R               1\n",
       "S               2\n",
       "T               1\n",
       "V               1\n",
       "W               1\n",
       "Y               1"
      ]
     },
     "execution_count": 4,
     "metadata": {},
     "output_type": "execute_result"
    }
   ],
   "source": [
    "protein_data = pd.read_csv('../gpmap/test/data/serine.protein.csv', index_col=0)\n",
    "protein_data"
   ]
  },
  {
   "cell_type": "code",
   "execution_count": 5,
   "id": "d1a6b9ca",
   "metadata": {},
   "outputs": [
    {
     "data": {
      "text/plain": [
       "(64, [4, 4, 4], 'rna')"
      ]
     },
     "execution_count": 5,
     "metadata": {},
     "output_type": "execute_result"
    }
   ],
   "source": [
    "space = SequenceSpace(seq_length=3, alphabet_type='rna', function=protein_data['function'],\n",
    "                      codon_table='Standard', stop_function=0)\n",
    "space.n_states, space.n_alleles, space.alphabet_type"
   ]
  },
  {
   "cell_type": "markdown",
   "id": "1a7e2144",
   "metadata": {},
   "source": [
    "### Using CodonSpace class\n",
    "\n",
    "We also provide a more generic CodonSpace class that does this operation for us so that we only need to provide the aminoacid(s) are are going to be under selection, enabling also to visualizing the structure of the landscape corresponding to aminoacids with certain properties"
   ]
  },
  {
   "cell_type": "code",
   "execution_count": 6,
   "id": "3edfb4b9",
   "metadata": {},
   "outputs": [],
   "source": [
    "from gpmap.src.space import CodonSpace"
   ]
  },
  {
   "cell_type": "code",
   "execution_count": 7,
   "id": "5ad83b01",
   "metadata": {},
   "outputs": [
    {
     "data": {
      "text/plain": [
       "(64, [4, 4, 4], 'rna')"
      ]
     },
     "execution_count": 7,
     "metadata": {},
     "output_type": "execute_result"
    }
   ],
   "source": [
    "space = CodonSpace(allowed_aminoacids=['S'], codon_table='Standard', add_variation=True, seed=0)\n",
    "space.n_states, space.n_alleles, space.alphabet_type"
   ]
  },
  {
   "cell_type": "markdown",
   "id": "98a5d6e8",
   "metadata": {},
   "source": [
    "Note that we could also test how these landscapes would change under different genetic codes other than the standard. We use biopython module to translate the nucleotide sequence into protein sequence using [NCBI reference](https://www.ncbi.nlm.nih.gov/Taxonomy/Utils/wprintgc.cgi) for different codon tables or genetic codes\n",
    "\n",
    "## 2. Defining the random walk on the discrete sequence space\n",
    "\n",
    "\n",
    "### Evolutionary model\n",
    "\n",
    "Now we can define an evolutionary random walk on the graph representing our sequence space. For convenience, we assume a Weak Selection Weak Mutation model of evolution, such that mutations are always fixed or lost before a new mutation arises. In other words, the population is polymorphic in only one site during a specific period of time. \n",
    "\n",
    "As we often want to visualize sequence-function relationships rather than direct organismal fitness, we generally assume a linear relationship between function and fitness, controled by the selective coefficient $s$. Given an effective population size of $N$ under uniform mutation rates, the substitution rate is given by\n",
    "\n",
    "$$\n",
    "Q_{ij} =\n",
    "\\begin{cases}\n",
    "    \\frac{Ns(f_j - f_i)}{1 - e^{-Ns(f_j - f_i)}} & \\text{if i and j are neighbors}\\\\\n",
    "    -\\sum_{k \\neq i} Q_{ik} & \\text{if } i=j\\\\\n",
    "    0 & \\text{otherwise}\n",
    "\\end{cases}\n",
    "$$\n",
    "\n",
    "If we obtain the eigendecomposition of $\\mathbf{Q}$\n",
    "\n",
    "$$\n",
    "\\mathbf{Q} = \\sum_m \\lambda_m r_m l_m^T\n",
    "$$\n",
    "\n",
    "We can calculate the transition matrix after some time $t$\n",
    "\n",
    "$$\n",
    "P = e^{Qt} = \\sum_m e^{\\lambda_m t} r_m l_m^T\n",
    "$$\n",
    "\n",
    "If we now condition on starting at genotype $i$ and knowing that $r_1 = 1$ and $l_1 = \\pi$ and $\\lambda_1 = 0$\n",
    "\n",
    "$$\n",
    "P_i = \\sum_m e^{\\lambda_m t} r_{m,i} l_m^T = e^{\\lambda_1 t} r_{1,i} l_1^T + \\sum_{m=2} e^{\\lambda_m t} r_{m,i} l_m^T = \\pi + \\sum_{m=2} e^{\\lambda_m t} r_{m,i} l_m^T\n",
    "$$\n",
    "\n",
    "We can see how the right eigenvalues provide an idea of the weight of the slowly decaying components (small $\\lambda$s) depending on the starting genotype.\n",
    "\n",
    "We can calculate the projection coordinates $u_k$ normalizing the right eigenvectors by the decay rates $\\frac{-1}{\\lambda_k}$.\n",
    "\n",
    "$$\n",
    "u_k = \\frac{r_k}{\\sqrt{-\\lambda}}\n",
    "$$\n",
    "\n",
    "This way, the sum of square distances in the low dimensional representation approximates the conmute times between every pair of genotypes ($H_{ij} + H_{ji}$) without having to calculate the whole matrix to generate an embedding. \n",
    "\n",
    "$$\n",
    "H_{ij} + H_{ji} = \\sum_{k=2} (u_{k,j} - u_{k,i})^2\n",
    "$$\n",
    "\n",
    "### Calculating the coordinates of the visualization\n",
    "\n",
    "In practice, once we have defined our discrete space, we just need to define an additional random walk on it and numerically calculate the propertly scaled right eigenvectors"
   ]
  },
  {
   "cell_type": "code",
   "execution_count": 10,
   "id": "b664cdc5",
   "metadata": {},
   "outputs": [],
   "source": [
    "from gpmap.src.randwalk import WMWSWalk"
   ]
  },
  {
   "cell_type": "code",
   "execution_count": 11,
   "id": "3a931643",
   "metadata": {},
   "outputs": [],
   "source": [
    "rw = WMWSWalk(space)"
   ]
  },
  {
   "cell_type": "markdown",
   "id": "30152b1e",
   "metadata": {},
   "source": [
    " There are 3 different ways in which we can provide the scaled effective population size $Ns$:\n",
    " \n",
    " - Directly through the Ns argument\n",
    " - By selecting the expected mean function at stationarity, for instances by selecting the funcion of the wild-type sequence that was used for the experiment.\n",
    " - By selecting the percentile of expected mean function at stationarity among the values of all genotypes if we do not have a very clear reference of what could be a functional phenotype\n",
    " \n",
    "In this case, lets try with a mean function at stationarity of 1.5, which implies that a substantial probability would lie on the few genotypes with fitness 2 corresponding to the codons encoding Serine. We can later check what $Ns$ was required to reach that stationary function"
   ]
  },
  {
   "cell_type": "code",
   "execution_count": 17,
   "id": "2b3b8a27",
   "metadata": {},
   "outputs": [
    {
     "name": "stdout",
     "output_type": "stream",
     "text": [
      "Mean function at stationarity of 1.5 was reached at Ns=2.13\n"
     ]
    }
   ],
   "source": [
    "rw.calc_visualization(mean_function=1.5)\n",
    "print('Mean function at stationarity of 1.5 was reached at Ns={:.2f}'.format(rw.Ns))"
   ]
  },
  {
   "cell_type": "markdown",
   "id": "12801fca",
   "metadata": {},
   "source": [
    "We can also do the calculations specifying the $Ns=2.13$ and check the mean function at stationarity"
   ]
  },
  {
   "cell_type": "code",
   "execution_count": 18,
   "id": "ce6d8e11",
   "metadata": {},
   "outputs": [
    {
     "name": "stdout",
     "output_type": "stream",
     "text": [
      "Mean function at stationarity of 1.50\n"
     ]
    }
   ],
   "source": [
    "rw.calc_visualization(Ns=rw.Ns)\n",
    "print('Mean function at stationarity of {:.2f}'.format(rw.calc_stationary_mean_function()))"
   ]
  },
  {
   "cell_type": "markdown",
   "id": "94ad04cf",
   "metadata": {},
   "source": [
    "Now the coordinates of the embeding is stored in the attribute 'nodes_df' of the object WMWSWalk as a standard pandas DataFrame object that we can use for plotting"
   ]
  },
  {
   "cell_type": "code",
   "execution_count": 20,
   "id": "9d941c0c",
   "metadata": {},
   "outputs": [
    {
     "data": {
      "text/html": [
       "<div>\n",
       "<style scoped>\n",
       "    .dataframe tbody tr th:only-of-type {\n",
       "        vertical-align: middle;\n",
       "    }\n",
       "\n",
       "    .dataframe tbody tr th {\n",
       "        vertical-align: top;\n",
       "    }\n",
       "\n",
       "    .dataframe thead th {\n",
       "        text-align: right;\n",
       "    }\n",
       "</style>\n",
       "<table border=\"1\" class=\"dataframe\">\n",
       "  <thead>\n",
       "    <tr style=\"text-align: right;\">\n",
       "      <th></th>\n",
       "      <th>1</th>\n",
       "      <th>2</th>\n",
       "      <th>3</th>\n",
       "      <th>4</th>\n",
       "      <th>5</th>\n",
       "      <th>6</th>\n",
       "      <th>7</th>\n",
       "      <th>8</th>\n",
       "      <th>9</th>\n",
       "      <th>function</th>\n",
       "      <th>stationary_freq</th>\n",
       "    </tr>\n",
       "  </thead>\n",
       "  <tbody>\n",
       "    <tr>\n",
       "      <th>AAA</th>\n",
       "      <td>-0.407809</td>\n",
       "      <td>-0.868657</td>\n",
       "      <td>-0.077718</td>\n",
       "      <td>-0.881548</td>\n",
       "      <td>0.062915</td>\n",
       "      <td>-1.472113</td>\n",
       "      <td>-0.606878</td>\n",
       "      <td>0.747800</td>\n",
       "      <td>0.084495</td>\n",
       "      <td>1.176405</td>\n",
       "      <td>0.013284</td>\n",
       "    </tr>\n",
       "    <tr>\n",
       "      <th>AAC</th>\n",
       "      <td>-0.629546</td>\n",
       "      <td>-0.280195</td>\n",
       "      <td>0.609875</td>\n",
       "      <td>0.203410</td>\n",
       "      <td>0.112414</td>\n",
       "      <td>-0.803236</td>\n",
       "      <td>-0.580154</td>\n",
       "      <td>0.518404</td>\n",
       "      <td>0.318869</td>\n",
       "      <td>1.040016</td>\n",
       "      <td>0.009940</td>\n",
       "    </tr>\n",
       "    <tr>\n",
       "      <th>AAG</th>\n",
       "      <td>-0.391836</td>\n",
       "      <td>-0.755214</td>\n",
       "      <td>-0.062261</td>\n",
       "      <td>-0.091489</td>\n",
       "      <td>1.218857</td>\n",
       "      <td>-1.151346</td>\n",
       "      <td>-0.585332</td>\n",
       "      <td>0.711375</td>\n",
       "      <td>0.023780</td>\n",
       "      <td>1.097874</td>\n",
       "      <td>0.011241</td>\n",
       "    </tr>\n",
       "    <tr>\n",
       "      <th>AAU</th>\n",
       "      <td>-0.692525</td>\n",
       "      <td>-0.172760</td>\n",
       "      <td>-0.678345</td>\n",
       "      <td>0.175421</td>\n",
       "      <td>0.145847</td>\n",
       "      <td>-0.818042</td>\n",
       "      <td>-0.591270</td>\n",
       "      <td>0.594482</td>\n",
       "      <td>0.109684</td>\n",
       "      <td>1.224089</td>\n",
       "      <td>0.014702</td>\n",
       "    </tr>\n",
       "    <tr>\n",
       "      <th>ACA</th>\n",
       "      <td>0.249562</td>\n",
       "      <td>-0.195756</td>\n",
       "      <td>0.026722</td>\n",
       "      <td>-0.982567</td>\n",
       "      <td>-0.188218</td>\n",
       "      <td>-0.845135</td>\n",
       "      <td>0.357074</td>\n",
       "      <td>0.301585</td>\n",
       "      <td>0.056764</td>\n",
       "      <td>1.186756</td>\n",
       "      <td>0.013580</td>\n",
       "    </tr>\n",
       "  </tbody>\n",
       "</table>\n",
       "</div>"
      ],
      "text/plain": [
       "            1         2         3         4         5         6         7  \\\n",
       "AAA -0.407809 -0.868657 -0.077718 -0.881548  0.062915 -1.472113 -0.606878   \n",
       "AAC -0.629546 -0.280195  0.609875  0.203410  0.112414 -0.803236 -0.580154   \n",
       "AAG -0.391836 -0.755214 -0.062261 -0.091489  1.218857 -1.151346 -0.585332   \n",
       "AAU -0.692525 -0.172760 -0.678345  0.175421  0.145847 -0.818042 -0.591270   \n",
       "ACA  0.249562 -0.195756  0.026722 -0.982567 -0.188218 -0.845135  0.357074   \n",
       "\n",
       "            8         9  function  stationary_freq  \n",
       "AAA  0.747800  0.084495  1.176405         0.013284  \n",
       "AAC  0.518404  0.318869  1.040016         0.009940  \n",
       "AAG  0.711375  0.023780  1.097874         0.011241  \n",
       "AAU  0.594482  0.109684  1.224089         0.014702  \n",
       "ACA  0.301585  0.056764  1.186756         0.013580  "
      ]
     },
     "execution_count": 20,
     "metadata": {},
     "output_type": "execute_result"
    }
   ],
   "source": [
    "rw.nodes_df.head()"
   ]
  },
  {
   "cell_type": "markdown",
   "id": "b4029262",
   "metadata": {},
   "source": [
    "## 3. Visualizing the landscape\n",
    "\n",
    "As the output of the visualization is a simple dataframe with the coordinates, it allows plotting with any library or other programming language. However, we also provide some functions to facilitate the user this job using different libraries for different funcitonalities\n",
    "\n",
    "- [matplotlib](https://matplotlib.org/) for regular plots\n",
    "- [plotly](https://plotly.com/python/) for interactive plots\n",
    "- [datashader](https://datashader.org/) for fast rendering of large landscapes"
   ]
  },
  {
   "cell_type": "code",
   "execution_count": 21,
   "id": "005e28cd",
   "metadata": {},
   "outputs": [
    {
     "ename": "ImportError",
     "evalue": "cannot import name 'translante_seqs'",
     "output_type": "error",
     "traceback": [
      "\u001b[0;31m---------------------------------------------------------------------------\u001b[0m",
      "\u001b[0;31mImportError\u001b[0m                               Traceback (most recent call last)",
      "\u001b[0;32m<ipython-input-21-e2e5b9d8609c>\u001b[0m in \u001b[0;36m<module>\u001b[0;34m\u001b[0m\n\u001b[0;32m----> 1\u001b[0;31m \u001b[0;32mimport\u001b[0m \u001b[0mgpmap\u001b[0m\u001b[0;34m.\u001b[0m\u001b[0msrc\u001b[0m\u001b[0;34m.\u001b[0m\u001b[0mplot\u001b[0m \u001b[0;32mas\u001b[0m \u001b[0mplot\u001b[0m\u001b[0;34m\u001b[0m\u001b[0;34m\u001b[0m\u001b[0m\n\u001b[0m",
      "\u001b[0;32m~/Programs/miniconda3/envs/rna/lib/python3.6/site-packages/gpmap_tools-0.1.0-py3.6.egg/gpmap/src/plot.py\u001b[0m in \u001b[0;36m<module>\u001b[0;34m\u001b[0m\n\u001b[1;32m     17\u001b[0m \u001b[0;34m\u001b[0m\u001b[0m\n\u001b[1;32m     18\u001b[0m \u001b[0;32mfrom\u001b[0m \u001b[0mgpmap\u001b[0m\u001b[0;34m.\u001b[0m\u001b[0msettings\u001b[0m \u001b[0;32mimport\u001b[0m \u001b[0mPLOTS_FORMAT\u001b[0m\u001b[0;34m,\u001b[0m \u001b[0mPROT_AMBIGUOUS_VALUES\u001b[0m\u001b[0;34m,\u001b[0m \u001b[0mAMBIGUOUS_VALUES\u001b[0m\u001b[0;34m\u001b[0m\u001b[0;34m\u001b[0m\u001b[0m\n\u001b[0;32m---> 19\u001b[0;31m \u001b[0;32mfrom\u001b[0m \u001b[0mgpmap\u001b[0m\u001b[0;34m.\u001b[0m\u001b[0mutils\u001b[0m \u001b[0;32mimport\u001b[0m \u001b[0mtranslante_seqs\u001b[0m\u001b[0;34m,\u001b[0m \u001b[0mguess_configuration\u001b[0m\u001b[0;34m\u001b[0m\u001b[0;34m\u001b[0m\u001b[0m\n\u001b[0m\u001b[1;32m     20\u001b[0m \u001b[0;32mfrom\u001b[0m \u001b[0mgpmap\u001b[0m\u001b[0;34m.\u001b[0m\u001b[0mbase\u001b[0m \u001b[0;32mimport\u001b[0m \u001b[0mextend_ambigous_seq\u001b[0m\u001b[0;34m\u001b[0m\u001b[0;34m\u001b[0m\u001b[0m\n\u001b[1;32m     21\u001b[0m \u001b[0;34m\u001b[0m\u001b[0m\n",
      "\u001b[0;31mImportError\u001b[0m: cannot import name 'translante_seqs'"
     ]
    }
   ],
   "source": [
    "import gpmap.src.plot as plot"
   ]
  },
  {
   "cell_type": "markdown",
   "id": "2b87fa15",
   "metadata": {},
   "source": [
    "### Using matplotlib"
   ]
  },
  {
   "cell_type": "code",
   "execution_count": null,
   "id": "45fedafa",
   "metadata": {},
   "outputs": [],
   "source": []
  }
 ],
 "metadata": {
  "kernelspec": {
   "display_name": "Python 3",
   "language": "python",
   "name": "python3"
  },
  "language_info": {
   "codemirror_mode": {
    "name": "ipython",
    "version": 3
   },
   "file_extension": ".py",
   "mimetype": "text/x-python",
   "name": "python",
   "nbconvert_exporter": "python",
   "pygments_lexer": "ipython3",
   "version": "3.6.13"
  }
 },
 "nbformat": 4,
 "nbformat_minor": 5
}
